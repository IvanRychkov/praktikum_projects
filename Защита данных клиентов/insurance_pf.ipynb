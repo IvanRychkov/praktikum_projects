{
 "cells": [
  {
   "cell_type": "markdown",
   "metadata": {},
   "source": [
    "# Проект: защита данных клиентов страховой компании "
   ]
  },
  {
   "cell_type": "markdown",
   "metadata": {},
   "source": [
    "**Цель**: Разработать такой метод преобразования персональных данных клиентов, чтобы по ним было сложно восстановить персональную информацию, но сохранилась возможность делать предсказания целевого признака без потери точности."
   ]
  },
  {
   "cell_type": "markdown",
   "metadata": {},
   "source": [
    "## 1. Изучение набора данных"
   ]
  },
  {
   "cell_type": "code",
   "execution_count": 1,
   "metadata": {},
   "outputs": [],
   "source": [
    "import pandas as pd\n",
    "import matplotlib.pyplot as plt\n",
    "import seaborn as sns\n",
    "import numpy as np\n",
    "from sklearn.linear_model import LinearRegression\n",
    "from sklearn.metrics import r2_score\n",
    "import warnings\n",
    "\n",
    "warnings.filterwarnings('ignore')"
   ]
  },
  {
   "cell_type": "markdown",
   "metadata": {},
   "source": [
    "🍏 Мы выполним проект оффлайн на **Mac**, и путь к датасету несколько отличается от Яндекс.Практикума. Учтём это исключение в функции, чтобы файл исправно открывался в обоих случаях."
   ]
  },
  {
   "cell_type": "code",
   "execution_count": 2,
   "metadata": {},
   "outputs": [],
   "source": [
    "# Открываем датафрейм\n",
    "data = pd.read_csv('../../../insurance/datasets/insurance.csv')"
   ]
  },
  {
   "cell_type": "markdown",
   "metadata": {},
   "source": [
    "ℹ️ Посмотрим, что из себя представляют данные."
   ]
  },
  {
   "cell_type": "code",
   "execution_count": 3,
   "metadata": {},
   "outputs": [
    {
     "name": "stdout",
     "output_type": "stream",
     "text": [
      "<class 'pandas.core.frame.DataFrame'>\n",
      "RangeIndex: 5000 entries, 0 to 4999\n",
      "Data columns (total 5 columns):\n",
      " #   Column             Non-Null Count  Dtype  \n",
      "---  ------             --------------  -----  \n",
      " 0   Пол                5000 non-null   int64  \n",
      " 1   Возраст            5000 non-null   float64\n",
      " 2   Зарплата           5000 non-null   float64\n",
      " 3   Члены семьи        5000 non-null   int64  \n",
      " 4   Страховые выплаты  5000 non-null   int64  \n",
      "dtypes: float64(2), int64(3)\n",
      "memory usage: 195.4 KB\n"
     ]
    }
   ],
   "source": [
    "data.info()"
   ]
  },
  {
   "cell_type": "code",
   "execution_count": 4,
   "metadata": {},
   "outputs": [],
   "source": [
    "# Переименуем столбцы\n",
    "data.columns=['is_male', 'age', 'salary', 'relatives', 'times_paid']"
   ]
  },
  {
   "cell_type": "code",
   "execution_count": 5,
   "metadata": {},
   "outputs": [
    {
     "data": {
      "text/html": [
       "<div>\n",
       "<style scoped>\n",
       "    .dataframe tbody tr th:only-of-type {\n",
       "        vertical-align: middle;\n",
       "    }\n",
       "\n",
       "    .dataframe tbody tr th {\n",
       "        vertical-align: top;\n",
       "    }\n",
       "\n",
       "    .dataframe thead th {\n",
       "        text-align: right;\n",
       "    }\n",
       "</style>\n",
       "<table border=\"1\" class=\"dataframe\">\n",
       "  <thead>\n",
       "    <tr style=\"text-align: right;\">\n",
       "      <th></th>\n",
       "      <th>is_male</th>\n",
       "      <th>age</th>\n",
       "      <th>salary</th>\n",
       "      <th>relatives</th>\n",
       "      <th>times_paid</th>\n",
       "    </tr>\n",
       "  </thead>\n",
       "  <tbody>\n",
       "    <tr>\n",
       "      <th>0</th>\n",
       "      <td>1</td>\n",
       "      <td>41.0</td>\n",
       "      <td>49600.0</td>\n",
       "      <td>1</td>\n",
       "      <td>0</td>\n",
       "    </tr>\n",
       "    <tr>\n",
       "      <th>1</th>\n",
       "      <td>0</td>\n",
       "      <td>46.0</td>\n",
       "      <td>38000.0</td>\n",
       "      <td>1</td>\n",
       "      <td>1</td>\n",
       "    </tr>\n",
       "    <tr>\n",
       "      <th>2</th>\n",
       "      <td>0</td>\n",
       "      <td>29.0</td>\n",
       "      <td>21000.0</td>\n",
       "      <td>0</td>\n",
       "      <td>0</td>\n",
       "    </tr>\n",
       "    <tr>\n",
       "      <th>3</th>\n",
       "      <td>0</td>\n",
       "      <td>21.0</td>\n",
       "      <td>41700.0</td>\n",
       "      <td>2</td>\n",
       "      <td>0</td>\n",
       "    </tr>\n",
       "    <tr>\n",
       "      <th>4</th>\n",
       "      <td>1</td>\n",
       "      <td>28.0</td>\n",
       "      <td>26100.0</td>\n",
       "      <td>0</td>\n",
       "      <td>0</td>\n",
       "    </tr>\n",
       "  </tbody>\n",
       "</table>\n",
       "</div>"
      ],
      "text/plain": [
       "   is_male   age   salary  relatives  times_paid\n",
       "0        1  41.0  49600.0          1           0\n",
       "1        0  46.0  38000.0          1           1\n",
       "2        0  29.0  21000.0          0           0\n",
       "3        0  21.0  41700.0          2           0\n",
       "4        1  28.0  26100.0          0           0"
      ]
     },
     "execution_count": 5,
     "metadata": {},
     "output_type": "execute_result"
    }
   ],
   "source": [
    "data.head()"
   ]
  },
  {
   "cell_type": "code",
   "execution_count": 6,
   "metadata": {},
   "outputs": [
    {
     "data": {
      "text/plain": [
       "153"
      ]
     },
     "execution_count": 6,
     "metadata": {},
     "output_type": "execute_result"
    }
   ],
   "source": [
    "# Проверим дубликаты\n",
    "data.duplicated().sum()"
   ]
  },
  {
   "cell_type": "markdown",
   "metadata": {},
   "source": [
    "- Столбцы переведены на английский.\n",
    "- Пропусков нет.\n",
    "- Типы данных уже соответствуют признакам, которые они описывают. Не будем с ними ничего делать. Тем более, что модель при предсказании всё равно работает с `float`.\n",
    "- Присутствуют дубликаты, но мы не будем их удалять, потому что у нас нет такой задачи.\n",
    "\n",
    "↔️ Разделим данные на признаки и целевой признак и преобразуем в векторы NumPy."
   ]
  },
  {
   "cell_type": "code",
   "execution_count": 7,
   "metadata": {},
   "outputs": [
    {
     "data": {
      "text/plain": [
       "(array([[1.00e+00, 4.10e+01, 4.96e+04, 1.00e+00],\n",
       "        [0.00e+00, 4.60e+01, 3.80e+04, 1.00e+00],\n",
       "        [0.00e+00, 2.90e+01, 2.10e+04, 0.00e+00],\n",
       "        ...,\n",
       "        [0.00e+00, 2.00e+01, 3.39e+04, 2.00e+00],\n",
       "        [1.00e+00, 2.20e+01, 3.27e+04, 3.00e+00],\n",
       "        [1.00e+00, 2.80e+01, 4.06e+04, 1.00e+00]]),\n",
       " array([0, 1, 0, ..., 0, 0, 0]))"
      ]
     },
     "execution_count": 7,
     "metadata": {},
     "output_type": "execute_result"
    }
   ],
   "source": [
    "X = data.drop('times_paid', axis=1).values\n",
    "y = data.times_paid.values\n",
    "X, y"
   ]
  },
  {
   "cell_type": "code",
   "execution_count": 8,
   "metadata": {},
   "outputs": [],
   "source": [
    "def print_shapes(*arrays):\n",
    "    \"\"\"Принимает список массивов и печатает их размеры.\"\"\"\n",
    "    for a in arrays:\n",
    "        print(a.shape)"
   ]
  },
  {
   "cell_type": "code",
   "execution_count": 9,
   "metadata": {},
   "outputs": [
    {
     "name": "stdout",
     "output_type": "stream",
     "text": [
      "(5000, 4)\n",
      "(5000,)\n"
     ]
    }
   ],
   "source": [
    "print_shapes(X, y)"
   ]
  },
  {
   "cell_type": "markdown",
   "metadata": {},
   "source": [
    "---"
   ]
  },
  {
   "cell_type": "markdown",
   "metadata": {},
   "source": [
    "## 2. Умножение матриц\n",
    "Вопрос, на который мы будем искать ответ, будет звучать так: ***Признаки умножают на обратимую матрицу. Изменится ли качество линейной регрессии?***"
   ]
  },
  {
   "cell_type": "markdown",
   "metadata": {},
   "source": [
    "### Качество линейной регрессии без изменения признаков\n",
    "Прежде, чем выяснять, изменится ли качество линейной регрессии, мы зафиксируем качество регрессии на исходных данных без изменений."
   ]
  },
  {
   "cell_type": "code",
   "execution_count": 10,
   "metadata": {},
   "outputs": [],
   "source": [
    "class Linear_r2:\n",
    "    \"\"\"Обучает линейную регрессию на признаках, содержит поля 'R2' и 'модель'.\"\"\"\n",
    "    def __init__(self, features, target):\n",
    "        self.model = LinearRegression()\n",
    "        self.preds = self.model.fit(features, target).predict(features)\n",
    "        self.score = r2_score(target, self.preds)"
   ]
  },
  {
   "cell_type": "code",
   "execution_count": 11,
   "metadata": {},
   "outputs": [
    {
     "data": {
      "text/plain": [
       "0.4249455028666801"
      ]
     },
     "execution_count": 11,
     "metadata": {},
     "output_type": "execute_result"
    }
   ],
   "source": [
    "r2_initial = Linear_r2(X, y)\n",
    "r2_initial.score"
   ]
  },
  {
   "cell_type": "markdown",
   "metadata": {},
   "source": [
    "По умолчанию регрессия даёт R2 == *0.42*. Теперь мы знаем, от чего отталкиваться."
   ]
  },
  {
   "cell_type": "markdown",
   "metadata": {},
   "source": [
    "---"
   ]
  },
  {
   "cell_type": "markdown",
   "metadata": {},
   "source": [
    "### Качество линейной регрессии с трансформацией признаков\n",
    "Попробуем создать произвольную обратимую матрицу $P$ и умножить на неё наши признаки."
   ]
  },
  {
   "cell_type": "code",
   "execution_count": 12,
   "metadata": {},
   "outputs": [
    {
     "data": {
      "text/plain": [
       "array([[44, 47, 64, 67],\n",
       "       [67,  9, 83, 21],\n",
       "       [36, 87, 70, 88],\n",
       "       [88, 12, 58, 65]])"
      ]
     },
     "execution_count": 12,
     "metadata": {},
     "output_type": "execute_result"
    }
   ],
   "source": [
    "# Фиксируем случайное состояние\n",
    "np.random.seed(0)\n",
    "\n",
    "# Генерируем квадратную матрицу\n",
    "P = np.random.randint(100, size=(X.shape[1], X.shape[1]))\n",
    "P"
   ]
  },
  {
   "cell_type": "code",
   "execution_count": 13,
   "metadata": {},
   "outputs": [
    {
     "data": {
      "text/plain": [
       "array([[-0.08489421,  0.0109745 ,  0.0407572 ,  0.02878175],\n",
       "       [-0.09272562,  0.0138436 ,  0.05851608,  0.0118844 ],\n",
       "       [ 0.05834508,  0.00787096, -0.02912716, -0.02324955],\n",
       "       [ 0.07999051, -0.02443685, -0.03999156, -0.00502974]])"
      ]
     },
     "execution_count": 13,
     "metadata": {},
     "output_type": "execute_result"
    }
   ],
   "source": [
    "# Проверим, обратима ли матрица P\n",
    "P_inv = np.linalg.inv(P)\n",
    "P_inv\n",
    "# Да, обратима"
   ]
  },
  {
   "cell_type": "code",
   "execution_count": 14,
   "metadata": {},
   "outputs": [
    {
     "data": {
      "text/plain": [
       "(5000, 4)"
      ]
     },
     "execution_count": 14,
     "metadata": {},
     "output_type": "execute_result"
    }
   ],
   "source": [
    "# Преобразуем признаки через матрицу P\n",
    "X_transformed = X @ P\n",
    "X_transformed.shape"
   ]
  },
  {
   "cell_type": "code",
   "execution_count": 15,
   "metadata": {},
   "outputs": [
    {
     "data": {
      "text/plain": [
       "array([[1788479., 4315628., 3475525., 4365793.],\n",
       "       [1371170., 3306426., 2663876., 3345031.],\n",
       "       [ 757943., 1827261., 1472407., 1848609.],\n",
       "       [1502783., 3628113., 2920859., 3670171.],\n",
       "       [ 941520., 2270999., 1829388., 2297455.]])"
      ]
     },
     "execution_count": 15,
     "metadata": {},
     "output_type": "execute_result"
    }
   ],
   "source": [
    "X_transformed[:5]"
   ]
  },
  {
   "cell_type": "markdown",
   "metadata": {},
   "source": [
    "Обучим линейную регрессию и измерим её R2."
   ]
  },
  {
   "cell_type": "code",
   "execution_count": 16,
   "metadata": {},
   "outputs": [
    {
     "data": {
      "text/plain": [
       "0.42494550286668675"
      ]
     },
     "execution_count": 16,
     "metadata": {},
     "output_type": "execute_result"
    }
   ],
   "source": [
    "r2_transformed = Linear_r2(X_transformed, y)\n",
    "r2_transformed.score"
   ]
  },
  {
   "cell_type": "markdown",
   "metadata": {},
   "source": [
    "Значение R2 изменилось. Сильно ли? Сравним точности как `float`, держа в уме, что у этого типа данных ограниченная точность."
   ]
  },
  {
   "cell_type": "code",
   "execution_count": 17,
   "metadata": {},
   "outputs": [],
   "source": [
    "def float_equal(a, b, threshold=1e-6):\n",
    "    \"\"\"Проверяет равеноство двух float с использованием порога.\"\"\"\n",
    "    return np.abs(a - b) < threshold"
   ]
  },
  {
   "cell_type": "code",
   "execution_count": 18,
   "metadata": {},
   "outputs": [
    {
     "data": {
      "text/plain": [
       "True"
      ]
     },
     "execution_count": 18,
     "metadata": {},
     "output_type": "execute_result"
    }
   ],
   "source": [
    "float_equal(r2_transformed.score, r2_initial.score)"
   ]
  },
  {
   "cell_type": "markdown",
   "metadata": {},
   "source": [
    "✅ Как мы видим, **точность предсказаний не пострадала**.\n",
    "\n",
    "Попробуем понять, почему предсказания не ухудшились, хотя значения признаков стали совершенно нечеловекопонятными. Поищем доказательство того, что умножение на обратимую матрицу не влияет на предсказание. Используем для этого формулу предсказаний линейной регрессии."
   ]
  },
  {
   "cell_type": "markdown",
   "metadata": {},
   "source": [
    "Вектор предсказаний $a$ выглядит как матрица признаков $X$, умноженная на вектор весов $w$:\n",
    "\n",
    "$$\n",
    "a = Xw\n",
    "$$\n",
    "\n",
    "Значит, и вектор предсказаний при изменённых признаках $XP$ высчитывается по этой же формуле:\n",
    "\n",
    "\n",
    "$$\n",
    "a = XPw_{изм}\n",
    "$$\n",
    "\n",
    "Если предсказания равны при разных признаках, то мы имеем право **приравнять** их формулы:\n",
    "\n",
    "$$\n",
    "Xw = XPw_{изм}\n",
    "$$\n",
    "\n",
    "**Избавимся** от $X$ в обеих частях равенства, умножив их на $X^{-1}$:\n",
    "\n",
    "$$\n",
    "XX^{-1}w = XX^{-1}Pw_{изм}\n",
    "$$\n",
    "\n",
    "И получим простейшее равенство:\n",
    "\n",
    "$$\n",
    "w = Pw_{изм}, => w_{изм} = P^{-1}w\n",
    "$$\n",
    "\n",
    "Попробуем воссоздать последнее равенство в коде."
   ]
  },
  {
   "cell_type": "code",
   "execution_count": 19,
   "metadata": {},
   "outputs": [],
   "source": [
    "# Веса модели, обученной на изменённых признаках\n",
    "w_transformed = r2_transformed.model.coef_\n",
    "\n",
    "# Веса модели, обученной на исходных признаках\n",
    "w_initial = r2_initial.model.coef_"
   ]
  },
  {
   "cell_type": "markdown",
   "metadata": {},
   "source": [
    "Умножим матрицу $P^{-1}$ на вектор обычных весов и сравним с изменённым вектором весов."
   ]
  },
  {
   "cell_type": "code",
   "execution_count": 20,
   "metadata": {},
   "outputs": [
    {
     "data": {
      "text/plain": [
       "True"
      ]
     },
     "execution_count": 20,
     "metadata": {},
     "output_type": "execute_result"
    }
   ],
   "source": [
    "# Векторы весов должны совпасть\n",
    "all(float_equal(P_inv @ w_initial, w_transformed))"
   ]
  },
  {
   "cell_type": "markdown",
   "metadata": {},
   "source": [
    "✅ И да, они совпали, равенство выполняется. А теперь **самое интересное**:\n",
    "\n",
    "Если формула изменённых весов содержит в себе матрицу $P^{-1}$, то при предсказании матрица признаков преобразуется обратно в исходную:\n",
    "$$\n",
    "a = XPP^{-1}w = XEw = Xw\n",
    "$$\n",
    "\n",
    "Мы вернулись к первоначальной формуле."
   ]
  },
  {
   "cell_type": "markdown",
   "metadata": {},
   "source": [
    "### Что это всё означает?\n",
    "- Исследуя механизм предсказаний линейной регрессии, мы выяснили, что матрица-преобразователь $P$ в итоге **выпадает из конечной формулы** предсказания, потому что умножается на обратную себе матрицу и становится единичной матрицей $E$.\n",
    "- По такому же принципу мы могли *умножить все признаки на какой-нибудь случайный скаляр, а затем разделить на него же*. Но это упростило бы восстановление исходных значений.\n",
    "\n",
    "И нашим ответом будет: ***если умножить признаки на обратимую матрицу, качество линейной регрессии не изменится.***"
   ]
  },
  {
   "cell_type": "markdown",
   "metadata": {},
   "source": [
    "---"
   ]
  },
  {
   "cell_type": "markdown",
   "metadata": {},
   "source": [
    "### \\*Умножение признаков на необратимую матрицу\n",
    "💭 А что, если мы создадим **необратимую матрицу** и умножим признаки на неё? *Будет ли регрессия вообще работать?* Ведь если у нас получится, то мы зашифруем признаки так, что их уже не получится восстановить и похитить."
   ]
  },
  {
   "cell_type": "code",
   "execution_count": 21,
   "metadata": {},
   "outputs": [
    {
     "data": {
      "text/plain": [
       "array([[1., 1., 1., 1.],\n",
       "       [1., 1., 1., 1.],\n",
       "       [1., 1., 1., 1.],\n",
       "       [1., 1., 1., 1.]])"
      ]
     },
     "execution_count": 21,
     "metadata": {},
     "output_type": "execute_result"
    }
   ],
   "source": [
    "# Создадим матрицу из единиц\n",
    "ones = np.ones((4, 4))\n",
    "ones"
   ]
  },
  {
   "cell_type": "code",
   "execution_count": 22,
   "metadata": {},
   "outputs": [
    {
     "data": {
      "text/plain": [
       "array([[49643., 38047., 21029., ..., 33922., 32726., 40630.],\n",
       "       [49643., 38047., 21029., ..., 33922., 32726., 40630.],\n",
       "       [49643., 38047., 21029., ..., 33922., 32726., 40630.],\n",
       "       [49643., 38047., 21029., ..., 33922., 32726., 40630.]])"
      ]
     },
     "execution_count": 22,
     "metadata": {},
     "output_type": "execute_result"
    }
   ],
   "source": [
    "# Выполним умножение\n",
    "X_no_inv = X @ ones\n",
    "X_no_inv.T"
   ]
  },
  {
   "cell_type": "markdown",
   "metadata": {},
   "source": [
    "Пока что видим, что все столбцы матрицы признаков заполнились одинаковыми числами."
   ]
  },
  {
   "cell_type": "code",
   "execution_count": 23,
   "metadata": {},
   "outputs": [
    {
     "data": {
      "text/plain": [
       "0.00020770518345514244"
      ]
     },
     "execution_count": 23,
     "metadata": {},
     "output_type": "execute_result"
    }
   ],
   "source": [
    "Linear_r2(X_no_inv, y).score"
   ]
  },
  {
   "cell_type": "markdown",
   "metadata": {},
   "source": [
    "Как становится понятно из нашего эксперимента, умножение признаков на необратимую матрицу **ломает качество** модели и делает её совершенно бесполезной без возможности вернуть всё как было."
   ]
  },
  {
   "cell_type": "markdown",
   "metadata": {},
   "source": [
    "---"
   ]
  },
  {
   "cell_type": "markdown",
   "metadata": {},
   "source": [
    "## 3. Алгоритм преобразования\n",
    "🔐 Зная то, что мы узнали, мы можем написать класс, который будет:\n",
    "- Создавать случайную матрицу-ключ и запоминать её внутри себя как **приватное поле** `__P`, чтобы **нельзя** было **получить** к нему **доступ извне**,\n",
    "- **Шифровать и расшифровывать** матрицу признаков при помощи матрицы-ключа в стиле `sklearn`."
   ]
  },
  {
   "cell_type": "code",
   "execution_count": 24,
   "metadata": {},
   "outputs": [],
   "source": [
    "class RandomCipher:\n",
    "    \"\"\"Объект-шифровщик.\n",
    "    Преобразует данные, умножая их на случайную обратимую матрицу. Умеет восстанавливать данные \"\"\"\n",
    "    \n",
    "    def __init__(self, random_state=None):\n",
    "        \"\"\"random_state: фиксирует случайное состояние для случайной трансформации.\"\"\"\n",
    "        self.__rstate = random_state\n",
    "        \n",
    "    def fit(self, X):\n",
    "        \"\"\"Принимает матрицу и создаёт внутри себя матрицу-ключ.\"\"\" \n",
    "        self.__make_matrix(X)\n",
    "        return self   \n",
    "        \n",
    "    def transform(self, X):\n",
    "        \"\"\"Преобразует матрицу ключом.\"\"\"\n",
    "        return X @ self.__P\n",
    "    \n",
    "    def inverse_transform(self, X):\n",
    "        \"\"\"Умножает матрицу на обратную матрицу-ключ.\"\"\"\n",
    "        return X @ self.__P_inv\n",
    "    \n",
    "    def fit_transform(self, X):\n",
    "        \"\"\"Принимает на вход матрицу и преобразует её случайным образом.\"\"\"\n",
    "        self.fit(X)\n",
    "        return self.transform(X)\n",
    "    \n",
    "    def __make_matrix(self, X):\n",
    "        \"\"\"Создаёт случайную матрицу.\n",
    "        Пересоздаёт, если матрица необратима.\"\"\"\n",
    "        # Задаём случайное состояние, если оно указано при создании объекта\n",
    "        np.random.seed(self.__rstate)\n",
    "        \n",
    "        # Создаём квадратную матрицу заданного размера\n",
    "        self.__P = np.random.randint(1000, size=(X.shape[1], X.shape[1]))\n",
    "        \n",
    "        # С осторожностью находим обратную матрицу\n",
    "        try:\n",
    "            self.__P_inv = np.linalg.inv(self.__P)\n",
    "            \n",
    "        # Если нет обратной, повторяем\n",
    "        except np.linalg.LinAlgError:\n",
    "            self.__make_matrix(X)"
   ]
  },
  {
   "cell_type": "markdown",
   "metadata": {},
   "source": [
    "---"
   ]
  },
  {
   "cell_type": "markdown",
   "metadata": {},
   "source": [
    "## 4. Проверка алгоритма\n",
    "Посмотрим, как работает наш шифровщик. Попутно проверим, как работают модели с его применением. Не будем фиксировать случайное состояние: алгоритм должен срабатывать всегда."
   ]
  },
  {
   "cell_type": "code",
   "execution_count": 25,
   "metadata": {},
   "outputs": [],
   "source": [
    "# Создадим объект шифровщика\n",
    "mc = RandomCipher()"
   ]
  },
  {
   "cell_type": "code",
   "execution_count": 26,
   "metadata": {},
   "outputs": [
    {
     "data": {
      "text/plain": [
       "array([[1.00e+00, 4.10e+01, 4.96e+04, 1.00e+00],\n",
       "       [0.00e+00, 4.60e+01, 3.80e+04, 1.00e+00],\n",
       "       [0.00e+00, 2.90e+01, 2.10e+04, 0.00e+00],\n",
       "       ...,\n",
       "       [0.00e+00, 2.00e+01, 3.39e+04, 2.00e+00],\n",
       "       [1.00e+00, 2.20e+01, 3.27e+04, 3.00e+00],\n",
       "       [1.00e+00, 2.80e+01, 4.06e+04, 1.00e+00]])"
      ]
     },
     "execution_count": 26,
     "metadata": {},
     "output_type": "execute_result"
    }
   ],
   "source": [
    "X"
   ]
  },
  {
   "cell_type": "code",
   "execution_count": 27,
   "metadata": {},
   "outputs": [
    {
     "data": {
      "text/plain": [
       "array([[12667214., 26559973., 36743216., 35787317.],\n",
       "       [ 9710981., 20356369., 28163612., 27426107.],\n",
       "       [ 5368079., 11251124., 15567086., 15158632.],\n",
       "       ...,\n",
       "       [ 8653990., 18149206., 25105976., 24454338.],\n",
       "       [ 8349615., 17509495., 24220766., 23591143.],\n",
       "       [10366351., 21737745., 30071074., 29290413.]])"
      ]
     },
     "execution_count": 27,
     "metadata": {},
     "output_type": "execute_result"
    }
   ],
   "source": [
    "# Обучим его на исходных признаках\n",
    "X_ciphered = mc.fit_transform(X)\n",
    "X_ciphered"
   ]
  },
  {
   "cell_type": "code",
   "execution_count": 28,
   "metadata": {},
   "outputs": [
    {
     "data": {
      "text/plain": [
       "True"
      ]
     },
     "execution_count": 28,
     "metadata": {},
     "output_type": "execute_result"
    }
   ],
   "source": [
    "# Убедимся, что качество модели не изменилось\n",
    "float_equal(Linear_r2(X_ciphered, y).score, r2_initial.score)"
   ]
  },
  {
   "cell_type": "markdown",
   "metadata": {},
   "source": [
    "Качество модели не изменилось. Зато данные перестали быть понятными для человека.\n",
    "\n",
    "Проверим, как работает расшифровка."
   ]
  },
  {
   "cell_type": "code",
   "execution_count": 29,
   "metadata": {},
   "outputs": [
    {
     "data": {
      "text/plain": [
       "array([[ 1.00000000e+00,  4.10000000e+01,  4.96000000e+04,\n",
       "         1.00000000e+00],\n",
       "       [-7.27595761e-12,  4.60000000e+01,  3.80000000e+04,\n",
       "         1.00000000e+00],\n",
       "       [-1.81898940e-12,  2.90000000e+01,  2.10000000e+04,\n",
       "         3.63797881e-12],\n",
       "       ...,\n",
       "       [-3.63797881e-12,  2.00000000e+01,  3.39000000e+04,\n",
       "         2.00000000e+00],\n",
       "       [ 1.00000000e+00,  2.20000000e+01,  3.27000000e+04,\n",
       "         3.00000000e+00],\n",
       "       [ 1.00000000e+00,  2.80000000e+01,  4.06000000e+04,\n",
       "         1.00000000e+00]])"
      ]
     },
     "execution_count": 29,
     "metadata": {},
     "output_type": "execute_result"
    }
   ],
   "source": [
    "# Расшифруем данные\n",
    "X_deciphered = mc.inverse_transform(X_ciphered)\n",
    "X_deciphered"
   ]
  },
  {
   "cell_type": "markdown",
   "metadata": {},
   "source": [
    "Признаки выглядят похоже на исходные."
   ]
  },
  {
   "cell_type": "code",
   "execution_count": 30,
   "metadata": {},
   "outputs": [
    {
     "data": {
      "text/plain": [
       "True"
      ]
     },
     "execution_count": 30,
     "metadata": {},
     "output_type": "execute_result"
    }
   ],
   "source": [
    "# Сравним исходные и расшифрованные признаки как float\n",
    "np.all(float_equal(X, X_deciphered))"
   ]
  },
  {
   "cell_type": "code",
   "execution_count": 31,
   "metadata": {},
   "outputs": [
    {
     "data": {
      "text/plain": [
       "True"
      ]
     },
     "execution_count": 31,
     "metadata": {},
     "output_type": "execute_result"
    }
   ],
   "source": [
    "# Проверим качество на расшифрованных данных\n",
    "float_equal(Linear_r2(X_deciphered, y).score, r2_initial.score)"
   ]
  },
  {
   "cell_type": "markdown",
   "metadata": {},
   "source": [
    "Что бы мы ни делали с данными, регрессия даёт одинаковый результат. А значит, что наш класс работает верно."
   ]
  },
  {
   "cell_type": "markdown",
   "metadata": {},
   "source": [
    "---"
   ]
  },
  {
   "cell_type": "markdown",
   "metadata": {},
   "source": [
    "## 5. Общий вывод\n",
    "- Мы изучили возможность преобразования данных при помощи обратимой матрицы и привели математическое доказательство того, что **умножение признаков на обратимую матрицу не влияет на качество линейной регрессии**.\n",
    "- Написали класс-инструмент `RandomCipher` в стиле `sklearn`, который умеет **преобразовывать матрицы случайным образом** и возвращать их в исходный вид, не делясь при этом ключом с пользователем.\n",
    "- Убедились, что линейная регрессия предсказывает на зашифрованных данных не хуже, чем на исходных.\n",
    "\n",
    "✅ Теперь мы сможем использовать наш класс `RandomCipher` для того, чтобы легко и быстро скрывать реальные значения признаков и сохранять при этом качество предсказаний линейной регрессии."
   ]
  },
  {
   "cell_type": "markdown",
   "metadata": {},
   "source": [
    "---"
   ]
  },
  {
   "cell_type": "markdown",
   "metadata": {},
   "source": [
    "## Чек-лист проверки"
   ]
  },
  {
   "cell_type": "markdown",
   "metadata": {},
   "source": [
    "Поставьте 'x' в выполненных пунктах. Далее нажмите Shift+Enter."
   ]
  },
  {
   "cell_type": "markdown",
   "metadata": {},
   "source": [
    "- [x]  Jupyter Notebook открыт\n",
    "- [x]  Весь код выполняется без ошибок\n",
    "- [x]  Ячейки с кодом расположены в порядке исполнения\n",
    "- [x]  Выполнен шаг 1: данные загружены\n",
    "- [x]  Выполнен шаг 2: получен ответ на вопрос об умножении матриц\n",
    "    - [x]  Указан правильный вариант ответа\n",
    "    - [x]  Вариант обоснован\n",
    "- [x]  Выполнен шаг 3: предложен алгоритм преобразования\n",
    "    - [x]  Алгоритм описан\n",
    "    - [x]  Алгоритм обоснован\n",
    "- [x]  Выполнен шаг 4: алгоритм проверен\n",
    "    - [x]  Алгоритм реализован\n",
    "    - [x]  Проведено сравнение качества моделей до и после преобразования"
   ]
  },
  {
   "cell_type": "markdown",
   "metadata": {},
   "source": [
    "---"
   ]
  }
 ],
 "metadata": {
  "kernelspec": {
   "display_name": "Python 3",
   "language": "python",
   "name": "python3"
  },
  "language_info": {
   "codemirror_mode": {
    "name": "ipython",
    "version": 3
   },
   "file_extension": ".py",
   "mimetype": "text/x-python",
   "name": "python",
   "nbconvert_exporter": "python",
   "pygments_lexer": "ipython3",
   "version": "3.7.7"
  }
 },
 "nbformat": 4,
 "nbformat_minor": 4
}
