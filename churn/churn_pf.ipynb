{
 "cells": [
  {
   "cell_type": "markdown",
   "metadata": {},
   "source": [
    "# Проект: отток банковских клиентов\n",
    "Из банка стали уходить клиенты. Маркетологи посчитали, что сохранять имеющихся клиентов выгоднее, чем привлекать новых. В нашем распоряжении данные о клиентах банка, текущих и расторгнувших договор."
   ]
  },
  {
   "cell_type": "markdown",
   "metadata": {},
   "source": [
    "---"
   ]
  },
  {
   "cell_type": "markdown",
   "metadata": {},
   "source": [
    "## Цель проекта: построить модель-классификатор, которая определит вероятность того, что отдельно взятый клиент расторгнет договор с банком.\n",
    "Мы попытаемся построить **модель-классификатор**, которая максимально точно выявит клиентов банка, которые уйдут в ближайшее время, основываясь на имеющейся информации об этих клиентах.\n",
    "\n",
    "В качестве метрики качества модели мы будем использовать главным образом *F1-меру*, которая представляет собой баланс метрик *precision* и *recall*, а также будем оценивать *AUROC* моделей. Минимальным значением F1 для нас является *0.59*."
   ]
  },
  {
   "cell_type": "markdown",
   "metadata": {},
   "source": [
    "---"
   ]
  },
  {
   "cell_type": "markdown",
   "metadata": {},
   "source": [
    "## План проекта <a id=\"toc\"></a>\n",
    "\n",
    "1. [Откроем и изучим файл с данными](#first-look)\n",
    "2. [Подготовим данные к построению моделей](#prep)\n",
    "2. [Исследуем баланс классов, обучим модели без учёта дисбаланса](#unbalanced)\n",
    "3. [Улучшим качество моделей, учитывая дисбаланс классов](#balanced)\n",
    "4. [Проведём финальное тестирование с лучшей моделью](#test)\n",
    "5. [Сделаем выводы](#conclusion)"
   ]
  },
  {
   "cell_type": "code",
   "execution_count": 1,
   "metadata": {},
   "outputs": [],
   "source": [
    "import pandas as pd\n",
    "import numpy as np\n",
    "import matplotlib.pyplot as plt\n",
    "import seaborn as sns\n",
    "from IPython.display import display\n",
    "import warnings\n",
    "from helpers import *\n",
    "\n",
    "warnings.filterwarnings('ignore')"
   ]
  },
  {
   "cell_type": "markdown",
   "metadata": {},
   "source": [
    "---"
   ]
  },
  {
   "cell_type": "markdown",
   "metadata": {},
   "source": [
    "## 1. Откроем и изучим файл с данными <a id=\"first-look\"></a>"
   ]
  },
  {
   "cell_type": "code",
   "execution_count": 2,
   "metadata": {},
   "outputs": [],
   "source": [
    "file_path = 'datasets/Churn.csv'\n",
    "data = pd.read_csv(file_path)"
   ]
  },
  {
   "cell_type": "code",
   "execution_count": 3,
   "metadata": {},
   "outputs": [
    {
     "data": {
      "text/plain": [
       "(10000, 14)"
      ]
     },
     "execution_count": 3,
     "metadata": {},
     "output_type": "execute_result"
    }
   ],
   "source": [
    "data.shape"
   ]
  },
  {
   "cell_type": "code",
   "execution_count": 4,
   "metadata": {},
   "outputs": [
    {
     "name": "stdout",
     "output_type": "stream",
     "text": [
      "<class 'pandas.core.frame.DataFrame'>\n",
      "RangeIndex: 10000 entries, 0 to 9999\n",
      "Data columns (total 14 columns):\n",
      " #   Column           Non-Null Count  Dtype  \n",
      "---  ------           --------------  -----  \n",
      " 0   RowNumber        10000 non-null  int64  \n",
      " 1   CustomerId       10000 non-null  int64  \n",
      " 2   Surname          10000 non-null  object \n",
      " 3   CreditScore      10000 non-null  int64  \n",
      " 4   Geography        10000 non-null  object \n",
      " 5   Gender           10000 non-null  object \n",
      " 6   Age              10000 non-null  int64  \n",
      " 7   Tenure           9091 non-null   float64\n",
      " 8   Balance          10000 non-null  float64\n",
      " 9   NumOfProducts    10000 non-null  int64  \n",
      " 10  HasCrCard        10000 non-null  int64  \n",
      " 11  IsActiveMember   10000 non-null  int64  \n",
      " 12  EstimatedSalary  10000 non-null  float64\n",
      " 13  Exited           10000 non-null  int64  \n",
      "dtypes: float64(3), int64(8), object(3)\n",
      "memory usage: 1.1+ MB\n"
     ]
    }
   ],
   "source": [
    "data.info()"
   ]
  },
  {
   "cell_type": "markdown",
   "metadata": {},
   "source": [
    "- Данные имеют подходящие типы во всех столбцах. Строковые данные мы позже закодируем в числовой вид.\n",
    "- Есть **пропуски** в столбце с данными о наличии недвижимости. Первая мысль: у этих клиентов **может не быть недвижимости** в собственности. Исследуем это явление позже.\n",
    "- Столбцы имеют заглавные символы в названиях и названы не до конца удобно. **Переназовём** их сразу же."
   ]
  },
  {
   "cell_type": "code",
   "execution_count": 5,
   "metadata": {},
   "outputs": [
    {
     "data": {
      "text/plain": [
       "Index(['rownumber', 'customerid', 'surname', 'creditscore', 'geography',\n",
       "       'gender', 'age', 'tenure', 'balance', 'numofproducts', 'hascrcard',\n",
       "       'isactivemember', 'estimatedsalary', 'exited'],\n",
       "      dtype='object')"
      ]
     },
     "execution_count": 5,
     "metadata": {},
     "output_type": "execute_result"
    }
   ],
   "source": [
    "# В нижний регистр\n",
    "data.columns = data.columns.str.lower()\n",
    "data.columns"
   ]
  },
  {
   "cell_type": "code",
   "execution_count": 6,
   "metadata": {},
   "outputs": [],
   "source": [
    "data.rename({'customerid': 'id',\n",
    "             'geography': 'geo',\n",
    "             'isactivemember': 'isactive',\n",
    "             'numofproducts': 'products',\n",
    "             'hascrcard': 'hascard',\n",
    "             'estimatedsalary': 'salary',\n",
    "             'exited': 'churn'}, axis=1, inplace=True)"
   ]
  },
  {
   "cell_type": "code",
   "execution_count": 7,
   "metadata": {},
   "outputs": [
    {
     "data": {
      "text/html": [
       "<div>\n",
       "<style scoped>\n",
       "    .dataframe tbody tr th:only-of-type {\n",
       "        vertical-align: middle;\n",
       "    }\n",
       "\n",
       "    .dataframe tbody tr th {\n",
       "        vertical-align: top;\n",
       "    }\n",
       "\n",
       "    .dataframe thead th {\n",
       "        text-align: right;\n",
       "    }\n",
       "</style>\n",
       "<table border=\"1\" class=\"dataframe\">\n",
       "  <thead>\n",
       "    <tr style=\"text-align: right;\">\n",
       "      <th></th>\n",
       "      <th>rownumber</th>\n",
       "      <th>id</th>\n",
       "      <th>surname</th>\n",
       "      <th>creditscore</th>\n",
       "      <th>geo</th>\n",
       "      <th>gender</th>\n",
       "      <th>age</th>\n",
       "      <th>tenure</th>\n",
       "      <th>balance</th>\n",
       "      <th>products</th>\n",
       "      <th>hascard</th>\n",
       "      <th>isactive</th>\n",
       "      <th>salary</th>\n",
       "      <th>churn</th>\n",
       "    </tr>\n",
       "  </thead>\n",
       "  <tbody>\n",
       "    <tr>\n",
       "      <th>0</th>\n",
       "      <td>1</td>\n",
       "      <td>15634602</td>\n",
       "      <td>Hargrave</td>\n",
       "      <td>619</td>\n",
       "      <td>France</td>\n",
       "      <td>Female</td>\n",
       "      <td>42</td>\n",
       "      <td>2.0</td>\n",
       "      <td>0.00</td>\n",
       "      <td>1</td>\n",
       "      <td>1</td>\n",
       "      <td>1</td>\n",
       "      <td>101348.88</td>\n",
       "      <td>1</td>\n",
       "    </tr>\n",
       "    <tr>\n",
       "      <th>1</th>\n",
       "      <td>2</td>\n",
       "      <td>15647311</td>\n",
       "      <td>Hill</td>\n",
       "      <td>608</td>\n",
       "      <td>Spain</td>\n",
       "      <td>Female</td>\n",
       "      <td>41</td>\n",
       "      <td>1.0</td>\n",
       "      <td>83807.86</td>\n",
       "      <td>1</td>\n",
       "      <td>0</td>\n",
       "      <td>1</td>\n",
       "      <td>112542.58</td>\n",
       "      <td>0</td>\n",
       "    </tr>\n",
       "    <tr>\n",
       "      <th>2</th>\n",
       "      <td>3</td>\n",
       "      <td>15619304</td>\n",
       "      <td>Onio</td>\n",
       "      <td>502</td>\n",
       "      <td>France</td>\n",
       "      <td>Female</td>\n",
       "      <td>42</td>\n",
       "      <td>8.0</td>\n",
       "      <td>159660.80</td>\n",
       "      <td>3</td>\n",
       "      <td>1</td>\n",
       "      <td>0</td>\n",
       "      <td>113931.57</td>\n",
       "      <td>1</td>\n",
       "    </tr>\n",
       "    <tr>\n",
       "      <th>3</th>\n",
       "      <td>4</td>\n",
       "      <td>15701354</td>\n",
       "      <td>Boni</td>\n",
       "      <td>699</td>\n",
       "      <td>France</td>\n",
       "      <td>Female</td>\n",
       "      <td>39</td>\n",
       "      <td>1.0</td>\n",
       "      <td>0.00</td>\n",
       "      <td>2</td>\n",
       "      <td>0</td>\n",
       "      <td>0</td>\n",
       "      <td>93826.63</td>\n",
       "      <td>0</td>\n",
       "    </tr>\n",
       "    <tr>\n",
       "      <th>4</th>\n",
       "      <td>5</td>\n",
       "      <td>15737888</td>\n",
       "      <td>Mitchell</td>\n",
       "      <td>850</td>\n",
       "      <td>Spain</td>\n",
       "      <td>Female</td>\n",
       "      <td>43</td>\n",
       "      <td>2.0</td>\n",
       "      <td>125510.82</td>\n",
       "      <td>1</td>\n",
       "      <td>1</td>\n",
       "      <td>1</td>\n",
       "      <td>79084.10</td>\n",
       "      <td>0</td>\n",
       "    </tr>\n",
       "  </tbody>\n",
       "</table>\n",
       "</div>"
      ],
      "text/plain": [
       "   rownumber        id   surname  creditscore     geo  gender  age  tenure  \\\n",
       "0          1  15634602  Hargrave          619  France  Female   42     2.0   \n",
       "1          2  15647311      Hill          608   Spain  Female   41     1.0   \n",
       "2          3  15619304      Onio          502  France  Female   42     8.0   \n",
       "3          4  15701354      Boni          699  France  Female   39     1.0   \n",
       "4          5  15737888  Mitchell          850   Spain  Female   43     2.0   \n",
       "\n",
       "     balance  products  hascard  isactive     salary  churn  \n",
       "0       0.00         1        1         1  101348.88      1  \n",
       "1   83807.86         1        0         1  112542.58      0  \n",
       "2  159660.80         3        1         0  113931.57      1  \n",
       "3       0.00         2        0         0   93826.63      0  \n",
       "4  125510.82         1        1         1   79084.10      0  "
      ]
     },
     "execution_count": 7,
     "metadata": {},
     "output_type": "execute_result"
    }
   ],
   "source": [
    "data.head()"
   ]
  },
  {
   "cell_type": "markdown",
   "metadata": {},
   "source": [
    "Столбец `rownumber` выглядит абсолютно бесполезным. Удалим его."
   ]
  },
  {
   "cell_type": "code",
   "execution_count": 8,
   "metadata": {},
   "outputs": [],
   "source": [
    "data.drop('rownumber', axis=1, inplace=True)"
   ]
  },
  {
   "cell_type": "markdown",
   "metadata": {},
   "source": [
    "Проверим данные на наличие дубликатов **и** вычтем из длины датафрейма количество уникальных значений для каждого столбца: так мы найдём **неуникальные** значения."
   ]
  },
  {
   "cell_type": "code",
   "execution_count": 9,
   "metadata": {},
   "outputs": [
    {
     "data": {
      "text/plain": [
       "0"
      ]
     },
     "metadata": {},
     "output_type": "display_data"
    },
    {
     "data": {
      "text/plain": [
       "id                0\n",
       "surname        7068\n",
       "creditscore    9540\n",
       "geo            9997\n",
       "gender         9998\n",
       "age            9930\n",
       "tenure         9989\n",
       "balance        3618\n",
       "products       9996\n",
       "hascard        9998\n",
       "isactive       9998\n",
       "salary            1\n",
       "churn          9998\n",
       "dtype: int64"
      ]
     },
     "execution_count": 9,
     "metadata": {},
     "output_type": "execute_result"
    }
   ],
   "source": [
    "display(data.duplicated().sum())\n",
    "data.shape[0] - data.nunique()"
   ]
  },
  {
   "cell_type": "markdown",
   "metadata": {},
   "source": [
    "- Грубые дубликаты строк отсутствуют.\n",
    "- Нас очень интересуют `id`: все они уникальны. Сделаем столбец `id` индексом датафрейма. Тем более, что `id` не годится в качестве признака.\n",
    "- У нас встречается очень большое число **неуникальных фамилий**: этот признак вряд ли может помочь модели в увеличении точности прогнозов. Избавимся от него.\n",
    "- Для стран, категориальных и количественных признаков **дублирование допустимо**. Они не претендуют на уникальность."
   ]
  },
  {
   "cell_type": "code",
   "execution_count": 10,
   "metadata": {},
   "outputs": [],
   "source": [
    "# id берём за индекс\n",
    "data.set_index('id', drop=True, inplace=True)\n",
    "\n",
    "# Сохраним фамилии в словарик по id и удалим из таблицы\n",
    "surnames = data.surname\n",
    "data.drop(['surname'], inplace=True, axis=1)"
   ]
  },
  {
   "cell_type": "code",
   "execution_count": 11,
   "metadata": {},
   "outputs": [
    {
     "data": {
      "text/html": [
       "<div>\n",
       "<style scoped>\n",
       "    .dataframe tbody tr th:only-of-type {\n",
       "        vertical-align: middle;\n",
       "    }\n",
       "\n",
       "    .dataframe tbody tr th {\n",
       "        vertical-align: top;\n",
       "    }\n",
       "\n",
       "    .dataframe thead th {\n",
       "        text-align: right;\n",
       "    }\n",
       "</style>\n",
       "<table border=\"1\" class=\"dataframe\">\n",
       "  <thead>\n",
       "    <tr style=\"text-align: right;\">\n",
       "      <th></th>\n",
       "      <th>creditscore</th>\n",
       "      <th>geo</th>\n",
       "      <th>gender</th>\n",
       "      <th>age</th>\n",
       "      <th>tenure</th>\n",
       "      <th>balance</th>\n",
       "      <th>products</th>\n",
       "      <th>hascard</th>\n",
       "      <th>isactive</th>\n",
       "      <th>salary</th>\n",
       "      <th>churn</th>\n",
       "    </tr>\n",
       "    <tr>\n",
       "      <th>id</th>\n",
       "      <th></th>\n",
       "      <th></th>\n",
       "      <th></th>\n",
       "      <th></th>\n",
       "      <th></th>\n",
       "      <th></th>\n",
       "      <th></th>\n",
       "      <th></th>\n",
       "      <th></th>\n",
       "      <th></th>\n",
       "      <th></th>\n",
       "    </tr>\n",
       "  </thead>\n",
       "  <tbody>\n",
       "    <tr>\n",
       "      <th>15806808</th>\n",
       "      <td>834</td>\n",
       "      <td>Germany</td>\n",
       "      <td>Female</td>\n",
       "      <td>57</td>\n",
       "      <td>8.0</td>\n",
       "      <td>112281.6</td>\n",
       "      <td>3</td>\n",
       "      <td>1</td>\n",
       "      <td>0</td>\n",
       "      <td>140225.14</td>\n",
       "      <td>1</td>\n",
       "    </tr>\n",
       "    <tr>\n",
       "      <th>15568519</th>\n",
       "      <td>534</td>\n",
       "      <td>France</td>\n",
       "      <td>Male</td>\n",
       "      <td>41</td>\n",
       "      <td>9.0</td>\n",
       "      <td>0.0</td>\n",
       "      <td>2</td>\n",
       "      <td>1</td>\n",
       "      <td>0</td>\n",
       "      <td>13871.34</td>\n",
       "      <td>0</td>\n",
       "    </tr>\n",
       "    <tr>\n",
       "      <th>15753895</th>\n",
       "      <td>590</td>\n",
       "      <td>Spain</td>\n",
       "      <td>Male</td>\n",
       "      <td>37</td>\n",
       "      <td>1.0</td>\n",
       "      <td>0.0</td>\n",
       "      <td>2</td>\n",
       "      <td>0</td>\n",
       "      <td>0</td>\n",
       "      <td>133535.99</td>\n",
       "      <td>0</td>\n",
       "    </tr>\n",
       "  </tbody>\n",
       "</table>\n",
       "</div>"
      ],
      "text/plain": [
       "          creditscore      geo  gender  age  tenure   balance  products  \\\n",
       "id                                                                        \n",
       "15806808          834  Germany  Female   57     8.0  112281.6         3   \n",
       "15568519          534   France    Male   41     9.0       0.0         2   \n",
       "15753895          590    Spain    Male   37     1.0       0.0         2   \n",
       "\n",
       "          hascard  isactive     salary  churn  \n",
       "id                                             \n",
       "15806808        1         0  140225.14      1  \n",
       "15568519        1         0   13871.34      0  \n",
       "15753895        0         0  133535.99      0  "
      ]
     },
     "execution_count": 11,
     "metadata": {},
     "output_type": "execute_result"
    }
   ],
   "source": [
    "data.sample(3)"
   ]
  },
  {
   "cell_type": "markdown",
   "metadata": {},
   "source": [
    "У нас в ячейках есть строковые значения с верхним регистром. Преобразуем их в нижний."
   ]
  },
  {
   "cell_type": "code",
   "execution_count": 12,
   "metadata": {},
   "outputs": [],
   "source": [
    "for col in ['geo', 'gender']:\n",
    "    data.loc[:, col] = data.loc[:, col].apply(lambda x: x.lower())"
   ]
  },
  {
   "cell_type": "code",
   "execution_count": 13,
   "metadata": {},
   "outputs": [
    {
     "data": {
      "text/html": [
       "<div>\n",
       "<style scoped>\n",
       "    .dataframe tbody tr th:only-of-type {\n",
       "        vertical-align: middle;\n",
       "    }\n",
       "\n",
       "    .dataframe tbody tr th {\n",
       "        vertical-align: top;\n",
       "    }\n",
       "\n",
       "    .dataframe thead th {\n",
       "        text-align: right;\n",
       "    }\n",
       "</style>\n",
       "<table border=\"1\" class=\"dataframe\">\n",
       "  <thead>\n",
       "    <tr style=\"text-align: right;\">\n",
       "      <th></th>\n",
       "      <th>creditscore</th>\n",
       "      <th>geo</th>\n",
       "      <th>gender</th>\n",
       "      <th>age</th>\n",
       "      <th>tenure</th>\n",
       "      <th>balance</th>\n",
       "      <th>products</th>\n",
       "      <th>hascard</th>\n",
       "      <th>isactive</th>\n",
       "      <th>salary</th>\n",
       "      <th>churn</th>\n",
       "    </tr>\n",
       "    <tr>\n",
       "      <th>id</th>\n",
       "      <th></th>\n",
       "      <th></th>\n",
       "      <th></th>\n",
       "      <th></th>\n",
       "      <th></th>\n",
       "      <th></th>\n",
       "      <th></th>\n",
       "      <th></th>\n",
       "      <th></th>\n",
       "      <th></th>\n",
       "      <th></th>\n",
       "    </tr>\n",
       "  </thead>\n",
       "  <tbody>\n",
       "    <tr>\n",
       "      <th>15784218</th>\n",
       "      <td>620</td>\n",
       "      <td>spain</td>\n",
       "      <td>male</td>\n",
       "      <td>38</td>\n",
       "      <td>0.0</td>\n",
       "      <td>0.00</td>\n",
       "      <td>2</td>\n",
       "      <td>1</td>\n",
       "      <td>1</td>\n",
       "      <td>38015.34</td>\n",
       "      <td>0</td>\n",
       "    </tr>\n",
       "    <tr>\n",
       "      <th>15577515</th>\n",
       "      <td>554</td>\n",
       "      <td>germany</td>\n",
       "      <td>female</td>\n",
       "      <td>55</td>\n",
       "      <td>NaN</td>\n",
       "      <td>108477.27</td>\n",
       "      <td>1</td>\n",
       "      <td>0</td>\n",
       "      <td>1</td>\n",
       "      <td>140003.00</td>\n",
       "      <td>1</td>\n",
       "    </tr>\n",
       "    <tr>\n",
       "      <th>15792029</th>\n",
       "      <td>620</td>\n",
       "      <td>france</td>\n",
       "      <td>male</td>\n",
       "      <td>32</td>\n",
       "      <td>6.0</td>\n",
       "      <td>0.00</td>\n",
       "      <td>2</td>\n",
       "      <td>1</td>\n",
       "      <td>0</td>\n",
       "      <td>56139.09</td>\n",
       "      <td>0</td>\n",
       "    </tr>\n",
       "  </tbody>\n",
       "</table>\n",
       "</div>"
      ],
      "text/plain": [
       "          creditscore      geo  gender  age  tenure    balance  products  \\\n",
       "id                                                                         \n",
       "15784218          620    spain    male   38     0.0       0.00         2   \n",
       "15577515          554  germany  female   55     NaN  108477.27         1   \n",
       "15792029          620   france    male   32     6.0       0.00         2   \n",
       "\n",
       "          hascard  isactive     salary  churn  \n",
       "id                                             \n",
       "15784218        1         1   38015.34      0  \n",
       "15577515        0         1  140003.00      1  \n",
       "15792029        1         0   56139.09      0  "
      ]
     },
     "execution_count": 13,
     "metadata": {},
     "output_type": "execute_result"
    }
   ],
   "source": [
    "data.sample(3)"
   ]
  },
  {
   "cell_type": "markdown",
   "metadata": {},
   "source": [
    "Совсем другое дело."
   ]
  },
  {
   "cell_type": "code",
   "execution_count": 14,
   "metadata": {},
   "outputs": [
    {
     "data": {
      "text/html": [
       "<div>\n",
       "<style scoped>\n",
       "    .dataframe tbody tr th:only-of-type {\n",
       "        vertical-align: middle;\n",
       "    }\n",
       "\n",
       "    .dataframe tbody tr th {\n",
       "        vertical-align: top;\n",
       "    }\n",
       "\n",
       "    .dataframe thead th {\n",
       "        text-align: right;\n",
       "    }\n",
       "</style>\n",
       "<table border=\"1\" class=\"dataframe\">\n",
       "  <thead>\n",
       "    <tr style=\"text-align: right;\">\n",
       "      <th></th>\n",
       "      <th>count</th>\n",
       "      <th>mean</th>\n",
       "      <th>std</th>\n",
       "      <th>min</th>\n",
       "      <th>25%</th>\n",
       "      <th>50%</th>\n",
       "      <th>75%</th>\n",
       "      <th>max</th>\n",
       "    </tr>\n",
       "  </thead>\n",
       "  <tbody>\n",
       "    <tr>\n",
       "      <th>creditscore</th>\n",
       "      <td>10000.0</td>\n",
       "      <td>650.528800</td>\n",
       "      <td>96.653299</td>\n",
       "      <td>350.00</td>\n",
       "      <td>584.00</td>\n",
       "      <td>652.000</td>\n",
       "      <td>718.0000</td>\n",
       "      <td>850.00</td>\n",
       "    </tr>\n",
       "    <tr>\n",
       "      <th>age</th>\n",
       "      <td>10000.0</td>\n",
       "      <td>38.921800</td>\n",
       "      <td>10.487806</td>\n",
       "      <td>18.00</td>\n",
       "      <td>32.00</td>\n",
       "      <td>37.000</td>\n",
       "      <td>44.0000</td>\n",
       "      <td>92.00</td>\n",
       "    </tr>\n",
       "    <tr>\n",
       "      <th>tenure</th>\n",
       "      <td>9091.0</td>\n",
       "      <td>4.997690</td>\n",
       "      <td>2.894723</td>\n",
       "      <td>0.00</td>\n",
       "      <td>2.00</td>\n",
       "      <td>5.000</td>\n",
       "      <td>7.0000</td>\n",
       "      <td>10.00</td>\n",
       "    </tr>\n",
       "    <tr>\n",
       "      <th>balance</th>\n",
       "      <td>10000.0</td>\n",
       "      <td>76485.889288</td>\n",
       "      <td>62397.405202</td>\n",
       "      <td>0.00</td>\n",
       "      <td>0.00</td>\n",
       "      <td>97198.540</td>\n",
       "      <td>127644.2400</td>\n",
       "      <td>250898.09</td>\n",
       "    </tr>\n",
       "    <tr>\n",
       "      <th>products</th>\n",
       "      <td>10000.0</td>\n",
       "      <td>1.530200</td>\n",
       "      <td>0.581654</td>\n",
       "      <td>1.00</td>\n",
       "      <td>1.00</td>\n",
       "      <td>1.000</td>\n",
       "      <td>2.0000</td>\n",
       "      <td>4.00</td>\n",
       "    </tr>\n",
       "    <tr>\n",
       "      <th>hascard</th>\n",
       "      <td>10000.0</td>\n",
       "      <td>0.705500</td>\n",
       "      <td>0.455840</td>\n",
       "      <td>0.00</td>\n",
       "      <td>0.00</td>\n",
       "      <td>1.000</td>\n",
       "      <td>1.0000</td>\n",
       "      <td>1.00</td>\n",
       "    </tr>\n",
       "    <tr>\n",
       "      <th>isactive</th>\n",
       "      <td>10000.0</td>\n",
       "      <td>0.515100</td>\n",
       "      <td>0.499797</td>\n",
       "      <td>0.00</td>\n",
       "      <td>0.00</td>\n",
       "      <td>1.000</td>\n",
       "      <td>1.0000</td>\n",
       "      <td>1.00</td>\n",
       "    </tr>\n",
       "    <tr>\n",
       "      <th>salary</th>\n",
       "      <td>10000.0</td>\n",
       "      <td>100090.239881</td>\n",
       "      <td>57510.492818</td>\n",
       "      <td>11.58</td>\n",
       "      <td>51002.11</td>\n",
       "      <td>100193.915</td>\n",
       "      <td>149388.2475</td>\n",
       "      <td>199992.48</td>\n",
       "    </tr>\n",
       "    <tr>\n",
       "      <th>churn</th>\n",
       "      <td>10000.0</td>\n",
       "      <td>0.203700</td>\n",
       "      <td>0.402769</td>\n",
       "      <td>0.00</td>\n",
       "      <td>0.00</td>\n",
       "      <td>0.000</td>\n",
       "      <td>0.0000</td>\n",
       "      <td>1.00</td>\n",
       "    </tr>\n",
       "  </tbody>\n",
       "</table>\n",
       "</div>"
      ],
      "text/plain": [
       "               count           mean           std     min       25%  \\\n",
       "creditscore  10000.0     650.528800     96.653299  350.00    584.00   \n",
       "age          10000.0      38.921800     10.487806   18.00     32.00   \n",
       "tenure        9091.0       4.997690      2.894723    0.00      2.00   \n",
       "balance      10000.0   76485.889288  62397.405202    0.00      0.00   \n",
       "products     10000.0       1.530200      0.581654    1.00      1.00   \n",
       "hascard      10000.0       0.705500      0.455840    0.00      0.00   \n",
       "isactive     10000.0       0.515100      0.499797    0.00      0.00   \n",
       "salary       10000.0  100090.239881  57510.492818   11.58  51002.11   \n",
       "churn        10000.0       0.203700      0.402769    0.00      0.00   \n",
       "\n",
       "                    50%          75%        max  \n",
       "creditscore     652.000     718.0000     850.00  \n",
       "age              37.000      44.0000      92.00  \n",
       "tenure            5.000       7.0000      10.00  \n",
       "balance       97198.540  127644.2400  250898.09  \n",
       "products          1.000       2.0000       4.00  \n",
       "hascard           1.000       1.0000       1.00  \n",
       "isactive          1.000       1.0000       1.00  \n",
       "salary       100193.915  149388.2475  199992.48  \n",
       "churn             0.000       0.0000       1.00  "
      ]
     },
     "execution_count": 14,
     "metadata": {},
     "output_type": "execute_result"
    }
   ],
   "source": [
    "desc(data)"
   ]
  },
  {
   "cell_type": "markdown",
   "metadata": {},
   "source": [
    "- Количественные признаки имеют разный масштаб: посмотрим глазами на их распределения. Для этого возьмём функции-помощники из предыдущих проектов."
   ]
  },
  {
   "cell_type": "markdown",
   "metadata": {},
   "source": [
    "Нарисуем гистограммы для каждого количественного столбца."
   ]
  },
  {
   "cell_type": "code",
   "execution_count": 15,
   "metadata": {},
   "outputs": [
    {
     "data": {
      "image/png": "[encoded data removed]",
      "text/plain": [
       "<Figure size 3600x800 with 6 Axes>"
      ]
     },
     "metadata": {
      "needs_background": "light"
     },
     "output_type": "display_data"
    }
   ],
   "source": [
    "num_cols = ['creditscore', 'age', 'tenure', 'balance', 'products', 'salary']\n",
    "with Image(18, 4, st='Распределения количественных признаков', tight=True):\n",
    "    for i, col in enumerate(num_cols):\n",
    "        Image.subplot(231+i, sx=False)\n",
    "        sns.distplot(data[col], kde=False, hist_kws={'alpha':1})"
   ]
  },
  {
   "cell_type": "markdown",
   "metadata": {},
   "source": [
    "- Распределения зарплат и наличия недвижимости выглядят практически ровными. Возможно, что наша выборка из 10000 человек стратифицирована по зарплате.\n",
    "- Количество банковских продуктов сложно оценить по распределению."
   ]
  },
  {
   "cell_type": "markdown",
   "metadata": {},
   "source": [
    "### Вывод из первичного изучения данных\n",
    "- Данные имеют **удобоваримый вид**. Есть пропуски, с которыми мы поработаем на следующем этапе.\n",
    "- Мы обнаружили, что некоторые данные **не имеют смысла** для дальнейшего обучения модели: например, это *фамилия* и *id* клиента. Мы исключили их из числа признаков."
   ]
  },
  {
   "cell_type": "markdown",
   "metadata": {},
   "source": [
    "[к оглавлению](#toc)"
   ]
  },
  {
   "cell_type": "markdown",
   "metadata": {},
   "source": [
    "---"
   ]
  },
  {
   "cell_type": "markdown",
   "metadata": {},
   "source": [
    "## 2. Подготовка данных к построению модели <a id=\"prep\"></a>\n",
    "\n",
    "В этом блоке мы:\n",
    "- [Решим проблему пропусков в данных о недвижимости](#tenure)\n",
    "- [Закодируем категориальные признаки](#encoding)\n",
    "- [Попытаемся извлечь из имеющихся данных дополнительные столбцы](#extraction)\n",
    "- [Масштабируем количественные признаки](#scaling)\n",
    "- [**Разделим данные** на фичи и целевой признак, на учебную, валидационную и тестовую выборки.](#split)"
   ]
  },
  {
   "cell_type": "markdown",
   "metadata": {},
   "source": [
    "### Пропуски в данных о недвижимости <a id=\"tenure\"></a>\n",
    "\n",
    "Мы предположили, что данные с пропусками в недвижимости могут подразумевать отсутствие таковой. Заполнять будем нулями, но для начала попытаемся понять причину такого явления среди данных. Вдруг это возраст или какой-то другой фактор?"
   ]
  },
  {
   "cell_type": "code",
   "execution_count": 16,
   "metadata": {},
   "outputs": [
    {
     "data": {
      "text/html": [
       "<div>\n",
       "<style scoped>\n",
       "    .dataframe tbody tr th:only-of-type {\n",
       "        vertical-align: middle;\n",
       "    }\n",
       "\n",
       "    .dataframe tbody tr th {\n",
       "        vertical-align: top;\n",
       "    }\n",
       "\n",
       "    .dataframe thead th {\n",
       "        text-align: right;\n",
       "    }\n",
       "</style>\n",
       "<table border=\"1\" class=\"dataframe\">\n",
       "  <thead>\n",
       "    <tr style=\"text-align: right;\">\n",
       "      <th></th>\n",
       "      <th>count</th>\n",
       "      <th>mean</th>\n",
       "      <th>std</th>\n",
       "      <th>min</th>\n",
       "      <th>25%</th>\n",
       "      <th>50%</th>\n",
       "      <th>75%</th>\n",
       "      <th>max</th>\n",
       "    </tr>\n",
       "  </thead>\n",
       "  <tbody>\n",
       "    <tr>\n",
       "      <th>creditscore</th>\n",
       "      <td>909.0</td>\n",
       "      <td>648.451045</td>\n",
       "      <td>99.079381</td>\n",
       "      <td>359.00</td>\n",
       "      <td>580.00</td>\n",
       "      <td>647.00</td>\n",
       "      <td>718.00</td>\n",
       "      <td>850.00</td>\n",
       "    </tr>\n",
       "    <tr>\n",
       "      <th>age</th>\n",
       "      <td>909.0</td>\n",
       "      <td>38.647965</td>\n",
       "      <td>9.785438</td>\n",
       "      <td>18.00</td>\n",
       "      <td>32.00</td>\n",
       "      <td>37.00</td>\n",
       "      <td>43.00</td>\n",
       "      <td>92.00</td>\n",
       "    </tr>\n",
       "    <tr>\n",
       "      <th>tenure</th>\n",
       "      <td>0.0</td>\n",
       "      <td>NaN</td>\n",
       "      <td>NaN</td>\n",
       "      <td>NaN</td>\n",
       "      <td>NaN</td>\n",
       "      <td>NaN</td>\n",
       "      <td>NaN</td>\n",
       "      <td>NaN</td>\n",
       "    </tr>\n",
       "    <tr>\n",
       "      <th>balance</th>\n",
       "      <td>909.0</td>\n",
       "      <td>76117.341474</td>\n",
       "      <td>63105.690715</td>\n",
       "      <td>0.00</td>\n",
       "      <td>0.00</td>\n",
       "      <td>96674.55</td>\n",
       "      <td>128554.98</td>\n",
       "      <td>206663.75</td>\n",
       "    </tr>\n",
       "    <tr>\n",
       "      <th>products</th>\n",
       "      <td>909.0</td>\n",
       "      <td>1.530253</td>\n",
       "      <td>0.588452</td>\n",
       "      <td>1.00</td>\n",
       "      <td>1.00</td>\n",
       "      <td>1.00</td>\n",
       "      <td>2.00</td>\n",
       "      <td>4.00</td>\n",
       "    </tr>\n",
       "    <tr>\n",
       "      <th>hascard</th>\n",
       "      <td>909.0</td>\n",
       "      <td>0.710671</td>\n",
       "      <td>0.453701</td>\n",
       "      <td>0.00</td>\n",
       "      <td>0.00</td>\n",
       "      <td>1.00</td>\n",
       "      <td>1.00</td>\n",
       "      <td>1.00</td>\n",
       "    </tr>\n",
       "    <tr>\n",
       "      <th>isactive</th>\n",
       "      <td>909.0</td>\n",
       "      <td>0.510451</td>\n",
       "      <td>0.500166</td>\n",
       "      <td>0.00</td>\n",
       "      <td>0.00</td>\n",
       "      <td>1.00</td>\n",
       "      <td>1.00</td>\n",
       "      <td>1.00</td>\n",
       "    </tr>\n",
       "    <tr>\n",
       "      <th>salary</th>\n",
       "      <td>909.0</td>\n",
       "      <td>99180.389373</td>\n",
       "      <td>56378.063765</td>\n",
       "      <td>106.67</td>\n",
       "      <td>49872.33</td>\n",
       "      <td>99444.02</td>\n",
       "      <td>145759.70</td>\n",
       "      <td>199390.45</td>\n",
       "    </tr>\n",
       "    <tr>\n",
       "      <th>churn</th>\n",
       "      <td>909.0</td>\n",
       "      <td>0.201320</td>\n",
       "      <td>0.401207</td>\n",
       "      <td>0.00</td>\n",
       "      <td>0.00</td>\n",
       "      <td>0.00</td>\n",
       "      <td>0.00</td>\n",
       "      <td>1.00</td>\n",
       "    </tr>\n",
       "  </tbody>\n",
       "</table>\n",
       "</div>"
      ],
      "text/plain": [
       "             count          mean           std     min       25%       50%  \\\n",
       "creditscore  909.0    648.451045     99.079381  359.00    580.00    647.00   \n",
       "age          909.0     38.647965      9.785438   18.00     32.00     37.00   \n",
       "tenure         0.0           NaN           NaN     NaN       NaN       NaN   \n",
       "balance      909.0  76117.341474  63105.690715    0.00      0.00  96674.55   \n",
       "products     909.0      1.530253      0.588452    1.00      1.00      1.00   \n",
       "hascard      909.0      0.710671      0.453701    0.00      0.00      1.00   \n",
       "isactive     909.0      0.510451      0.500166    0.00      0.00      1.00   \n",
       "salary       909.0  99180.389373  56378.063765  106.67  49872.33  99444.02   \n",
       "churn        909.0      0.201320      0.401207    0.00      0.00      0.00   \n",
       "\n",
       "                   75%        max  \n",
       "creditscore     718.00     850.00  \n",
       "age              43.00      92.00  \n",
       "tenure             NaN        NaN  \n",
       "balance      128554.98  206663.75  \n",
       "products          2.00       4.00  \n",
       "hascard           1.00       1.00  \n",
       "isactive          1.00       1.00  \n",
       "salary       145759.70  199390.45  \n",
       "churn             0.00       1.00  "
      ]
     },
     "execution_count": 16,
     "metadata": {},
     "output_type": "execute_result"
    }
   ],
   "source": [
    "desc(data.query('tenure.isna()'))"
   ]
  },
  {
   "cell_type": "markdown",
   "metadata": {},
   "source": [
    "А что, если дело в стране?"
   ]
  },
  {
   "cell_type": "code",
   "execution_count": 17,
   "metadata": {},
   "outputs": [
    {
     "data": {
      "text/plain": [
       "france     464\n",
       "spain      229\n",
       "germany    216\n",
       "Name: geo, dtype: int64"
      ]
     },
     "execution_count": 17,
     "metadata": {},
     "output_type": "execute_result"
    }
   ],
   "source": [
    "data.query('tenure.isna()').geo.value_counts()"
   ]
  },
  {
   "cell_type": "markdown",
   "metadata": {},
   "source": [
    "А какие вообще есть страны?"
   ]
  },
  {
   "cell_type": "code",
   "execution_count": 18,
   "metadata": {},
   "outputs": [
    {
     "data": {
      "text/plain": [
       "array(['france', 'spain', 'germany'], dtype=object)"
      ]
     },
     "execution_count": 18,
     "metadata": {},
     "output_type": "execute_result"
    }
   ],
   "source": [
    "data.geo.unique()"
   ]
  },
  {
   "cell_type": "markdown",
   "metadata": {},
   "source": [
    "Ничего необычного и всего три страны. Похоже, что данные не зависят ни от клиента, ни от его страны.  Заполним нулями."
   ]
  },
  {
   "cell_type": "code",
   "execution_count": 19,
   "metadata": {},
   "outputs": [],
   "source": [
    "data.tenure.fillna(0, inplace=True)"
   ]
  },
  {
   "cell_type": "code",
   "execution_count": 20,
   "metadata": {},
   "outputs": [
    {
     "name": "stdout",
     "output_type": "stream",
     "text": [
      "<class 'pandas.core.frame.DataFrame'>\n",
      "Int64Index: 10000 entries, 15634602 to 15628319\n",
      "Data columns (total 11 columns):\n",
      " #   Column       Non-Null Count  Dtype  \n",
      "---  ------       --------------  -----  \n",
      " 0   creditscore  10000 non-null  int64  \n",
      " 1   geo          10000 non-null  object \n",
      " 2   gender       10000 non-null  object \n",
      " 3   age          10000 non-null  int64  \n",
      " 4   tenure       10000 non-null  float64\n",
      " 5   balance      10000 non-null  float64\n",
      " 6   products     10000 non-null  int64  \n",
      " 7   hascard      10000 non-null  int64  \n",
      " 8   isactive     10000 non-null  int64  \n",
      " 9   salary       10000 non-null  float64\n",
      " 10  churn        10000 non-null  int64  \n",
      "dtypes: float64(3), int64(6), object(2)\n",
      "memory usage: 937.5+ KB\n"
     ]
    }
   ],
   "source": [
    "data.info()"
   ]
  },
  {
   "cell_type": "markdown",
   "metadata": {},
   "source": [
    "Отлично, теперь у нас нет пропусков."
   ]
  },
  {
   "cell_type": "markdown",
   "metadata": {},
   "source": [
    "### Кодирование категориальных признаков <a id=\"encoding\"></a>\n",
    "\n",
    "Рассмотрим признаки, которые могут потребовать кодирования."
   ]
  },
  {
   "cell_type": "code",
   "execution_count": 21,
   "metadata": {},
   "outputs": [
    {
     "data": {
      "text/html": [
       "<div>\n",
       "<style scoped>\n",
       "    .dataframe tbody tr th:only-of-type {\n",
       "        vertical-align: middle;\n",
       "    }\n",
       "\n",
       "    .dataframe tbody tr th {\n",
       "        vertical-align: top;\n",
       "    }\n",
       "\n",
       "    .dataframe thead th {\n",
       "        text-align: right;\n",
       "    }\n",
       "</style>\n",
       "<table border=\"1\" class=\"dataframe\">\n",
       "  <thead>\n",
       "    <tr style=\"text-align: right;\">\n",
       "      <th></th>\n",
       "      <th>creditscore</th>\n",
       "      <th>geo</th>\n",
       "      <th>gender</th>\n",
       "      <th>age</th>\n",
       "      <th>tenure</th>\n",
       "      <th>balance</th>\n",
       "      <th>products</th>\n",
       "      <th>hascard</th>\n",
       "      <th>isactive</th>\n",
       "      <th>salary</th>\n",
       "      <th>churn</th>\n",
       "    </tr>\n",
       "    <tr>\n",
       "      <th>id</th>\n",
       "      <th></th>\n",
       "      <th></th>\n",
       "      <th></th>\n",
       "      <th></th>\n",
       "      <th></th>\n",
       "      <th></th>\n",
       "      <th></th>\n",
       "      <th></th>\n",
       "      <th></th>\n",
       "      <th></th>\n",
       "      <th></th>\n",
       "    </tr>\n",
       "  </thead>\n",
       "  <tbody>\n",
       "    <tr>\n",
       "      <th>15634602</th>\n",
       "      <td>619</td>\n",
       "      <td>france</td>\n",
       "      <td>female</td>\n",
       "      <td>42</td>\n",
       "      <td>2.0</td>\n",
       "      <td>0.00</td>\n",
       "      <td>1</td>\n",
       "      <td>1</td>\n",
       "      <td>1</td>\n",
       "      <td>101348.88</td>\n",
       "      <td>1</td>\n",
       "    </tr>\n",
       "    <tr>\n",
       "      <th>15647311</th>\n",
       "      <td>608</td>\n",
       "      <td>spain</td>\n",
       "      <td>female</td>\n",
       "      <td>41</td>\n",
       "      <td>1.0</td>\n",
       "      <td>83807.86</td>\n",
       "      <td>1</td>\n",
       "      <td>0</td>\n",
       "      <td>1</td>\n",
       "      <td>112542.58</td>\n",
       "      <td>0</td>\n",
       "    </tr>\n",
       "    <tr>\n",
       "      <th>15619304</th>\n",
       "      <td>502</td>\n",
       "      <td>france</td>\n",
       "      <td>female</td>\n",
       "      <td>42</td>\n",
       "      <td>8.0</td>\n",
       "      <td>159660.80</td>\n",
       "      <td>3</td>\n",
       "      <td>1</td>\n",
       "      <td>0</td>\n",
       "      <td>113931.57</td>\n",
       "      <td>1</td>\n",
       "    </tr>\n",
       "    <tr>\n",
       "      <th>15701354</th>\n",
       "      <td>699</td>\n",
       "      <td>france</td>\n",
       "      <td>female</td>\n",
       "      <td>39</td>\n",
       "      <td>1.0</td>\n",
       "      <td>0.00</td>\n",
       "      <td>2</td>\n",
       "      <td>0</td>\n",
       "      <td>0</td>\n",
       "      <td>93826.63</td>\n",
       "      <td>0</td>\n",
       "    </tr>\n",
       "    <tr>\n",
       "      <th>15737888</th>\n",
       "      <td>850</td>\n",
       "      <td>spain</td>\n",
       "      <td>female</td>\n",
       "      <td>43</td>\n",
       "      <td>2.0</td>\n",
       "      <td>125510.82</td>\n",
       "      <td>1</td>\n",
       "      <td>1</td>\n",
       "      <td>1</td>\n",
       "      <td>79084.10</td>\n",
       "      <td>0</td>\n",
       "    </tr>\n",
       "  </tbody>\n",
       "</table>\n",
       "</div>"
      ],
      "text/plain": [
       "          creditscore     geo  gender  age  tenure    balance  products  \\\n",
       "id                                                                        \n",
       "15634602          619  france  female   42     2.0       0.00         1   \n",
       "15647311          608   spain  female   41     1.0   83807.86         1   \n",
       "15619304          502  france  female   42     8.0  159660.80         3   \n",
       "15701354          699  france  female   39     1.0       0.00         2   \n",
       "15737888          850   spain  female   43     2.0  125510.82         1   \n",
       "\n",
       "          hascard  isactive     salary  churn  \n",
       "id                                             \n",
       "15634602        1         1  101348.88      1  \n",
       "15647311        0         1  112542.58      0  \n",
       "15619304        1         0  113931.57      1  \n",
       "15701354        0         0   93826.63      0  \n",
       "15737888        1         1   79084.10      0  "
      ]
     },
     "execution_count": 21,
     "metadata": {},
     "output_type": "execute_result"
    }
   ],
   "source": [
    "data.head()"
   ]
  },
  {
   "cell_type": "markdown",
   "metadata": {},
   "source": [
    "**Страна и пол** - эту парочку нам точно нужно перевести в числовой вид. Остальные данные уже имеют подходящее представление.\n",
    "\n",
    "Мы собираемся использовать OHE для кодирования категориальных данных. На всякий случай оценим количество значений в этих столбцах. Иначе мы можем раздуть размер датафрейма, если уникальных значений окажется слишком много."
   ]
  },
  {
   "cell_type": "code",
   "execution_count": 22,
   "metadata": {},
   "outputs": [
    {
     "data": {
      "text/plain": [
       "geo       3\n",
       "gender    2\n",
       "dtype: int64"
      ]
     },
     "execution_count": 22,
     "metadata": {},
     "output_type": "execute_result"
    }
   ],
   "source": [
    "cat = ['geo', 'gender']\n",
    "\n",
    "data.nunique().loc[cat]"
   ]
  },
  {
   "cell_type": "markdown",
   "metadata": {},
   "source": [
    "Три разных страны, два пола. OHE нам прекрасно подходит."
   ]
  },
  {
   "cell_type": "code",
   "execution_count": 23,
   "metadata": {},
   "outputs": [],
   "source": [
    "# Закодируем столбцы по-новому, а старые удалим. Также удалим первые сгенерированные столбцы OHE. Они не имеют смысла.\n",
    "data = data.drop(cat, axis=1).join(pd.get_dummies(data[cat], drop_first=True))"
   ]
  },
  {
   "cell_type": "code",
   "execution_count": 24,
   "metadata": {},
   "outputs": [
    {
     "data": {
      "text/html": [
       "<div>\n",
       "<style scoped>\n",
       "    .dataframe tbody tr th:only-of-type {\n",
       "        vertical-align: middle;\n",
       "    }\n",
       "\n",
       "    .dataframe tbody tr th {\n",
       "        vertical-align: top;\n",
       "    }\n",
       "\n",
       "    .dataframe thead th {\n",
       "        text-align: right;\n",
       "    }\n",
       "</style>\n",
       "<table border=\"1\" class=\"dataframe\">\n",
       "  <thead>\n",
       "    <tr style=\"text-align: right;\">\n",
       "      <th></th>\n",
       "      <th>creditscore</th>\n",
       "      <th>age</th>\n",
       "      <th>tenure</th>\n",
       "      <th>balance</th>\n",
       "      <th>products</th>\n",
       "      <th>hascard</th>\n",
       "      <th>isactive</th>\n",
       "      <th>salary</th>\n",
       "      <th>churn</th>\n",
       "      <th>geo_germany</th>\n",
       "      <th>geo_spain</th>\n",
       "      <th>gender_male</th>\n",
       "    </tr>\n",
       "    <tr>\n",
       "      <th>id</th>\n",
       "      <th></th>\n",
       "      <th></th>\n",
       "      <th></th>\n",
       "      <th></th>\n",
       "      <th></th>\n",
       "      <th></th>\n",
       "      <th></th>\n",
       "      <th></th>\n",
       "      <th></th>\n",
       "      <th></th>\n",
       "      <th></th>\n",
       "      <th></th>\n",
       "    </tr>\n",
       "  </thead>\n",
       "  <tbody>\n",
       "    <tr>\n",
       "      <th>15641319</th>\n",
       "      <td>518</td>\n",
       "      <td>50</td>\n",
       "      <td>4.0</td>\n",
       "      <td>0.00</td>\n",
       "      <td>1</td>\n",
       "      <td>0</td>\n",
       "      <td>0</td>\n",
       "      <td>107112.25</td>\n",
       "      <td>1</td>\n",
       "      <td>0</td>\n",
       "      <td>1</td>\n",
       "      <td>1</td>\n",
       "    </tr>\n",
       "    <tr>\n",
       "      <th>15759381</th>\n",
       "      <td>617</td>\n",
       "      <td>61</td>\n",
       "      <td>7.0</td>\n",
       "      <td>91070.43</td>\n",
       "      <td>1</td>\n",
       "      <td>1</td>\n",
       "      <td>1</td>\n",
       "      <td>101839.77</td>\n",
       "      <td>0</td>\n",
       "      <td>0</td>\n",
       "      <td>1</td>\n",
       "      <td>1</td>\n",
       "    </tr>\n",
       "  </tbody>\n",
       "</table>\n",
       "</div>"
      ],
      "text/plain": [
       "          creditscore  age  tenure   balance  products  hascard  isactive  \\\n",
       "id                                                                          \n",
       "15641319          518   50     4.0      0.00         1        0         0   \n",
       "15759381          617   61     7.0  91070.43         1        1         1   \n",
       "\n",
       "             salary  churn  geo_germany  geo_spain  gender_male  \n",
       "id                                                               \n",
       "15641319  107112.25      1            0          1            1  \n",
       "15759381  101839.77      0            0          1            1  "
      ]
     },
     "execution_count": 24,
     "metadata": {},
     "output_type": "execute_result"
    }
   ],
   "source": [
    "data.sample(2)"
   ]
  },
  {
   "cell_type": "markdown",
   "metadata": {},
   "source": [
    "Отлично. Теперь наши категориальные данные должны легче восприниматься моделями."
   ]
  },
  {
   "cell_type": "markdown",
   "metadata": {},
   "source": [
    "### Извлечение дополнительных данных <a id=\"extraction\"></a>\n",
    "Когда мы смотрели на данные о балансе на счетах клиентов, мы увидели очень много нулевых балансов. Это может быть как-то связано с активностью клиентов. Попробуем создать дополнительный столбец, который будет маркером нулевого баланса."
   ]
  },
  {
   "cell_type": "code",
   "execution_count": 25,
   "metadata": {},
   "outputs": [
    {
     "data": {
      "text/plain": [
       "id\n",
       "15634602    1\n",
       "15647311    0\n",
       "15619304    0\n",
       "15701354    1\n",
       "15737888    0\n",
       "Name: zero_balance, dtype: int64"
      ]
     },
     "execution_count": 25,
     "metadata": {},
     "output_type": "execute_result"
    }
   ],
   "source": [
    "data.loc[:, 'zero_balance'] = (data.balance == 0).astype('int')\n",
    "data.zero_balance.head()"
   ]
  },
  {
   "cell_type": "markdown",
   "metadata": {},
   "source": [
    "### Разделение данных на выборки <a id=\"split\"></a>"
   ]
  },
  {
   "cell_type": "code",
   "execution_count": 26,
   "metadata": {},
   "outputs": [],
   "source": [
    "from sklearn.model_selection import train_test_split\n",
    "\n",
    "\n",
    "def train_val_test(df, r_state=None, strat=None):\n",
    "    \"\"\"Делит датасет на три выборки в отношении 3:1:1\"\"\"\n",
    "    train_val, test = train_test_split(df, test_size=0.2, random_state=r_state, stratify=df[strat])\n",
    "    train, val = train_test_split(train_val, test_size=0.25, random_state=r_state, stratify=train_val[strat])\n",
    "    return train, val, test"
   ]
  },
  {
   "cell_type": "code",
   "execution_count": 27,
   "metadata": {},
   "outputs": [],
   "source": [
    "# Делим данные на три выборки и пополам на x и y.\n",
    "x_train, y_train, x_val, y_val, x_test, y_test = xy_split(train_val_test(data, r_state=0, strat='churn'), 'churn', as_list=True)"
   ]
  },
  {
   "cell_type": "code",
   "execution_count": 28,
   "metadata": {},
   "outputs": [
    {
     "name": "stdout",
     "output_type": "stream",
     "text": [
      "(6000, 12)\n",
      "(2000, 12)\n",
      "(2000, 12)\n",
      "(6000,)\n",
      "(2000,)\n",
      "(2000,)\n"
     ]
    }
   ],
   "source": [
    "for d in [x_train, x_val, x_test, y_train, y_val, y_test]:\n",
    "    print(d.shape)"
   ]
  },
  {
   "cell_type": "markdown",
   "metadata": {},
   "source": [
    "Разделение данных получилось верным и стратифицированным."
   ]
  },
  {
   "cell_type": "markdown",
   "metadata": {},
   "source": [
    "### Масштабирование количественных признаков <a id=\"scaling\"></a>\n",
    "\n",
    "Мы приведём количественные признаки в стандартизированный вид, чтобы модель воспринимала их важность как равную."
   ]
  },
  {
   "cell_type": "code",
   "execution_count": 29,
   "metadata": {},
   "outputs": [],
   "source": [
    "numeric = ['age', 'tenure', 'products', 'creditscore', 'balance', 'salary']"
   ]
  },
  {
   "cell_type": "code",
   "execution_count": 30,
   "metadata": {},
   "outputs": [],
   "source": [
    "from sklearn.preprocessing import StandardScaler"
   ]
  },
  {
   "cell_type": "code",
   "execution_count": 31,
   "metadata": {},
   "outputs": [],
   "source": [
    "# Обучим scaler на обучающей выборке\n",
    "ss = StandardScaler()"
   ]
  },
  {
   "cell_type": "code",
   "execution_count": 32,
   "metadata": {},
   "outputs": [],
   "source": [
    "# Преобразуем данные в выборках\n",
    "x_train.loc[:, numeric] = ss.fit_transform(x_train[numeric])\n",
    "x_val.loc[:, numeric] = ss.transform(x_val[numeric])\n",
    "x_test.loc[:, numeric] = ss.transform(x_test[numeric])"
   ]
  },
  {
   "cell_type": "code",
   "execution_count": 33,
   "metadata": {},
   "outputs": [
    {
     "data": {
      "text/html": [
       "<div>\n",
       "<style scoped>\n",
       "    .dataframe tbody tr th:only-of-type {\n",
       "        vertical-align: middle;\n",
       "    }\n",
       "\n",
       "    .dataframe tbody tr th {\n",
       "        vertical-align: top;\n",
       "    }\n",
       "\n",
       "    .dataframe thead th {\n",
       "        text-align: right;\n",
       "    }\n",
       "</style>\n",
       "<table border=\"1\" class=\"dataframe\">\n",
       "  <thead>\n",
       "    <tr style=\"text-align: right;\">\n",
       "      <th></th>\n",
       "      <th>creditscore</th>\n",
       "      <th>age</th>\n",
       "      <th>tenure</th>\n",
       "      <th>balance</th>\n",
       "      <th>products</th>\n",
       "      <th>hascard</th>\n",
       "      <th>isactive</th>\n",
       "      <th>salary</th>\n",
       "      <th>geo_germany</th>\n",
       "      <th>geo_spain</th>\n",
       "      <th>gender_male</th>\n",
       "      <th>zero_balance</th>\n",
       "    </tr>\n",
       "    <tr>\n",
       "      <th>id</th>\n",
       "      <th></th>\n",
       "      <th></th>\n",
       "      <th></th>\n",
       "      <th></th>\n",
       "      <th></th>\n",
       "      <th></th>\n",
       "      <th></th>\n",
       "      <th></th>\n",
       "      <th></th>\n",
       "      <th></th>\n",
       "      <th></th>\n",
       "      <th></th>\n",
       "    </tr>\n",
       "  </thead>\n",
       "  <tbody>\n",
       "    <tr>\n",
       "      <th>15663987</th>\n",
       "      <td>0.740465</td>\n",
       "      <td>-0.854172</td>\n",
       "      <td>-1.133915</td>\n",
       "      <td>-1.233068</td>\n",
       "      <td>2.550228</td>\n",
       "      <td>1</td>\n",
       "      <td>0</td>\n",
       "      <td>1.108897</td>\n",
       "      <td>0</td>\n",
       "      <td>1</td>\n",
       "      <td>1</td>\n",
       "      <td>1</td>\n",
       "    </tr>\n",
       "  </tbody>\n",
       "</table>\n",
       "</div>"
      ],
      "text/plain": [
       "          creditscore       age    tenure   balance  products  hascard  \\\n",
       "id                                                                       \n",
       "15663987     0.740465 -0.854172 -1.133915 -1.233068  2.550228        1   \n",
       "\n",
       "          isactive    salary  geo_germany  geo_spain  gender_male  \\\n",
       "id                                                                  \n",
       "15663987         0  1.108897            0          1            1   \n",
       "\n",
       "          zero_balance  \n",
       "id                      \n",
       "15663987             1  "
      ]
     },
     "metadata": {},
     "output_type": "display_data"
    },
    {
     "data": {
      "text/html": [
       "<div>\n",
       "<style scoped>\n",
       "    .dataframe tbody tr th:only-of-type {\n",
       "        vertical-align: middle;\n",
       "    }\n",
       "\n",
       "    .dataframe tbody tr th {\n",
       "        vertical-align: top;\n",
       "    }\n",
       "\n",
       "    .dataframe thead th {\n",
       "        text-align: right;\n",
       "    }\n",
       "</style>\n",
       "<table border=\"1\" class=\"dataframe\">\n",
       "  <thead>\n",
       "    <tr style=\"text-align: right;\">\n",
       "      <th></th>\n",
       "      <th>creditscore</th>\n",
       "      <th>age</th>\n",
       "      <th>tenure</th>\n",
       "      <th>balance</th>\n",
       "      <th>products</th>\n",
       "      <th>hascard</th>\n",
       "      <th>isactive</th>\n",
       "      <th>salary</th>\n",
       "      <th>geo_germany</th>\n",
       "      <th>geo_spain</th>\n",
       "      <th>gender_male</th>\n",
       "      <th>zero_balance</th>\n",
       "    </tr>\n",
       "    <tr>\n",
       "      <th>id</th>\n",
       "      <th></th>\n",
       "      <th></th>\n",
       "      <th></th>\n",
       "      <th></th>\n",
       "      <th></th>\n",
       "      <th></th>\n",
       "      <th></th>\n",
       "      <th></th>\n",
       "      <th></th>\n",
       "      <th></th>\n",
       "      <th></th>\n",
       "      <th></th>\n",
       "    </tr>\n",
       "  </thead>\n",
       "  <tbody>\n",
       "    <tr>\n",
       "      <th>15593795</th>\n",
       "      <td>-1.397777</td>\n",
       "      <td>1.339314</td>\n",
       "      <td>-1.456172</td>\n",
       "      <td>1.280746</td>\n",
       "      <td>-0.89525</td>\n",
       "      <td>1</td>\n",
       "      <td>0</td>\n",
       "      <td>0.311908</td>\n",
       "      <td>1</td>\n",
       "      <td>0</td>\n",
       "      <td>0</td>\n",
       "      <td>0</td>\n",
       "    </tr>\n",
       "  </tbody>\n",
       "</table>\n",
       "</div>"
      ],
      "text/plain": [
       "          creditscore       age    tenure   balance  products  hascard  \\\n",
       "id                                                                       \n",
       "15593795    -1.397777  1.339314 -1.456172  1.280746  -0.89525        1   \n",
       "\n",
       "          isactive    salary  geo_germany  geo_spain  gender_male  \\\n",
       "id                                                                  \n",
       "15593795         0  0.311908            1          0            0   \n",
       "\n",
       "          zero_balance  \n",
       "id                      \n",
       "15593795             0  "
      ]
     },
     "metadata": {},
     "output_type": "display_data"
    },
    {
     "data": {
      "text/html": [
       "<div>\n",
       "<style scoped>\n",
       "    .dataframe tbody tr th:only-of-type {\n",
       "        vertical-align: middle;\n",
       "    }\n",
       "\n",
       "    .dataframe tbody tr th {\n",
       "        vertical-align: top;\n",
       "    }\n",
       "\n",
       "    .dataframe thead th {\n",
       "        text-align: right;\n",
       "    }\n",
       "</style>\n",
       "<table border=\"1\" class=\"dataframe\">\n",
       "  <thead>\n",
       "    <tr style=\"text-align: right;\">\n",
       "      <th></th>\n",
       "      <th>creditscore</th>\n",
       "      <th>age</th>\n",
       "      <th>tenure</th>\n",
       "      <th>balance</th>\n",
       "      <th>products</th>\n",
       "      <th>hascard</th>\n",
       "      <th>isactive</th>\n",
       "      <th>salary</th>\n",
       "      <th>geo_germany</th>\n",
       "      <th>geo_spain</th>\n",
       "      <th>gender_male</th>\n",
       "      <th>zero_balance</th>\n",
       "    </tr>\n",
       "    <tr>\n",
       "      <th>id</th>\n",
       "      <th></th>\n",
       "      <th></th>\n",
       "      <th></th>\n",
       "      <th></th>\n",
       "      <th></th>\n",
       "      <th></th>\n",
       "      <th></th>\n",
       "      <th></th>\n",
       "      <th></th>\n",
       "      <th></th>\n",
       "      <th></th>\n",
       "      <th></th>\n",
       "    </tr>\n",
       "  </thead>\n",
       "  <tbody>\n",
       "    <tr>\n",
       "      <th>15659094</th>\n",
       "      <td>1.174312</td>\n",
       "      <td>-0.472696</td>\n",
       "      <td>1.121884</td>\n",
       "      <td>0.960736</td>\n",
       "      <td>0.827489</td>\n",
       "      <td>0</td>\n",
       "      <td>0</td>\n",
       "      <td>-0.922022</td>\n",
       "      <td>1</td>\n",
       "      <td>0</td>\n",
       "      <td>0</td>\n",
       "      <td>0</td>\n",
       "    </tr>\n",
       "  </tbody>\n",
       "</table>\n",
       "</div>"
      ],
      "text/plain": [
       "          creditscore       age    tenure   balance  products  hascard  \\\n",
       "id                                                                       \n",
       "15659094     1.174312 -0.472696  1.121884  0.960736  0.827489        0   \n",
       "\n",
       "          isactive    salary  geo_germany  geo_spain  gender_male  \\\n",
       "id                                                                  \n",
       "15659094         0 -0.922022            1          0            0   \n",
       "\n",
       "          zero_balance  \n",
       "id                      \n",
       "15659094             0  "
      ]
     },
     "metadata": {},
     "output_type": "display_data"
    }
   ],
   "source": [
    "for x in [x_train, x_val, x_test]:\n",
    "    display(x.sample())"
   ]
  },
  {
   "cell_type": "markdown",
   "metadata": {},
   "source": [
    "У нас получилось стандартизировать признаки. Теперь они выглядят не очень интуитивно для нас, но более понятно для логистической регрессии. Теперь модель сможет оценивать признаки по единой шкале, основанной на стандартном отклонении."
   ]
  },
  {
   "cell_type": "markdown",
   "metadata": {},
   "source": [
    "### Вывод из подготовки данных\n",
    "\n",
    "- Мы заполнили пропуски в столбце с данными о недвижимости, предположив, что отсутствие значения означает отсутствие недвижимости.\n",
    "- Закодировали категориальные признаки `gender` и `geo` по принципу *One-Hot Encoding*.\n",
    "- Добавили столбец, обозначающий отсутствие денег на счетах клиентов. Мы предположили, что этот фактор может быть полезен для предсказаний.\n",
    "- Преобразовали количественные признаки, чтобы они воспринимались моделью не буквально, а в масштабе стандартных отклонений от среднего, одинаковом для всех количественных признаков.\n",
    "- Разделили данные на обучающую, валидационную и тестовую выборки.\n",
    "\n",
    "Теперь мы готовы к обучению модели и оценке её качества.\n",
    "\n",
    "[к оглавлению](#toc)"
   ]
  },
  {
   "cell_type": "markdown",
   "metadata": {},
   "source": [
    "---"
   ]
  },
  {
   "cell_type": "markdown",
   "metadata": {},
   "source": [
    "## 3. Исследование баланса классов. Обучение модели без учёта дисбаланса. <a id=\"unbalanced\"></a>\n",
    "\n",
    "Чтобы наша модель считала отрицательный и положительный классы важными в равной степени, мы должны сначала понять, существует ли разница в количестве объектов этих классов."
   ]
  },
  {
   "cell_type": "code",
   "execution_count": 34,
   "metadata": {},
   "outputs": [
    {
     "data": {
      "text/plain": [
       "0    4777\n",
       "1    1223\n",
       "Name: churn, dtype: int64"
      ]
     },
     "execution_count": 34,
     "metadata": {},
     "output_type": "execute_result"
    }
   ],
   "source": [
    "y_train.value_counts()"
   ]
  },
  {
   "cell_type": "markdown",
   "metadata": {},
   "source": [
    "Наглядно видим, что объектов положительного класса в тренировочной выборке в 4 раза больше, чем отрицательных. Это значит, что мы можем создать классификатор с нулями, и его *accuracy* будет близка к *80%* без каких-либо усилий. Проверим это."
   ]
  },
  {
   "cell_type": "code",
   "execution_count": 35,
   "metadata": {},
   "outputs": [],
   "source": [
    "from sklearn.dummy import DummyClassifier\n",
    "from sklearn.metrics import roc_auc_score, f1_score, precision_score, recall_score, accuracy_score, make_scorer, roc_curve, precision_recall_curve\n",
    "from sklearn.model_selection import cross_val_score, cross_validate"
   ]
  },
  {
   "cell_type": "code",
   "execution_count": 36,
   "metadata": {},
   "outputs": [
    {
     "data": {
      "text/html": [
       "<div>\n",
       "<style scoped>\n",
       "    .dataframe tbody tr th:only-of-type {\n",
       "        vertical-align: middle;\n",
       "    }\n",
       "\n",
       "    .dataframe tbody tr th {\n",
       "        vertical-align: top;\n",
       "    }\n",
       "\n",
       "    .dataframe thead th {\n",
       "        text-align: right;\n",
       "    }\n",
       "</style>\n",
       "<table border=\"1\" class=\"dataframe\">\n",
       "  <thead>\n",
       "    <tr style=\"text-align: right;\">\n",
       "      <th></th>\n",
       "      <th>fit_time</th>\n",
       "      <th>score_time</th>\n",
       "      <th>test_accuracy</th>\n",
       "      <th>test_recall</th>\n",
       "      <th>test_precision</th>\n",
       "      <th>test_f1</th>\n",
       "      <th>test_roc_auc</th>\n",
       "    </tr>\n",
       "  </thead>\n",
       "  <tbody>\n",
       "    <tr>\n",
       "      <th>0</th>\n",
       "      <td>0.002262</td>\n",
       "      <td>0.004680</td>\n",
       "      <td>0.796667</td>\n",
       "      <td>0.0</td>\n",
       "      <td>0.0</td>\n",
       "      <td>0.0</td>\n",
       "      <td>0.5</td>\n",
       "    </tr>\n",
       "    <tr>\n",
       "      <th>1</th>\n",
       "      <td>0.001606</td>\n",
       "      <td>0.003999</td>\n",
       "      <td>0.796667</td>\n",
       "      <td>0.0</td>\n",
       "      <td>0.0</td>\n",
       "      <td>0.0</td>\n",
       "      <td>0.5</td>\n",
       "    </tr>\n",
       "    <tr>\n",
       "      <th>2</th>\n",
       "      <td>0.001368</td>\n",
       "      <td>0.003888</td>\n",
       "      <td>0.795833</td>\n",
       "      <td>0.0</td>\n",
       "      <td>0.0</td>\n",
       "      <td>0.0</td>\n",
       "      <td>0.5</td>\n",
       "    </tr>\n",
       "    <tr>\n",
       "      <th>3</th>\n",
       "      <td>0.001507</td>\n",
       "      <td>0.003707</td>\n",
       "      <td>0.795833</td>\n",
       "      <td>0.0</td>\n",
       "      <td>0.0</td>\n",
       "      <td>0.0</td>\n",
       "      <td>0.5</td>\n",
       "    </tr>\n",
       "    <tr>\n",
       "      <th>4</th>\n",
       "      <td>0.001372</td>\n",
       "      <td>0.003934</td>\n",
       "      <td>0.795833</td>\n",
       "      <td>0.0</td>\n",
       "      <td>0.0</td>\n",
       "      <td>0.0</td>\n",
       "      <td>0.5</td>\n",
       "    </tr>\n",
       "  </tbody>\n",
       "</table>\n",
       "</div>"
      ],
      "text/plain": [
       "   fit_time  score_time  test_accuracy  test_recall  test_precision  test_f1  \\\n",
       "0  0.002262    0.004680       0.796667          0.0             0.0      0.0   \n",
       "1  0.001606    0.003999       0.796667          0.0             0.0      0.0   \n",
       "2  0.001368    0.003888       0.795833          0.0             0.0      0.0   \n",
       "3  0.001507    0.003707       0.795833          0.0             0.0      0.0   \n",
       "4  0.001372    0.003934       0.795833          0.0             0.0      0.0   \n",
       "\n",
       "   test_roc_auc  \n",
       "0           0.5  \n",
       "1           0.5  \n",
       "2           0.5  \n",
       "3           0.5  \n",
       "4           0.5  "
      ]
     },
     "execution_count": 36,
     "metadata": {},
     "output_type": "execute_result"
    }
   ],
   "source": [
    "# Запишем метрики в список для кросс-валидации\n",
    "scorers = ['accuracy', 'recall', 'precision', 'f1', 'roc_auc']\n",
    "\n",
    "# Будем вызывать датафрейм по короткому имени\n",
    "df = pd.DataFrame\n",
    "df(cross_validate(DummyClassifier(strategy='most_frequent'), x_train, y_train, cv=5, scoring=scorers))"
   ]
  },
  {
   "cell_type": "markdown",
   "metadata": {},
   "source": [
    "Даже сломанный классификатор показывает точность 80%. При этом *auroc* и *f1* выглядят гораздо менее убедительно, точнее, совсем никак, потому что битая модель не угадала ни одной единицы. Мы попытаемся обучить более умную модель, но баланс классов пока не будем учитывать, чтобы проверить, будет ли разница от балансировки в дальнейшем."
   ]
  },
  {
   "cell_type": "markdown",
   "metadata": {},
   "source": [
    "### Случайный лес\n",
    "Мы будем подбирать оптимальные параметры при помощи инструмента gridsearch, который автоматически перебирает параметры моделей и производит кросс-валидацию на учебной выборке. Мы не будем скупиться на метрики, но лучшие параметры будем оценивать по *F1-мере*."
   ]
  },
  {
   "cell_type": "code",
   "execution_count": 37,
   "metadata": {},
   "outputs": [],
   "source": [
    "from sklearn.ensemble import RandomForestClassifier\n",
    "from sklearn.model_selection import GridSearchCV"
   ]
  },
  {
   "cell_type": "code",
   "execution_count": 38,
   "metadata": {},
   "outputs": [],
   "source": [
    "# Зададим перебираемые параметры. Кое-какие выставим заранее для экономии времени, мы их уже нашли этим же способом.\n",
    "forest_gs = GridSearchCV(RandomForestClassifier(n_estimators=30, random_state=0),\n",
    "                         param_grid={'max_depth': range(5, 31, 2),\n",
    "                                    'min_samples_leaf': range(2, 5),\n",
    "                                    'min_samples_split': range(2, 5),\n",
    "                                    'criterion': ['gini', 'entropy']}, cv=4, scoring=scorers, refit='f1')"
   ]
  },
  {
   "cell_type": "code",
   "execution_count": 39,
   "metadata": {},
   "outputs": [
    {
     "name": "stdout",
     "output_type": "stream",
     "text": [
      "CPU times: user 2min 8s, sys: 1.95 s, total: 2min 10s\n",
      "Wall time: 2min 11s\n"
     ]
    },
    {
     "data": {
      "text/plain": [
       "GridSearchCV(cv=4, error_score=nan,\n",
       "             estimator=RandomForestClassifier(bootstrap=True, ccp_alpha=0.0,\n",
       "                                              class_weight=None,\n",
       "                                              criterion='gini', max_depth=None,\n",
       "                                              max_features='auto',\n",
       "                                              max_leaf_nodes=None,\n",
       "                                              max_samples=None,\n",
       "                                              min_impurity_decrease=0.0,\n",
       "                                              min_impurity_split=None,\n",
       "                                              min_samples_leaf=1,\n",
       "                                              min_samples_split=2,\n",
       "                                              min_weight_fraction_leaf=0.0,\n",
       "                                              n_estimators=30, n_jobs=None,\n",
       "                                              oob_score=False, random_state=0,\n",
       "                                              verbose=0, warm_start=False),\n",
       "             iid='deprecated', n_jobs=None,\n",
       "             param_grid={'criterion': ['gini', 'entropy'],\n",
       "                         'max_depth': range(5, 31, 2),\n",
       "                         'min_samples_leaf': range(2, 5),\n",
       "                         'min_samples_split': range(2, 5)},\n",
       "             pre_dispatch='2*n_jobs', refit='f1', return_train_score=False,\n",
       "             scoring=['accuracy', 'recall', 'precision', 'f1', 'roc_auc'],\n",
       "             verbose=0)"
      ]
     },
     "execution_count": 39,
     "metadata": {},
     "output_type": "execute_result"
    }
   ],
   "source": [
    "%%time\n",
    "forest_gs.fit(x_train, y_train)"
   ]
  },
  {
   "cell_type": "markdown",
   "metadata": {},
   "source": [
    "Теперь посмотрим, какого наилучшего F1 удалось достичь в процессе поиска оптимальных параметров."
   ]
  },
  {
   "cell_type": "code",
   "execution_count": 40,
   "metadata": {},
   "outputs": [
    {
     "data": {
      "text/plain": [
       "0.5908770328565022"
      ]
     },
     "execution_count": 40,
     "metadata": {},
     "output_type": "execute_result"
    }
   ],
   "source": [
    "forest_gs.best_score_"
   ]
  },
  {
   "cell_type": "code",
   "execution_count": 41,
   "metadata": {},
   "outputs": [
    {
     "data": {
      "text/plain": [
       "mean_fit_time                                                       0.111377\n",
       "std_fit_time                                                      0.00304277\n",
       "mean_score_time                                                    0.0190862\n",
       "std_score_time                                                   0.000418261\n",
       "param_criterion                                                         gini\n",
       "param_max_depth                                                           15\n",
       "param_min_samples_leaf                                                     4\n",
       "param_min_samples_split                                                    2\n",
       "params                     {'criterion': 'gini', 'max_depth': 15, 'min_sa...\n",
       "split0_test_accuracy                                                0.863333\n",
       "split1_test_accuracy                                                0.867333\n",
       "split2_test_accuracy                                                0.870667\n",
       "split3_test_accuracy                                                0.863333\n",
       "mean_test_accuracy                                                  0.866167\n",
       "std_test_accuracy                                                 0.00306866\n",
       "rank_test_accuracy                                                         1\n",
       "split0_test_recall                                                  0.462295\n",
       "split1_test_recall                                                  0.493464\n",
       "split2_test_recall                                                  0.473856\n",
       "split3_test_recall                                                   0.46732\n",
       "mean_test_recall                                                    0.474234\n",
       "std_test_recall                                                    0.0118351\n",
       "rank_test_recall                                                          19\n",
       "split0_test_precision                                               0.774725\n",
       "split1_test_precision                                               0.774359\n",
       "split2_test_precision                                               0.814607\n",
       "split3_test_precision                                               0.772973\n",
       "mean_test_precision                                                 0.784166\n",
       "std_test_precision                                                 0.0175871\n",
       "rank_test_precision                                                       73\n",
       "split0_test_f1                                                      0.579055\n",
       "split1_test_f1                                                      0.602794\n",
       "split2_test_f1                                                      0.599174\n",
       "split3_test_f1                                                      0.582485\n",
       "mean_test_f1                                                        0.590877\n",
       "std_test_f1                                                        0.0102596\n",
       "rank_test_f1                                                               1\n",
       "split0_test_roc_auc                                                 0.856537\n",
       "split1_test_roc_auc                                                 0.864972\n",
       "split2_test_roc_auc                                                 0.858552\n",
       "split3_test_roc_auc                                                 0.859288\n",
       "mean_test_roc_auc                                                   0.859837\n",
       "std_test_roc_auc                                                  0.00313064\n",
       "rank_test_roc_auc                                                         16\n",
       "Name: 51, dtype: object"
      ]
     },
     "execution_count": 41,
     "metadata": {},
     "output_type": "execute_result"
    }
   ],
   "source": [
    "df(forest_gs.cv_results_).iloc[forest_gs.best_index_]"
   ]
  },
  {
   "cell_type": "markdown",
   "metadata": {},
   "source": [
    "- F1 в среднем уже достигает требуемого значения в *0.59*.\n",
    "- AUROC в среднем составляет *~0.85*.\n",
    "- Полнота в среднем составляет *~0.49*, что намекает нам на возможную необходимость снизить пороговое значение вероятности.\n",
    "\n",
    "**Почему важна именно полнота**: поскольку мы решаем бизнес-задачу с клиентами, которые потенциально могут расторгнуть договор с нашим банком, то для нас самой худшей будет ошибка второго рода - ложноотрицательный ответ (FN), из-за которого мы упустим клиента, которого не подозревали в неверности нашему банку."
   ]
  },
  {
   "cell_type": "code",
   "execution_count": 42,
   "metadata": {},
   "outputs": [],
   "source": [
    "forest = forest_gs.best_estimator_"
   ]
  },
  {
   "cell_type": "markdown",
   "metadata": {},
   "source": [
    "Нарисуем ROC-кривую, чтобы лучше понять, какое пороговое значение вероятности для нас допустимо, чтобы отнести клиента в зону риска."
   ]
  },
  {
   "cell_type": "code",
   "execution_count": 43,
   "metadata": {},
   "outputs": [],
   "source": [
    "forest_proba = forest.predict_proba(x_val)[:, 1]\n",
    "fpr, tpr, thr = roc_curve(y_val, forest_proba)"
   ]
  },
  {
   "cell_type": "code",
   "execution_count": 44,
   "metadata": {},
   "outputs": [
    {
     "data": {
      "image/png": "[encoded data removed]",
      "text/plain": [
       "<Figure size 3000x800 with 1 Axes>"
      ]
     },
     "metadata": {
      "needs_background": "light"
     },
     "output_type": "display_data"
    }
   ],
   "source": [
    "with Image(st='ROC-кривая модели \"случайный лес\" без балансировки классов'):\n",
    "    sns.lineplot(fpr, tpr, label='Лес')\n",
    "    sns.lineplot([0, 1], [0, 1], label='Случайная модель')\n",
    "    Image.labels('FPR', 'TPR')"
   ]
  },
  {
   "cell_type": "markdown",
   "metadata": {},
   "source": [
    "Увиденное наталкивает на мысль: если слегка увеличить полноту и снизить точность, то мера F1 должна остаться на месте. Попробуем перебрать пороговые значения, чтобы выбрать оптимальное."
   ]
  },
  {
   "cell_type": "markdown",
   "metadata": {},
   "source": [
    "Теперь выделим подходящие для нас значения F1 и найдём порог, при котором получили максимальную полноту."
   ]
  },
  {
   "cell_type": "code",
   "execution_count": 45,
   "metadata": {},
   "outputs": [
    {
     "data": {
      "text/plain": [
       "threshold    0.265000\n",
       "accuracy     0.817500\n",
       "f1           0.593993\n",
       "recall       0.656020\n",
       "precision    0.542683\n",
       "roc_auc      0.757388\n",
       "Name: 53, dtype: float64"
      ]
     },
     "execution_count": 45,
     "metadata": {},
     "output_type": "execute_result"
    }
   ],
   "source": [
    "forest_f1_enough = proba_thresholds(forest, x_val, y_val).query('f1 >=0.59')\n",
    "forest_best_unbal = forest_f1_enough.loc[forest_f1_enough.recall.idxmax(), :]\n",
    "forest_best_unbal"
   ]
  },
  {
   "cell_type": "markdown",
   "metadata": {},
   "source": [
    "Оптимальным для нашей задачи оказался порог вероятности, равный *0.275*. При этом значении порога мы даём наибольшее количество положительных ответов, не падая ниже *F1 == 0.59*."
   ]
  },
  {
   "cell_type": "markdown",
   "metadata": {},
   "source": [
    "### Вывод по случайному лесу\n",
    "- Мы использовали grid search для подбора оптимальных гиперпараметров случайного леса.\n",
    "- В лучшем своём проявлении модель по своему значению F1 колеблется на грани допустимого.\n",
    "- Чтобы улучшить полноту ответов и распознать больше клиентов, мы прибегли к *снижению порога вероятности*. Доля ложноположительных ответов возросла, зато F1 при этом удалось сохранить."
   ]
  },
  {
   "cell_type": "markdown",
   "metadata": {},
   "source": [
    "---"
   ]
  },
  {
   "cell_type": "markdown",
   "metadata": {},
   "source": [
    "### Логистическая регрессия\n",
    "Одно знаем точно: регрессия будет работать быстрее, чем лес, а какова её точность, мы сейчас измерим."
   ]
  },
  {
   "cell_type": "code",
   "execution_count": 46,
   "metadata": {},
   "outputs": [],
   "source": [
    "from sklearn.linear_model import LogisticRegression"
   ]
  },
  {
   "cell_type": "code",
   "execution_count": 47,
   "metadata": {},
   "outputs": [],
   "source": [
    "lr_gs = GridSearchCV(LogisticRegression(random_state=0),\n",
    "                    param_grid={'solver': ['newton-cg', 'lbfgs', 'liblinear', 'sag', 'saga'],\n",
    "                               'fit_intercept': [True, False],\n",
    "                               'C': np.arange(1., 0, -0.1)},\n",
    "                    scoring=scorers, refit='f1')"
   ]
  },
  {
   "cell_type": "code",
   "execution_count": 48,
   "metadata": {},
   "outputs": [
    {
     "data": {
      "text/plain": [
       "GridSearchCV(cv=None, error_score=nan,\n",
       "             estimator=LogisticRegression(C=1.0, class_weight=None, dual=False,\n",
       "                                          fit_intercept=True,\n",
       "                                          intercept_scaling=1, l1_ratio=None,\n",
       "                                          max_iter=100, multi_class='auto',\n",
       "                                          n_jobs=None, penalty='l2',\n",
       "                                          random_state=0, solver='lbfgs',\n",
       "                                          tol=0.0001, verbose=0,\n",
       "                                          warm_start=False),\n",
       "             iid='deprecated', n_jobs=None,\n",
       "             param_grid={'C': array([1. , 0.9, 0.8, 0.7, 0.6, 0.5, 0.4, 0.3, 0.2, 0.1]),\n",
       "                         'fit_intercept': [True, False],\n",
       "                         'solver': ['newton-cg', 'lbfgs', 'liblinear', 'sag',\n",
       "                                    'saga']},\n",
       "             pre_dispatch='2*n_jobs', refit='f1', return_train_score=False,\n",
       "             scoring=['accuracy', 'recall', 'precision', 'f1', 'roc_auc'],\n",
       "             verbose=0)"
      ]
     },
     "execution_count": 48,
     "metadata": {},
     "output_type": "execute_result"
    }
   ],
   "source": [
    "lr_gs.fit(x_train, y_train)"
   ]
  },
  {
   "cell_type": "markdown",
   "metadata": {},
   "source": [
    "Посмотрим, какой наилучший результат показала логистическая регрессия без балансировки классов."
   ]
  },
  {
   "cell_type": "code",
   "execution_count": 49,
   "metadata": {},
   "outputs": [
    {
     "data": {
      "text/plain": [
       "mean_fit_time                                                    0.0145604\n",
       "std_fit_time                                                   0.000372358\n",
       "mean_score_time                                                 0.00543337\n",
       "std_score_time                                                 0.000207996\n",
       "param_C                                                                0.7\n",
       "param_fit_intercept                                                  False\n",
       "param_solver                                                     newton-cg\n",
       "params                   {'C': 0.7000000000000001, 'fit_intercept': Fal...\n",
       "split0_test_accuracy                                              0.806667\n",
       "split1_test_accuracy                                                0.8125\n",
       "split2_test_accuracy                                                0.8075\n",
       "split3_test_accuracy                                              0.814167\n",
       "split4_test_accuracy                                                0.8075\n",
       "mean_test_accuracy                                                0.809667\n",
       "std_test_accuracy                                               0.00305505\n",
       "rank_test_accuracy                                                       1\n",
       "split0_test_recall                                                0.233607\n",
       "split1_test_recall                                                0.258197\n",
       "split2_test_recall                                                0.228571\n",
       "split3_test_recall                                                0.293878\n",
       "split4_test_recall                                                0.269388\n",
       "mean_test_recall                                                  0.256728\n",
       "std_test_recall                                                  0.0239579\n",
       "rank_test_recall                                                         1\n",
       "split0_test_precision                                             0.558824\n",
       "split1_test_precision                                             0.588785\n",
       "split2_test_precision                                             0.571429\n",
       "split3_test_precision                                             0.590164\n",
       "split4_test_precision                                             0.559322\n",
       "mean_test_precision                                               0.573705\n",
       "std_test_precision                                               0.0136515\n",
       "rank_test_precision                                                     61\n",
       "split0_test_f1                                                     0.32948\n",
       "split1_test_f1                                                    0.358974\n",
       "split2_test_f1                                                    0.326531\n",
       "split3_test_f1                                                    0.392371\n",
       "split4_test_f1                                                    0.363636\n",
       "mean_test_f1                                                      0.354198\n",
       "std_test_f1                                                      0.0242715\n",
       "rank_test_f1                                                             1\n",
       "split0_test_roc_auc                                               0.744989\n",
       "split1_test_roc_auc                                               0.744418\n",
       "split2_test_roc_auc                                               0.777664\n",
       "split3_test_roc_auc                                                0.78299\n",
       "split4_test_roc_auc                                               0.738476\n",
       "mean_test_roc_auc                                                 0.757707\n",
       "std_test_roc_auc                                                 0.0186851\n",
       "rank_test_roc_auc                                                       87\n",
       "Name: 35, dtype: object"
      ]
     },
     "execution_count": 49,
     "metadata": {},
     "output_type": "execute_result"
    }
   ],
   "source": [
    "df(lr_gs.cv_results_).iloc[lr_gs.best_index_]"
   ]
  },
  {
   "cell_type": "markdown",
   "metadata": {},
   "source": [
    "Средняя F1 логистической регрессии пугающе низкая. Попробуем перебрать пороги вероятности так же, как делали с лесом."
   ]
  },
  {
   "cell_type": "code",
   "execution_count": 50,
   "metadata": {},
   "outputs": [],
   "source": [
    "# Сохраним модель с оптимальными параметрами\n",
    "lr = lr_gs.best_estimator_"
   ]
  },
  {
   "cell_type": "code",
   "execution_count": 51,
   "metadata": {},
   "outputs": [
    {
     "data": {
      "text/html": [
       "<div>\n",
       "<style scoped>\n",
       "    .dataframe tbody tr th:only-of-type {\n",
       "        vertical-align: middle;\n",
       "    }\n",
       "\n",
       "    .dataframe tbody tr th {\n",
       "        vertical-align: top;\n",
       "    }\n",
       "\n",
       "    .dataframe thead th {\n",
       "        text-align: right;\n",
       "    }\n",
       "</style>\n",
       "<table border=\"1\" class=\"dataframe\">\n",
       "  <thead>\n",
       "    <tr style=\"text-align: right;\">\n",
       "      <th></th>\n",
       "      <th>threshold</th>\n",
       "      <th>accuracy</th>\n",
       "      <th>f1</th>\n",
       "      <th>recall</th>\n",
       "      <th>precision</th>\n",
       "      <th>roc_auc</th>\n",
       "    </tr>\n",
       "  </thead>\n",
       "  <tbody>\n",
       "    <tr>\n",
       "      <th>0</th>\n",
       "      <td>0.000</td>\n",
       "      <td>0.2035</td>\n",
       "      <td>0.338180</td>\n",
       "      <td>1.000000</td>\n",
       "      <td>0.203500</td>\n",
       "      <td>0.500000</td>\n",
       "    </tr>\n",
       "    <tr>\n",
       "      <th>1</th>\n",
       "      <td>0.005</td>\n",
       "      <td>0.2035</td>\n",
       "      <td>0.338180</td>\n",
       "      <td>1.000000</td>\n",
       "      <td>0.203500</td>\n",
       "      <td>0.500000</td>\n",
       "    </tr>\n",
       "    <tr>\n",
       "      <th>2</th>\n",
       "      <td>0.010</td>\n",
       "      <td>0.2040</td>\n",
       "      <td>0.338321</td>\n",
       "      <td>1.000000</td>\n",
       "      <td>0.203602</td>\n",
       "      <td>0.500314</td>\n",
       "    </tr>\n",
       "    <tr>\n",
       "      <th>3</th>\n",
       "      <td>0.015</td>\n",
       "      <td>0.2065</td>\n",
       "      <td>0.339025</td>\n",
       "      <td>1.000000</td>\n",
       "      <td>0.204112</td>\n",
       "      <td>0.501883</td>\n",
       "    </tr>\n",
       "    <tr>\n",
       "      <th>4</th>\n",
       "      <td>0.020</td>\n",
       "      <td>0.2120</td>\n",
       "      <td>0.340034</td>\n",
       "      <td>0.997543</td>\n",
       "      <td>0.204947</td>\n",
       "      <td>0.504421</td>\n",
       "    </tr>\n",
       "  </tbody>\n",
       "</table>\n",
       "</div>"
      ],
      "text/plain": [
       "   threshold  accuracy        f1    recall  precision   roc_auc\n",
       "0      0.000    0.2035  0.338180  1.000000   0.203500  0.500000\n",
       "1      0.005    0.2035  0.338180  1.000000   0.203500  0.500000\n",
       "2      0.010    0.2040  0.338321  1.000000   0.203602  0.500314\n",
       "3      0.015    0.2065  0.339025  1.000000   0.204112  0.501883\n",
       "4      0.020    0.2120  0.340034  0.997543   0.204947  0.504421"
      ]
     },
     "execution_count": 51,
     "metadata": {},
     "output_type": "execute_result"
    }
   ],
   "source": [
    "# Сохраним датафрейм с помощью нашей функции\n",
    "lr_thresholds = proba_thresholds(lr, x_val, y_val)\n",
    "lr_thresholds.head()"
   ]
  },
  {
   "cell_type": "code",
   "execution_count": 52,
   "metadata": {},
   "outputs": [
    {
     "data": {
      "text/plain": [
       "threshold    0.260000\n",
       "accuracy     0.731000\n",
       "f1           0.467327\n",
       "recall       0.579853\n",
       "precision    0.391376\n",
       "roc_auc      0.674735\n",
       "Name: 52, dtype: float64"
      ]
     },
     "execution_count": 52,
     "metadata": {},
     "output_type": "execute_result"
    }
   ],
   "source": [
    "lr_best_unbal = lr_thresholds.loc[lr_thresholds.f1.idxmax(), :]\n",
    "lr_best_unbal"
   ]
  },
  {
   "cell_type": "markdown",
   "metadata": {},
   "source": [
    "- Перебор порогов дал отличный результат. Мы повысили значение F1 на *0.1*, что обнадёживает, учитывая предстоящую балансировку классов.\n",
    "- Полнота теперь не так сильно отстаёт от полноты предсказаний леса с учётом порога. А скорость работы выше на порядок.\n",
    "- AUROC также ниже, чем у случайного леса."
   ]
  },
  {
   "cell_type": "code",
   "execution_count": 53,
   "metadata": {},
   "outputs": [],
   "source": [
    "comparison_unbal = df([forest_best_unbal, lr_best_unbal], index=['rand_forest', 'log_regression'])"
   ]
  },
  {
   "cell_type": "code",
   "execution_count": 54,
   "metadata": {},
   "outputs": [
    {
     "data": {
      "image/png": "[encoded data removed]",
      "text/plain": [
       "<Figure size 3000x800 with 6 Axes>"
      ]
     },
     "metadata": {
      "needs_background": "light"
     },
     "output_type": "display_data"
    }
   ],
   "source": [
    "with Image(st='Сравнение качества моделей с лучшими параметрами на валидационной выборке', tight=False):\n",
    "    for i, col in enumerate(comparison_unbal.columns):\n",
    "        Image.subplot(231 + i)\n",
    "        sns.barplot(comparison_unbal.index, comparison_unbal[col])"
   ]
  },
  {
   "cell_type": "markdown",
   "metadata": {},
   "source": [
    "Как видно из диаграмм, логистическая регрессия уступает случайному лесу по всем критериям оценки. Но мы будем надеяться, что она покажет себя со сбалансированными класами."
   ]
  },
  {
   "cell_type": "markdown",
   "metadata": {},
   "source": [
    "### Вывод из обучения моделей без балансировки классов\n",
    "- Мы оценили разницу в количестве объектов положительного и отрицательного классов: их пропорция составляет примерно 4:1.\n",
    "- Испытали сломанную модель и получили с её помощью точность, близкую к *80%*, однако F1 и AUROC показали её несостоятельность.\n",
    "- Обучили две модели при помощи Grid Search: случайный лес и логистическую регрессию:\n",
    "    - Со случайным лесом нам удалось достичь целевого значения F1. После чего мы поиграли с пороговыми значениями предсказанных вероятностей и улучшили полноту ответов, не теряя при этом F1.\n",
    "    - Логистическая регрессия не смогла показать достаточное для нас значение F1, но мы не стали отбрасывать её, потому что не знаем, какой результат она покажет, обучившись с балансом классов.\n",
    "    \n",
    "[к оглавлению](#toc)"
   ]
  },
  {
   "cell_type": "markdown",
   "metadata": {},
   "source": [
    "---"
   ]
  },
  {
   "cell_type": "markdown",
   "metadata": {},
   "source": [
    "## 4. Обучение моделей с учётом дисбаланса классов <a id=\"balanced\"></a>\n",
    "В этом разделе мы обучим случайный лес и логистическую регрессию, но теперь придадим классам одинаковый вес. Для этого будем использовать гиперпараметры моделей."
   ]
  },
  {
   "cell_type": "markdown",
   "metadata": {},
   "source": [
    "### Случайный лес"
   ]
  },
  {
   "cell_type": "code",
   "execution_count": 55,
   "metadata": {},
   "outputs": [],
   "source": [
    "# Обучаем с той же сеткой параметров, что и до этого\n",
    "forest_gs_bal = GridSearchCV(RandomForestClassifier(random_state=0, n_estimators=30, class_weight='balanced'),\n",
    "                             param_grid=forest_gs.param_grid, scoring=scorers, refit='f1')"
   ]
  },
  {
   "cell_type": "code",
   "execution_count": 56,
   "metadata": {},
   "outputs": [
    {
     "name": "stdout",
     "output_type": "stream",
     "text": [
      "CPU times: user 2min 43s, sys: 2.44 s, total: 2min 46s\n",
      "Wall time: 2min 47s\n"
     ]
    },
    {
     "data": {
      "text/plain": [
       "GridSearchCV(cv=None, error_score=nan,\n",
       "             estimator=RandomForestClassifier(bootstrap=True, ccp_alpha=0.0,\n",
       "                                              class_weight='balanced',\n",
       "                                              criterion='gini', max_depth=None,\n",
       "                                              max_features='auto',\n",
       "                                              max_leaf_nodes=None,\n",
       "                                              max_samples=None,\n",
       "                                              min_impurity_decrease=0.0,\n",
       "                                              min_impurity_split=None,\n",
       "                                              min_samples_leaf=1,\n",
       "                                              min_samples_split=2,\n",
       "                                              min_weight_fraction_leaf=0.0,\n",
       "                                              n_estimators=30, n_jo...one,\n",
       "                                              oob_score=False, random_state=0,\n",
       "                                              verbose=0, warm_start=False),\n",
       "             iid='deprecated', n_jobs=None,\n",
       "             param_grid={'criterion': ['gini', 'entropy'],\n",
       "                         'max_depth': range(5, 31, 2),\n",
       "                         'min_samples_leaf': range(2, 5),\n",
       "                         'min_samples_split': range(2, 5)},\n",
       "             pre_dispatch='2*n_jobs', refit='f1', return_train_score=False,\n",
       "             scoring=['accuracy', 'recall', 'precision', 'f1', 'roc_auc'],\n",
       "             verbose=0)"
      ]
     },
     "execution_count": 56,
     "metadata": {},
     "output_type": "execute_result"
    }
   ],
   "source": [
    "%%time\n",
    "\n",
    "forest_gs_bal.fit(x_train, y_train)"
   ]
  },
  {
   "cell_type": "code",
   "execution_count": 57,
   "metadata": {},
   "outputs": [
    {
     "data": {
      "text/plain": [
       "mean_fit_time                                                       0.117635\n",
       "std_fit_time                                                      0.00840417\n",
       "mean_score_time                                                    0.0173982\n",
       "std_score_time                                                     0.0014017\n",
       "param_criterion                                                         gini\n",
       "param_max_depth                                                           11\n",
       "param_min_samples_leaf                                                     4\n",
       "param_min_samples_split                                                    2\n",
       "params                     {'criterion': 'gini', 'max_depth': 11, 'min_sa...\n",
       "split0_test_accuracy                                                0.845833\n",
       "split1_test_accuracy                                                  0.8375\n",
       "split2_test_accuracy                                                0.850833\n",
       "split3_test_accuracy                                                0.861667\n",
       "split4_test_accuracy                                                  0.8325\n",
       "mean_test_accuracy                                                  0.845667\n",
       "std_test_accuracy                                                  0.0102252\n",
       "rank_test_accuracy                                                       169\n",
       "split0_test_recall                                                  0.647541\n",
       "split1_test_recall                                                  0.659836\n",
       "split2_test_recall                                                  0.669388\n",
       "split3_test_recall                                                   0.64898\n",
       "split4_test_recall                                                  0.628571\n",
       "mean_test_recall                                                    0.650863\n",
       "std_test_recall                                                    0.0136761\n",
       "rank_test_recall                                                          55\n",
       "split0_test_precision                                               0.614786\n",
       "split1_test_precision                                               0.589744\n",
       "split2_test_precision                                               0.625954\n",
       "split3_test_precision                                               0.665272\n",
       "split4_test_precision                                               0.583333\n",
       "mean_test_precision                                                 0.615818\n",
       "std_test_precision                                                 0.0292733\n",
       "rank_test_precision                                                      172\n",
       "split0_test_f1                                                      0.630739\n",
       "split1_test_f1                                                      0.622824\n",
       "split2_test_f1                                                      0.646943\n",
       "split3_test_f1                                                      0.657025\n",
       "split4_test_f1                                                      0.605108\n",
       "mean_test_f1                                                        0.632528\n",
       "std_test_f1                                                         0.018205\n",
       "rank_test_f1                                                               1\n",
       "split0_test_roc_auc                                                 0.847593\n",
       "split1_test_roc_auc                                                 0.862692\n",
       "split2_test_roc_auc                                                 0.862759\n",
       "split3_test_roc_auc                                                 0.880889\n",
       "split4_test_roc_auc                                                 0.852309\n",
       "mean_test_roc_auc                                                   0.861248\n",
       "std_test_roc_auc                                                   0.0114586\n",
       "rank_test_roc_auc                                                         52\n",
       "Name: 33, dtype: object"
      ]
     },
     "execution_count": 57,
     "metadata": {},
     "output_type": "execute_result"
    }
   ],
   "source": [
    "df(forest_gs_bal.cv_results_).iloc[forest_gs_bal.best_index_]"
   ]
  },
  {
   "cell_type": "markdown",
   "metadata": {},
   "source": [
    "- На модели случайного леса мы получили прирост метрики F1 до среднего в *0.63*, что ощутимо лучше, чем *0.6*, полученные без учёта дисбаланса классов.\n",
    "- AUROC остался близок к тому же значению, что было до этого.\n",
    "\n",
    "Посмотрим, сможем ли мы улучшить показатель полноты ещё больше перебором порогов."
   ]
  },
  {
   "cell_type": "code",
   "execution_count": 58,
   "metadata": {},
   "outputs": [
    {
     "data": {
      "text/html": [
       "<div>\n",
       "<style scoped>\n",
       "    .dataframe tbody tr th:only-of-type {\n",
       "        vertical-align: middle;\n",
       "    }\n",
       "\n",
       "    .dataframe tbody tr th {\n",
       "        vertical-align: top;\n",
       "    }\n",
       "\n",
       "    .dataframe thead th {\n",
       "        text-align: right;\n",
       "    }\n",
       "</style>\n",
       "<table border=\"1\" class=\"dataframe\">\n",
       "  <thead>\n",
       "    <tr style=\"text-align: right;\">\n",
       "      <th></th>\n",
       "      <th>threshold</th>\n",
       "      <th>accuracy</th>\n",
       "      <th>f1</th>\n",
       "      <th>recall</th>\n",
       "      <th>precision</th>\n",
       "      <th>roc_auc</th>\n",
       "    </tr>\n",
       "  </thead>\n",
       "  <tbody>\n",
       "    <tr>\n",
       "      <th>83</th>\n",
       "      <td>0.415</td>\n",
       "      <td>0.8060</td>\n",
       "      <td>0.594990</td>\n",
       "      <td>0.700246</td>\n",
       "      <td>0.517241</td>\n",
       "      <td>0.766633</td>\n",
       "    </tr>\n",
       "    <tr>\n",
       "      <th>84</th>\n",
       "      <td>0.420</td>\n",
       "      <td>0.8090</td>\n",
       "      <td>0.598739</td>\n",
       "      <td>0.700246</td>\n",
       "      <td>0.522936</td>\n",
       "      <td>0.768516</td>\n",
       "    </tr>\n",
       "    <tr>\n",
       "      <th>85</th>\n",
       "      <td>0.425</td>\n",
       "      <td>0.8100</td>\n",
       "      <td>0.597458</td>\n",
       "      <td>0.692875</td>\n",
       "      <td>0.525140</td>\n",
       "      <td>0.766400</td>\n",
       "    </tr>\n",
       "    <tr>\n",
       "      <th>86</th>\n",
       "      <td>0.430</td>\n",
       "      <td>0.8125</td>\n",
       "      <td>0.598930</td>\n",
       "      <td>0.687961</td>\n",
       "      <td>0.530303</td>\n",
       "      <td>0.766140</td>\n",
       "    </tr>\n",
       "    <tr>\n",
       "      <th>87</th>\n",
       "      <td>0.435</td>\n",
       "      <td>0.8140</td>\n",
       "      <td>0.598272</td>\n",
       "      <td>0.680590</td>\n",
       "      <td>0.533719</td>\n",
       "      <td>0.764338</td>\n",
       "    </tr>\n",
       "    <tr>\n",
       "      <th>88</th>\n",
       "      <td>0.440</td>\n",
       "      <td>0.8145</td>\n",
       "      <td>0.596300</td>\n",
       "      <td>0.673219</td>\n",
       "      <td>0.535156</td>\n",
       "      <td>0.761908</td>\n",
       "    </tr>\n",
       "    <tr>\n",
       "      <th>89</th>\n",
       "      <td>0.445</td>\n",
       "      <td>0.8155</td>\n",
       "      <td>0.594059</td>\n",
       "      <td>0.663391</td>\n",
       "      <td>0.537849</td>\n",
       "      <td>0.758877</td>\n",
       "    </tr>\n",
       "    <tr>\n",
       "      <th>90</th>\n",
       "      <td>0.450</td>\n",
       "      <td>0.8205</td>\n",
       "      <td>0.599777</td>\n",
       "      <td>0.660934</td>\n",
       "      <td>0.548980</td>\n",
       "      <td>0.761101</td>\n",
       "    </tr>\n",
       "    <tr>\n",
       "      <th>91</th>\n",
       "      <td>0.455</td>\n",
       "      <td>0.8215</td>\n",
       "      <td>0.595696</td>\n",
       "      <td>0.646192</td>\n",
       "      <td>0.552521</td>\n",
       "      <td>0.756241</td>\n",
       "    </tr>\n",
       "    <tr>\n",
       "      <th>92</th>\n",
       "      <td>0.460</td>\n",
       "      <td>0.8240</td>\n",
       "      <td>0.597254</td>\n",
       "      <td>0.641278</td>\n",
       "      <td>0.558887</td>\n",
       "      <td>0.755981</td>\n",
       "    </tr>\n",
       "    <tr>\n",
       "      <th>93</th>\n",
       "      <td>0.465</td>\n",
       "      <td>0.8250</td>\n",
       "      <td>0.594907</td>\n",
       "      <td>0.631450</td>\n",
       "      <td>0.562363</td>\n",
       "      <td>0.752950</td>\n",
       "    </tr>\n",
       "    <tr>\n",
       "      <th>94</th>\n",
       "      <td>0.470</td>\n",
       "      <td>0.8250</td>\n",
       "      <td>0.593968</td>\n",
       "      <td>0.628993</td>\n",
       "      <td>0.562637</td>\n",
       "      <td>0.752036</td>\n",
       "    </tr>\n",
       "    <tr>\n",
       "      <th>96</th>\n",
       "      <td>0.480</td>\n",
       "      <td>0.8280</td>\n",
       "      <td>0.592417</td>\n",
       "      <td>0.614251</td>\n",
       "      <td>0.572082</td>\n",
       "      <td>0.748431</td>\n",
       "    </tr>\n",
       "    <tr>\n",
       "      <th>97</th>\n",
       "      <td>0.485</td>\n",
       "      <td>0.8285</td>\n",
       "      <td>0.592152</td>\n",
       "      <td>0.611794</td>\n",
       "      <td>0.573733</td>\n",
       "      <td>0.747830</td>\n",
       "    </tr>\n",
       "    <tr>\n",
       "      <th>118</th>\n",
       "      <td>0.590</td>\n",
       "      <td>0.8540</td>\n",
       "      <td>0.592179</td>\n",
       "      <td>0.520885</td>\n",
       "      <td>0.686084</td>\n",
       "      <td>0.729997</td>\n",
       "    </tr>\n",
       "  </tbody>\n",
       "</table>\n",
       "</div>"
      ],
      "text/plain": [
       "     threshold  accuracy        f1    recall  precision   roc_auc\n",
       "83       0.415    0.8060  0.594990  0.700246   0.517241  0.766633\n",
       "84       0.420    0.8090  0.598739  0.700246   0.522936  0.768516\n",
       "85       0.425    0.8100  0.597458  0.692875   0.525140  0.766400\n",
       "86       0.430    0.8125  0.598930  0.687961   0.530303  0.766140\n",
       "87       0.435    0.8140  0.598272  0.680590   0.533719  0.764338\n",
       "88       0.440    0.8145  0.596300  0.673219   0.535156  0.761908\n",
       "89       0.445    0.8155  0.594059  0.663391   0.537849  0.758877\n",
       "90       0.450    0.8205  0.599777  0.660934   0.548980  0.761101\n",
       "91       0.455    0.8215  0.595696  0.646192   0.552521  0.756241\n",
       "92       0.460    0.8240  0.597254  0.641278   0.558887  0.755981\n",
       "93       0.465    0.8250  0.594907  0.631450   0.562363  0.752950\n",
       "94       0.470    0.8250  0.593968  0.628993   0.562637  0.752036\n",
       "96       0.480    0.8280  0.592417  0.614251   0.572082  0.748431\n",
       "97       0.485    0.8285  0.592152  0.611794   0.573733  0.747830\n",
       "118      0.590    0.8540  0.592179  0.520885   0.686084  0.729997"
      ]
     },
     "execution_count": 58,
     "metadata": {},
     "output_type": "execute_result"
    }
   ],
   "source": [
    "forest_f1_ok_bal = proba_thresholds(forest_gs_bal.best_estimator_, x_val, y_val).query('f1 >= 0.59')\n",
    "forest_f1_ok_bal"
   ]
  },
  {
   "cell_type": "markdown",
   "metadata": {},
   "source": [
    "Если пользоваться порогами, то наше значение F1 сильно падает и не поднимается до *0.6* даже в лучших случаях. Поэтому для тестовой выборки мы оставим модель леса, которая получилась без использования порогов."
   ]
  },
  {
   "cell_type": "code",
   "execution_count": 59,
   "metadata": {},
   "outputs": [],
   "source": [
    "# Запишем модель в переменную\n",
    "forest_bal = forest_gs_bal.best_estimator_"
   ]
  },
  {
   "cell_type": "markdown",
   "metadata": {},
   "source": [
    "---"
   ]
  },
  {
   "cell_type": "markdown",
   "metadata": {},
   "source": [
    "### Логистическая регрессия\n",
    "Проделаем аналогичные действия над логистической регрессией и посмотрим, сможет ли она выдать нормальное значение F1 с учётом дисбаланса классов."
   ]
  },
  {
   "cell_type": "code",
   "execution_count": 60,
   "metadata": {},
   "outputs": [],
   "source": [
    "lr_gs_bal = GridSearchCV(LogisticRegression(random_state=0, class_weight='balanced'),\n",
    "                         param_grid=lr_gs.param_grid,\n",
    "                         scoring=scorers, refit='f1')"
   ]
  },
  {
   "cell_type": "code",
   "execution_count": 61,
   "metadata": {},
   "outputs": [
    {
     "data": {
      "text/plain": [
       "GridSearchCV(cv=None, error_score=nan,\n",
       "             estimator=LogisticRegression(C=1.0, class_weight='balanced',\n",
       "                                          dual=False, fit_intercept=True,\n",
       "                                          intercept_scaling=1, l1_ratio=None,\n",
       "                                          max_iter=100, multi_class='auto',\n",
       "                                          n_jobs=None, penalty='l2',\n",
       "                                          random_state=0, solver='lbfgs',\n",
       "                                          tol=0.0001, verbose=0,\n",
       "                                          warm_start=False),\n",
       "             iid='deprecated', n_jobs=None,\n",
       "             param_grid={'C': array([1. , 0.9, 0.8, 0.7, 0.6, 0.5, 0.4, 0.3, 0.2, 0.1]),\n",
       "                         'fit_intercept': [True, False],\n",
       "                         'solver': ['newton-cg', 'lbfgs', 'liblinear', 'sag',\n",
       "                                    'saga']},\n",
       "             pre_dispatch='2*n_jobs', refit='f1', return_train_score=False,\n",
       "             scoring=['accuracy', 'recall', 'precision', 'f1', 'roc_auc'],\n",
       "             verbose=0)"
      ]
     },
     "execution_count": 61,
     "metadata": {},
     "output_type": "execute_result"
    }
   ],
   "source": [
    "lr_gs_bal.fit(x_train, y_train)"
   ]
  },
  {
   "cell_type": "markdown",
   "metadata": {},
   "source": [
    "Улучшилось ли качество регрессии?"
   ]
  },
  {
   "cell_type": "code",
   "execution_count": 62,
   "metadata": {},
   "outputs": [
    {
     "data": {
      "text/plain": [
       "mean_fit_time                                                    0.0129056\n",
       "std_fit_time                                                   0.000369216\n",
       "mean_score_time                                                 0.00483961\n",
       "std_score_time                                                 1.66868e-05\n",
       "param_C                                                                0.1\n",
       "param_fit_intercept                                                  False\n",
       "param_solver                                                     newton-cg\n",
       "params                   {'C': 0.1000000000000002, 'fit_intercept': Fal...\n",
       "split0_test_accuracy                                              0.729167\n",
       "split1_test_accuracy                                                  0.73\n",
       "split2_test_accuracy                                                0.7475\n",
       "split3_test_accuracy                                                0.7425\n",
       "split4_test_accuracy                                              0.715833\n",
       "mean_test_accuracy                                                   0.733\n",
       "std_test_accuracy                                                0.0111255\n",
       "rank_test_accuracy                                                       1\n",
       "split0_test_recall                                                0.672131\n",
       "split1_test_recall                                                0.692623\n",
       "split2_test_recall                                                0.718367\n",
       "split3_test_recall                                                0.730612\n",
       "split4_test_recall                                                0.681633\n",
       "mean_test_recall                                                  0.699073\n",
       "std_test_recall                                                  0.0220845\n",
       "rank_test_recall                                                        66\n",
       "split0_test_precision                                             0.400978\n",
       "split1_test_precision                                             0.404306\n",
       "split2_test_precision                                             0.429268\n",
       "split3_test_precision                                             0.424171\n",
       "split4_test_precision                                             0.388372\n",
       "mean_test_precision                                               0.409419\n",
       "std_test_precision                                               0.0151787\n",
       "rank_test_precision                                                      1\n",
       "split0_test_f1                                                    0.502297\n",
       "split1_test_f1                                                    0.510574\n",
       "split2_test_f1                                                    0.537405\n",
       "split3_test_f1                                                    0.536732\n",
       "split4_test_f1                                                    0.494815\n",
       "mean_test_f1                                                      0.516364\n",
       "std_test_f1                                                      0.0176256\n",
       "rank_test_f1                                                             1\n",
       "split0_test_roc_auc                                               0.753472\n",
       "split1_test_roc_auc                                               0.765107\n",
       "split2_test_roc_auc                                               0.789884\n",
       "split3_test_roc_auc                                               0.793431\n",
       "split4_test_roc_auc                                               0.756175\n",
       "mean_test_roc_auc                                                 0.771614\n",
       "std_test_roc_auc                                                 0.0168498\n",
       "rank_test_roc_auc                                                        1\n",
       "Name: 95, dtype: object"
      ]
     },
     "execution_count": 62,
     "metadata": {},
     "output_type": "execute_result"
    }
   ],
   "source": [
    "df(lr_gs_bal.cv_results_).loc[lr_gs_bal.best_index_, :]"
   ]
  },
  {
   "cell_type": "markdown",
   "metadata": {},
   "source": [
    "F1 заметно выросла, но этого по-прежнему не достаточно. Узнаем, какой максимальной F1 можно достичь с использованием порога."
   ]
  },
  {
   "cell_type": "code",
   "execution_count": 63,
   "metadata": {},
   "outputs": [
    {
     "data": {
      "text/plain": [
       "0.4839024390243903"
      ]
     },
     "execution_count": 63,
     "metadata": {},
     "output_type": "execute_result"
    }
   ],
   "source": [
    "proba_thresholds(lr_gs_bal, x_val, y_val, step=0.0005).f1.max()"
   ]
  },
  {
   "cell_type": "markdown",
   "metadata": {},
   "source": [
    "F1 даже ниже F1 по Grid Search. Использовать порог нет смысла."
   ]
  },
  {
   "cell_type": "markdown",
   "metadata": {},
   "source": [
    "### Вывод из обучения с балансировкой классов\n",
    "- Мы обучили случайный лес и логистическую регрессию, но на этот раз учли дисбаланс классов, придав им разный вес.\n",
    "- У обеих моделей вырозло значение F1, но использование порогов при предсказании вероятности ухудшило результаты, поэтому мы от них отказались.\n",
    "- Логистическая регрессия не достигла целевой *F1 == 0.59*, поэтому на тестовой выборке мы будем испытывать случайный лес.\n",
    "\n",
    "[к оглавлению](#toc)"
   ]
  },
  {
   "cell_type": "markdown",
   "metadata": {},
   "source": [
    "---"
   ]
  },
  {
   "cell_type": "markdown",
   "metadata": {},
   "source": [
    "## 5. Финальное тестирование <a id=\"test\"></a>\n",
    "\n",
    "Мы выбрали в качестве основной модели случайный лес. Модель уже обучена и показала неплохой результат на валидационной выборке."
   ]
  },
  {
   "cell_type": "code",
   "execution_count": 64,
   "metadata": {},
   "outputs": [],
   "source": [
    "model = forest_bal"
   ]
  },
  {
   "cell_type": "code",
   "execution_count": 65,
   "metadata": {},
   "outputs": [],
   "source": [
    "preds = forest_bal.predict(x_test)"
   ]
  },
  {
   "cell_type": "code",
   "execution_count": 66,
   "metadata": {},
   "outputs": [
    {
     "data": {
      "text/plain": [
       "0.5947242206235013"
      ]
     },
     "execution_count": 66,
     "metadata": {},
     "output_type": "execute_result"
    }
   ],
   "source": [
    "# F1\n",
    "f1_score(y_test, preds)"
   ]
  },
  {
   "cell_type": "code",
   "execution_count": 67,
   "metadata": {},
   "outputs": [
    {
     "data": {
      "text/plain": [
       "0.5807962529274004"
      ]
     },
     "execution_count": 67,
     "metadata": {},
     "output_type": "execute_result"
    }
   ],
   "source": [
    "# Точность\n",
    "precision_score(y_test, preds)"
   ]
  },
  {
   "cell_type": "code",
   "execution_count": 68,
   "metadata": {},
   "outputs": [
    {
     "data": {
      "text/plain": [
       "0.6093366093366094"
      ]
     },
     "execution_count": 68,
     "metadata": {},
     "output_type": "execute_result"
    }
   ],
   "source": [
    "# Полнота\n",
    "recall_score(y_test, preds)"
   ]
  },
  {
   "cell_type": "markdown",
   "metadata": {},
   "source": [
    "На валидационной выборке F1 была сильно лучше, но нам этого достаточно. **Условие проекта выполнено**.\n",
    "\n",
    "[к оглавлению](#toc)"
   ]
  },
  {
   "cell_type": "markdown",
   "metadata": {},
   "source": [
    "---"
   ]
  },
  {
   "cell_type": "markdown",
   "metadata": {},
   "source": [
    "## 6. Общий вывод <a id=\"conclusion\"></a>\n",
    "\n",
    "- Нашей задачей было построить модель, которая предсказывала бы вероятный уход клиентов из банка, чтобы суметь их вовремя выявить и удержать.\n",
    "- Мы изучили датасет и подготовили его к обучению:\n",
    "    - Избавились от лишних данных.\n",
    "    - Закодировали категориальные признаки по принципу One-Hot.\n",
    "    - Отмасштабировали количественные признаки, чтобы повысить точность логистической регрессии.\n",
    "    - Выделили дополнительный признак - нулевой баланс.\n",
    "- Обучили модели случайного леса и логистической регрессии:\n",
    "    - Без учёта дисбалансов класса только случайный лес показал достаточный результат.\n",
    "    - С учётом дисбаланса качество обеих моделей улучшилось, но логистическая регрессия так и не набрала достаточного значения F1.\n",
    "- Проверили случайный лес с оптимальными параметрами на тестовой выборке и получили F1, достаточное по условию проекта.\n",
    "\n",
    "[к оглавлению](#toc)"
   ]
  },
  {
   "cell_type": "markdown",
   "metadata": {},
   "source": [
    "---"
   ]
  }
 ],
 "metadata": {
  "kernelspec": {
   "display_name": "Python 3",
   "language": "python",
   "name": "python3"
  },
  "language_info": {
   "codemirror_mode": {
    "name": "ipython",
    "version": 3
   },
   "file_extension": ".py",
   "mimetype": "text/x-python",
   "name": "python",
   "nbconvert_exporter": "python",
   "pygments_lexer": "ipython3",
   "version": "3.7.7"
  }
 },
 "nbformat": 4,
 "nbformat_minor": 4
}
