{
 "cells": [
  {
   "cell_type": "markdown",
   "metadata": {},
   "source": [
    "# Проект: выявление токсичных комментариев"
   ]
  },
  {
   "cell_type": "markdown",
   "metadata": {},
   "source": [
    "**Цель** - обучить модель-классификатор, которая будет выбирать среди комментариев токсичные и отправлять их на модерацию.\n",
    "\n",
    "Достаточным качеством модели будет **F1** на тестовой выборке = *0.75*."
   ]
  },
  {
   "cell_type": "markdown",
   "metadata": {},
   "source": [
    "---"
   ]
  },
  {
   "cell_type": "markdown",
   "metadata": {},
   "source": [
    "## 1. Первичное изучение и предобработка данных"
   ]
  },
  {
   "cell_type": "code",
   "execution_count": 25,
   "metadata": {},
   "outputs": [],
   "source": [
    "import pandas as pd\n",
    "import matplotlib.pyplot as plt\n",
    "import seaborn as sns\n",
    "import numpy as np\n",
    "from tqdm import notebook\n",
    "from IPython.display import display\n",
    "import warnings\n",
    "import joblib\n",
    "\n",
    "warnings.filterwarnings('ignore')\n",
    "pd.options.display.max_columns = None"
   ]
  },
  {
   "cell_type": "code",
   "execution_count": 2,
   "metadata": {},
   "outputs": [],
   "source": [
    "# Откроем файл\n",
    "data = pd.read_csv('../../../toxic_comments/datasets/toxic_comments.csv')"
   ]
  },
  {
   "cell_type": "code",
   "execution_count": 3,
   "metadata": {},
   "outputs": [
    {
     "data": {
      "text/plain": [
       "(159571, 2)"
      ]
     },
     "execution_count": 3,
     "metadata": {},
     "output_type": "execute_result"
    }
   ],
   "source": [
    "# Какой размер у датасета?\n",
    "data.shape"
   ]
  },
  {
   "cell_type": "code",
   "execution_count": 4,
   "metadata": {},
   "outputs": [
    {
     "data": {
      "text/html": [
       "<div>\n",
       "<style scoped>\n",
       "    .dataframe tbody tr th:only-of-type {\n",
       "        vertical-align: middle;\n",
       "    }\n",
       "\n",
       "    .dataframe tbody tr th {\n",
       "        vertical-align: top;\n",
       "    }\n",
       "\n",
       "    .dataframe thead th {\n",
       "        text-align: right;\n",
       "    }\n",
       "</style>\n",
       "<table border=\"1\" class=\"dataframe\">\n",
       "  <thead>\n",
       "    <tr style=\"text-align: right;\">\n",
       "      <th></th>\n",
       "      <th>text</th>\n",
       "      <th>toxic</th>\n",
       "    </tr>\n",
       "  </thead>\n",
       "  <tbody>\n",
       "    <tr>\n",
       "      <th>0</th>\n",
       "      <td>Explanation\\nWhy the edits made under my usern...</td>\n",
       "      <td>0</td>\n",
       "    </tr>\n",
       "    <tr>\n",
       "      <th>1</th>\n",
       "      <td>D'aww! He matches this background colour I'm s...</td>\n",
       "      <td>0</td>\n",
       "    </tr>\n",
       "    <tr>\n",
       "      <th>2</th>\n",
       "      <td>Hey man, I'm really not trying to edit war. It...</td>\n",
       "      <td>0</td>\n",
       "    </tr>\n",
       "    <tr>\n",
       "      <th>3</th>\n",
       "      <td>\"\\nMore\\nI can't make any real suggestions on ...</td>\n",
       "      <td>0</td>\n",
       "    </tr>\n",
       "    <tr>\n",
       "      <th>4</th>\n",
       "      <td>You, sir, are my hero. Any chance you remember...</td>\n",
       "      <td>0</td>\n",
       "    </tr>\n",
       "  </tbody>\n",
       "</table>\n",
       "</div>"
      ],
      "text/plain": [
       "                                                text  toxic\n",
       "0  Explanation\\nWhy the edits made under my usern...      0\n",
       "1  D'aww! He matches this background colour I'm s...      0\n",
       "2  Hey man, I'm really not trying to edit war. It...      0\n",
       "3  \"\\nMore\\nI can't make any real suggestions on ...      0\n",
       "4  You, sir, are my hero. Any chance you remember...      0"
      ]
     },
     "execution_count": 4,
     "metadata": {},
     "output_type": "execute_result"
    }
   ],
   "source": [
    "data.head()"
   ]
  },
  {
   "cell_type": "markdown",
   "metadata": {},
   "source": [
    "Посмотрим, соответствует ли единица в целевом признаке токсичным комментариям."
   ]
  },
  {
   "cell_type": "code",
   "execution_count": 5,
   "metadata": {},
   "outputs": [
    {
     "data": {
      "text/html": [
       "<div>\n",
       "<style scoped>\n",
       "    .dataframe tbody tr th:only-of-type {\n",
       "        vertical-align: middle;\n",
       "    }\n",
       "\n",
       "    .dataframe tbody tr th {\n",
       "        vertical-align: top;\n",
       "    }\n",
       "\n",
       "    .dataframe thead th {\n",
       "        text-align: right;\n",
       "    }\n",
       "</style>\n",
       "<table border=\"1\" class=\"dataframe\">\n",
       "  <thead>\n",
       "    <tr style=\"text-align: right;\">\n",
       "      <th></th>\n",
       "      <th>text</th>\n",
       "      <th>toxic</th>\n",
       "    </tr>\n",
       "  </thead>\n",
       "  <tbody>\n",
       "    <tr>\n",
       "      <th>6</th>\n",
       "      <td>COCKSUCKER BEFORE YOU PISS AROUND ON MY WORK</td>\n",
       "      <td>1</td>\n",
       "    </tr>\n",
       "    <tr>\n",
       "      <th>12</th>\n",
       "      <td>Hey... what is it..\\n@ | talk .\\nWhat is it......</td>\n",
       "      <td>1</td>\n",
       "    </tr>\n",
       "    <tr>\n",
       "      <th>16</th>\n",
       "      <td>Bye! \\n\\nDon't look, come or think of comming ...</td>\n",
       "      <td>1</td>\n",
       "    </tr>\n",
       "    <tr>\n",
       "      <th>42</th>\n",
       "      <td>You are gay or antisemmitian? \\n\\nArchangel WH...</td>\n",
       "      <td>1</td>\n",
       "    </tr>\n",
       "    <tr>\n",
       "      <th>43</th>\n",
       "      <td>FUCK YOUR FILTHY MOTHER IN THE ASS, DRY!</td>\n",
       "      <td>1</td>\n",
       "    </tr>\n",
       "  </tbody>\n",
       "</table>\n",
       "</div>"
      ],
      "text/plain": [
       "                                                 text  toxic\n",
       "6        COCKSUCKER BEFORE YOU PISS AROUND ON MY WORK      1\n",
       "12  Hey... what is it..\\n@ | talk .\\nWhat is it......      1\n",
       "16  Bye! \\n\\nDon't look, come or think of comming ...      1\n",
       "42  You are gay or antisemmitian? \\n\\nArchangel WH...      1\n",
       "43           FUCK YOUR FILTHY MOTHER IN THE ASS, DRY!      1"
      ]
     },
     "execution_count": 5,
     "metadata": {},
     "output_type": "execute_result"
    }
   ],
   "source": [
    "data.query('toxic == 1').head()"
   ]
  },
  {
   "cell_type": "markdown",
   "metadata": {},
   "source": [
    "Всё ясно: *1* - токсичный комментарий, *0* - обычный.\n",
    "\n",
    "Выделим из данных корпус и целевой признак."
   ]
  },
  {
   "cell_type": "code",
   "execution_count": 6,
   "metadata": {},
   "outputs": [
    {
     "data": {
      "text/plain": [
       "0    Explanation\\nWhy the edits made under my usern...\n",
       "1    D'aww! He matches this background colour I'm s...\n",
       "2    Hey man, I'm really not trying to edit war. It...\n",
       "3    \"\\nMore\\nI can't make any real suggestions on ...\n",
       "4    You, sir, are my hero. Any chance you remember...\n",
       "Name: text, dtype: object"
      ]
     },
     "execution_count": 6,
     "metadata": {},
     "output_type": "execute_result"
    }
   ],
   "source": [
    "# Корпус\n",
    "corpus = data.text\n",
    "corpus.head()"
   ]
  },
  {
   "cell_type": "code",
   "execution_count": 7,
   "metadata": {},
   "outputs": [
    {
     "data": {
      "text/plain": [
       "array([0, 0, 0, 0, 0])"
      ]
     },
     "execution_count": 7,
     "metadata": {},
     "output_type": "execute_result"
    }
   ],
   "source": [
    "# Целевой признак\n",
    "target = data.toxic.values\n",
    "target[:5]"
   ]
  },
  {
   "cell_type": "markdown",
   "metadata": {},
   "source": [
    "Текст грязный не только по смыслу, но и по наличию в нём символов. Попытаемся извлечь из этого пользу. Выделим столбец, в котором будет указано количество восклицательных знаков в тексте. Не факт, что это поможет (восклицательные знаки могут содержаться и в положительных текстах), но мы попробуем. "
   ]
  },
  {
   "cell_type": "code",
   "execution_count": 8,
   "metadata": {},
   "outputs": [
    {
     "data": {
      "text/plain": [
       "0    0\n",
       "1    1\n",
       "2    0\n",
       "3    0\n",
       "4    0\n",
       "Name: num_exclamations, dtype: int64"
      ]
     },
     "execution_count": 8,
     "metadata": {},
     "output_type": "execute_result"
    }
   ],
   "source": [
    "exclamations = corpus.apply(lambda x: x.count('!')).rename('num_exclamations')\n",
    "exclamations.head()"
   ]
  },
  {
   "cell_type": "markdown",
   "metadata": {},
   "source": [
    "Теперь удалим символы из текста. Числа оставим, потому что они **могут что-то означать**: например, WW2 - Вторая Мировая Война."
   ]
  },
  {
   "cell_type": "code",
   "execution_count": 9,
   "metadata": {},
   "outputs": [],
   "source": [
    "import re"
   ]
  },
  {
   "cell_type": "code",
   "execution_count": 10,
   "metadata": {},
   "outputs": [],
   "source": [
    "def remove_symbols(text):\n",
    "    return re.sub(r'[\\W]\\s*', ' ', text).lower()"
   ]
  },
  {
   "cell_type": "markdown",
   "metadata": {},
   "source": [
    "Убедимся, что функция работает так, как нам нужно."
   ]
  },
  {
   "cell_type": "code",
   "execution_count": 11,
   "metadata": {},
   "outputs": [
    {
     "name": "stdout",
     "output_type": "stream",
     "text": [
      "before:\n",
      "\n",
      "You are gay or antisemmitian? \n",
      "\n",
      "Archangel WHite Tiger\n",
      "\n",
      "Meow! Greetingshhh!\n",
      "\n",
      "Uh, there are two ways, why you do erased my comment about WW2, that holocaust was brutally slaying of Jews and not gays/Gypsys/Slavs/anyone...\n",
      "\n",
      "1 - If you are anti-semitian, than shave your head bald and go to the skinhead meetings!\n",
      "\n",
      "2 - If you doubt words of the Bible, that homosexuality is a deadly sin, make a pentagram tatoo on your forehead go to the satanistic masses with your gay pals!\n",
      "\n",
      "3 - First and last warning, you fucking gay - I won't appreciate if any more nazi shwain would write in my page! I don't wish to talk to you anymore!\n",
      "\n",
      "Beware of the Dark Side!\n",
      "\n",
      "after:\n",
      "\n",
      "you are gay or antisemmitian archangel white tiger meow greetingshhh uh there are two ways why you do erased my comment about ww2 that holocaust was brutally slaying of jews and not gays gypsys slavs anyone   1  if you are anti semitian than shave your head bald and go to the skinhead meetings 2  if you doubt words of the bible that homosexuality is a deadly sin make a pentagram tatoo on your forehead go to the satanistic masses with your gay pals 3  first and last warning you fucking gay  i won t appreciate if any more nazi shwain would write in my page i don t wish to talk to you anymore beware of the dark side \n"
     ]
    }
   ],
   "source": [
    "# Возьмём произвольный текст\n",
    "some_text = data.at[42, \"text\"]\n",
    "print(f'before:\\n\\n{some_text}\\n')\n",
    "print(f\"after:\\n\\n{remove_symbols(some_text)}\")"
   ]
  },
  {
   "cell_type": "markdown",
   "metadata": {},
   "source": [
    "Прекрасно. Теперь преобразуем подобным образом весь корпус."
   ]
  },
  {
   "cell_type": "code",
   "execution_count": 12,
   "metadata": {},
   "outputs": [],
   "source": [
    "corpus = corpus.apply(remove_symbols)"
   ]
  },
  {
   "cell_type": "code",
   "execution_count": 13,
   "metadata": {},
   "outputs": [
    {
     "data": {
      "text/plain": [
       "0    explanation why the edits made under my userna...\n",
       "1    d aww he matches this background colour i m se...\n",
       "2    hey man i m really not trying to edit war it s...\n",
       "3     more i can t make any real suggestions on imp...\n",
       "4    you sir are my hero any chance you remember wh...\n",
       "Name: text, dtype: object"
      ]
     },
     "execution_count": 13,
     "metadata": {},
     "output_type": "execute_result"
    }
   ],
   "source": [
    "corpus.head()"
   ]
  },
  {
   "cell_type": "markdown",
   "metadata": {},
   "source": [
    "Отлично. Будет хорошей идеей **лемматизировать** слова, чтобы при векторизации похожие слова объединились. Но мы будем делать это прямо во время обучения."
   ]
  },
  {
   "cell_type": "markdown",
   "metadata": {},
   "source": [
    "---"
   ]
  },
  {
   "cell_type": "markdown",
   "metadata": {},
   "source": [
    "## 2. Обучение моделей"
   ]
  },
  {
   "cell_type": "markdown",
   "metadata": {},
   "source": [
    "### Кодирование признаков\n",
    "Мы закодируем признаки тремя разными способами и выясним, что даст наилучшее качество:\n",
    "- Мешок слов\n",
    "- TF-IDF-кодирование\n",
    "- BERT-эмбеддинги\n",
    "\n",
    "Напишем небольшой пайплайн, который:\n",
    "- Примет на вход данные\n",
    "- Лемматизирует их (если нужно)\n",
    "- Векторизует тексты в корпусе\n",
    "- Выполнит кросс-валидацию модели,\n",
    "- Измерит качество предсказаний на тестовой выборке.\n",
    "\n",
    "Мы будем использовать его с `CountVectorizer` и `TfidfVectorizer`, а нашей моделью будет логистическая регрессия. Приоритетной метрикой для нас будет F1 при кросс-валидации **на обучающей выборке**."
   ]
  },
  {
   "cell_type": "code",
   "execution_count": 14,
   "metadata": {},
   "outputs": [
    {
     "name": "stderr",
     "output_type": "stream",
     "text": [
      "[nltk_data] Downloading package stopwords to /Users/ivan/nltk_data...\n",
      "[nltk_data]   Package stopwords is already up-to-date!\n",
      "[nltk_data] Downloading package wordnet to /Users/ivan/nltk_data...\n",
      "[nltk_data]   Package wordnet is already up-to-date!\n"
     ]
    },
    {
     "data": {
      "text/plain": [
       "True"
      ]
     },
     "execution_count": 14,
     "metadata": {},
     "output_type": "execute_result"
    }
   ],
   "source": [
    "from sklearn.model_selection import train_test_split, cross_validate\n",
    "from sklearn.metrics import f1_score\n",
    "import nltk\n",
    "from nltk.corpus import stopwords\n",
    "from functools import partial\n",
    "from sklearn.linear_model import LogisticRegression\n",
    "from sklearn.feature_extraction.text import CountVectorizer, TfidfVectorizer\n",
    "from scipy import sparse\n",
    "from nltk.stem import SnowballStemmer, WordNetLemmatizer\n",
    "\n",
    "\n",
    "# Обозначим стоп-слова из английского языка\n",
    "nltk.download('stopwords')\n",
    "stop_en = stopwords.words('english')\n",
    "nltk.download('wordnet')"
   ]
  },
  {
   "cell_type": "code",
   "execution_count": 150,
   "metadata": {},
   "outputs": [],
   "source": [
    "from toads.utils import dict_agg"
   ]
  },
  {
   "cell_type": "code",
   "execution_count": 17,
   "metadata": {},
   "outputs": [],
   "source": [
    "def lemmatize(text, lemm_func):\n",
    "    \"\"\"Возвращает лемматизированную строку.\"\"\"\n",
    "    return ' '.join(\n",
    "        list(\n",
    "            map(lemm_func, text.split())\n",
    "        )\n",
    ")\n",
    "\n",
    "def train_pipeline(model, vectorizer, x, y, with_exclamations=False, lemm_func=None, **vec_kws) -> dict:\n",
    "    \"\"\"Обучает модель на данных, преобразованных с помощью объекта vectorizer.\n",
    "    lemm_func = функция, принимающая слово.\"\"\"\n",
    "    global exclamations\n",
    "    # Лемматизируем, если есть, чем\n",
    "    if lemm_func:\n",
    "        print('lemmatizing...')\n",
    "        x = x.copy().apply(lemmatize, lemm_func=lemm_func)\n",
    "        \n",
    "    # Делим на выборки 3:1\n",
    "    print('splitting into train-test...')\n",
    "    x_train, x_test, y_train, y_test, exc_train, exc_test = train_test_split(x, y, exclamations, random_state=0, test_size=.25)\n",
    "    # Проверяем качество деления\n",
    "    print('data split into shapes:')\n",
    "    for x in (x_train, x_test, y_train, y_test, exc_train, exc_test):\n",
    "        print(x.shape)\n",
    "    # Создаём объект-векторизатор\n",
    "    vectorizer = vectorizer(**vec_kws)\n",
    "    # Преобразуем корпус\n",
    "    print('vectorizing...')\n",
    "    x_train = vectorizer.fit_transform(x_train)\n",
    "    x_test = vectorizer.transform(x_test)\n",
    "    # Если используем восклицательные знаки, добавим один столбец к матрице\n",
    "    if with_exclamations:\n",
    "        x_train = sparse.hstack([x_train, exc_train.values.reshape(-1, 1)], format='csr')\n",
    "        x_test = sparse.hstack([x_test, exc_test.values.reshape(-1, 1)], format='csr')\n",
    "    display(x_train)\n",
    "    # Запишем результат кросс-валидации с метрикой F1\n",
    "    print('cross-validating...')\n",
    "    output = cross_validate(model, x_train, y_train, cv=3, n_jobs=-1, scoring='f1')\n",
    "    output['cv_score'] = output['test_score']\n",
    "    del output['test_score']\n",
    "    # Добавим F1 на тестовой выборке\n",
    "    model.fit(x_train, y_train)\n",
    "    output['test_score'] = f1_score(y_test, model.predict(x_test))\n",
    "    # Время предсказания нас не интересует\n",
    "    del output['score_time']\n",
    "    return dict_agg(output)\n",
    "\n",
    "# Закрепим корпус и целевой признак, запомним стоп-слова, чтобы не писать это по многу раз\n",
    "train_vectorized = partial(train_pipeline, x=corpus, y=target, stop_words=stop_en)"
   ]
  },
  {
   "cell_type": "markdown",
   "metadata": {},
   "source": [
    "#### Мешок слов (Bag of words)\n",
    "Посчитаем, сколько раз каждое слово встречается в объектах корпуса. Используем для этого `CountVectorizer` из `sklearn`."
   ]
  },
  {
   "cell_type": "code",
   "execution_count": 36,
   "metadata": {},
   "outputs": [
    {
     "name": "stdout",
     "output_type": "stream",
     "text": [
      "splitting into train-test...\n",
      "data split into shapes:\n",
      "(119678,)\n",
      "(39893,)\n",
      "(119678,)\n",
      "(39893,)\n",
      "(119678,)\n",
      "(39893,)\n",
      "vectorizing...\n"
     ]
    },
    {
     "data": {
      "text/plain": [
       "<119678x159224 sparse matrix of type '<class 'numpy.int64'>'\n",
       "\twith 3364948 stored elements in Compressed Sparse Row format>"
      ]
     },
     "metadata": {},
     "output_type": "display_data"
    },
    {
     "name": "stdout",
     "output_type": "stream",
     "text": [
      "cross-validating...\n",
      "CPU times: user 19.3 s, sys: 386 ms, total: 19.7 s\n",
      "Wall time: 14.7 s\n"
     ]
    },
    {
     "data": {
      "text/plain": [
       "{'fit_time': 3.7832704385121665,\n",
       " 'cv_score': 0.7563500303493876,\n",
       " 'test_score': 0.7681771487273142}"
      ]
     },
     "execution_count": 36,
     "metadata": {},
     "output_type": "execute_result"
    }
   ],
   "source": [
    "%%time\n",
    "# Базовые параметры\n",
    "train_vectorized(LogisticRegression(class_weight='balanced'), vectorizer=CountVectorizer)"
   ]
  },
  {
   "cell_type": "markdown",
   "metadata": {},
   "source": [
    "Средняя F1 при кросс-валидации уже превышает необходимое по условию значение."
   ]
  },
  {
   "cell_type": "code",
   "execution_count": 37,
   "metadata": {},
   "outputs": [
    {
     "name": "stdout",
     "output_type": "stream",
     "text": [
      "lemmatizing...\n",
      "splitting into train-test...\n",
      "data split into shapes:\n",
      "(119678,)\n",
      "(39893,)\n",
      "(119678,)\n",
      "(39893,)\n",
      "(119678,)\n",
      "(39893,)\n",
      "vectorizing...\n"
     ]
    },
    {
     "data": {
      "text/plain": [
       "<119678x127617 sparse matrix of type '<class 'numpy.int64'>'\n",
       "\twith 3296090 stored elements in Compressed Sparse Row format>"
      ]
     },
     "metadata": {},
     "output_type": "display_data"
    },
    {
     "name": "stdout",
     "output_type": "stream",
     "text": [
      "cross-validating...\n",
      "CPU times: user 2min, sys: 643 ms, total: 2min 1s\n",
      "Wall time: 1min 56s\n"
     ]
    },
    {
     "data": {
      "text/plain": [
       "{'fit_time': 3.1635937690734863,\n",
       " 'cv_score': 0.7514767480846776,\n",
       " 'test_score': 0.761926041783041}"
      ]
     },
     "execution_count": 37,
     "metadata": {},
     "output_type": "execute_result"
    }
   ],
   "source": [
    "%%time\n",
    "# Со стеммингом\n",
    "train_vectorized(LogisticRegression(class_weight='balanced'), lemm_func=SnowballStemmer('english').stem, vectorizer=CountVectorizer)"
   ]
  },
  {
   "cell_type": "markdown",
   "metadata": {},
   "source": [
    "- Результат слегка ухудшился в сравнении с данными без стемминга.\n",
    "- А вот скорость обучения немного увеличилась: в датасете стало на 22000 слов меньше.\n",
    "- С другой стороны, гораздо больше времени ушло на то, чтобы выполнить стемминг, и в результате нам пришлось ждать дольше ради меньшего качества.\n",
    "\n",
    "Пока что у нас нет веской причины использовать стемминг. Узнаем, насколько хорошо сработает лемматизация."
   ]
  },
  {
   "cell_type": "code",
   "execution_count": 38,
   "metadata": {},
   "outputs": [
    {
     "name": "stdout",
     "output_type": "stream",
     "text": [
      "lemmatizing...\n",
      "splitting into train-test...\n",
      "data split into shapes:\n",
      "(119678,)\n",
      "(39893,)\n",
      "(119678,)\n",
      "(39893,)\n",
      "(119678,)\n",
      "(39893,)\n",
      "vectorizing...\n"
     ]
    },
    {
     "data": {
      "text/plain": [
       "<119678x150180 sparse matrix of type '<class 'numpy.int64'>'\n",
       "\twith 3349273 stored elements in Compressed Sparse Row format>"
      ]
     },
     "metadata": {},
     "output_type": "display_data"
    },
    {
     "name": "stdout",
     "output_type": "stream",
     "text": [
      "cross-validating...\n",
      "CPU times: user 1min 46s, sys: 1.24 s, total: 1min 47s\n",
      "Wall time: 1min 36s\n"
     ]
    },
    {
     "data": {
      "text/plain": [
       "{'fit_time': 6.428382237752278,\n",
       " 'cv_score': 0.7501819211180161,\n",
       " 'test_score': 0.7580845070422536}"
      ]
     },
     "execution_count": 38,
     "metadata": {},
     "output_type": "execute_result"
    }
   ],
   "source": [
    "%%time\n",
    "# С лемматизацией\n",
    "train_vectorized(LogisticRegression(class_weight='balanced'), lemm_func=WordNetLemmatizer().lemmatize, vectorizer=CountVectorizer)"
   ]
  },
  {
   "cell_type": "markdown",
   "metadata": {},
   "source": [
    "- Лемматизация по какой-то причине выполняется быстрее, чем стемминг.\n",
    "- Однако качество ответов стало ещё хуже.\n",
    "\n",
    "У нас есть дополнительный признак - количество восклицательных знаков. Попробуем включить его в наши признаки и обучить модель без лемматизации."
   ]
  },
  {
   "cell_type": "code",
   "execution_count": 46,
   "metadata": {},
   "outputs": [
    {
     "name": "stdout",
     "output_type": "stream",
     "text": [
      "splitting into train-test...\n",
      "data split into shapes:\n",
      "(119678,)\n",
      "(39893,)\n",
      "(119678,)\n",
      "(39893,)\n",
      "(119678,)\n",
      "(39893,)\n",
      "vectorizing...\n"
     ]
    },
    {
     "data": {
      "text/plain": [
       "<119678x159225 sparse matrix of type '<class 'numpy.int64'>'\n",
       "\twith 3382155 stored elements in Compressed Sparse Row format>"
      ]
     },
     "metadata": {},
     "output_type": "display_data"
    },
    {
     "name": "stdout",
     "output_type": "stream",
     "text": [
      "cross-validating...\n"
     ]
    },
    {
     "data": {
      "text/plain": [
       "{'fit_time': 6.620325406392415,\n",
       " 'cv_score': 0.7551272997261606,\n",
       " 'test_score': 0.7634613231837007}"
      ]
     },
     "execution_count": 46,
     "metadata": {},
     "output_type": "execute_result"
    }
   ],
   "source": [
    "%%time\n",
    "# С восклицательными знаками\n",
    "train_vectorized(LogisticRegression(class_weight='balanced'), vectorizer=CountVectorizer, with_exclamations=True)"
   ]
  },
  {
   "cell_type": "markdown",
   "metadata": {},
   "source": [
    "- В качестве конкурента для логистической регрессии интересно будет попробовать модель градиентного бустинга.\n",
    "- `LightGBM` был бы предпочтителен засчёт своей скорости, но он не справляется с задачей и выдаёт ошибку.\n",
    "- Поэтому мы воспользуемся `CatBoost`.\n",
    "\n",
    "Чтобы не повторяться в выполнении кода (очень долго), мы прочитаем результаты работы нашего `CatBoost` из файла, а сам код приложим в виде текста."
   ]
  },
  {
   "cell_type": "markdown",
   "metadata": {},
   "source": [
    "```\n",
    "from catboost import CatBoostClassifier\n",
    "catboost_results = train_vectorized(CatBoostClassifier(), vectorizer=CountVectorizer)\n",
    "```"
   ]
  },
  {
   "cell_type": "code",
   "execution_count": 32,
   "metadata": {},
   "outputs": [
    {
     "data": {
      "text/plain": [
       "{'fit_time': 911.5822908878326,\n",
       " 'cv_score': 0.7090926009147269,\n",
       " 'test_score': 0.724812472422415}"
      ]
     },
     "execution_count": 32,
     "metadata": {},
     "output_type": "execute_result"
    }
   ],
   "source": [
    "# Результаты работы CatBoost\n",
    "joblib.load('resources/catboost_results')"
   ]
  },
  {
   "cell_type": "markdown",
   "metadata": {},
   "source": [
    "Как видим, обучение заняло очень много времени в сравнении с линейной моделью, а качество ответов оказалось недостаточным.\n",
    "\n",
    "У нас возникла идея обучить наивного Байеса: вполне логично, что наличие определённых слов и делает текст токсичным."
   ]
  },
  {
   "cell_type": "code",
   "execution_count": 34,
   "metadata": {},
   "outputs": [],
   "source": [
    "from sklearn.naive_bayes import BernoulliNB"
   ]
  },
  {
   "cell_type": "code",
   "execution_count": 35,
   "metadata": {},
   "outputs": [
    {
     "name": "stdout",
     "output_type": "stream",
     "text": [
      "splitting into train-test...\n",
      "data split into shapes:\n",
      "(119678,)\n",
      "(39893,)\n",
      "(119678,)\n",
      "(39893,)\n",
      "(119678,)\n",
      "(39893,)\n",
      "vectorizing...\n"
     ]
    },
    {
     "data": {
      "text/plain": [
       "<119678x159224 sparse matrix of type '<class 'numpy.int64'>'\n",
       "\twith 3364948 stored elements in Compressed Sparse Row format>"
      ]
     },
     "metadata": {},
     "output_type": "display_data"
    },
    {
     "name": "stdout",
     "output_type": "stream",
     "text": [
      "cross-validating...\n",
      "CPU times: user 7.21 s, sys: 454 ms, total: 7.66 s\n",
      "Wall time: 9.25 s\n"
     ]
    },
    {
     "data": {
      "text/plain": [
       "{'fit_time': 0.25626373291015625,\n",
       " 'cv_score': 0.43786055380977706,\n",
       " 'test_score': 0.6656612878902126}"
      ]
     },
     "execution_count": 35,
     "metadata": {},
     "output_type": "execute_result"
    }
   ],
   "source": [
    "%%time\n",
    "train_vectorized(BernoulliNB(), vectorizer=CountVectorizer)"
   ]
  },
  {
   "cell_type": "markdown",
   "metadata": {},
   "source": [
    "Байес обучился молниеносно, но качество ответов не удовлетворяет нашему условию. Возможно, что на более простых текстах такая модель оказалась бы исключительно эффективной."
   ]
  },
  {
   "cell_type": "markdown",
   "metadata": {},
   "source": [
    "#### Промежуточный вывод\n",
    "- Логистическая регрессия и мешок слов дают **достаточную F1** на тестовой выборке и при кросс-валидации, но важно понимать: малейший шум - и F1 будет ниже 0.75.\n",
    "- Лемматизация и стемминг пока что **не оправдали себя**, как и восклицательные знаки в качестве признака.\n",
    "- Классификатор CatBoost учится очень долго и при этом оказывается менее эффективным: такой расклад не окупает затраченное время.\n",
    "- Наивный Байес даёт не очень хороший результат, но зато работает быстрее остальных моделей.\n",
    "\n",
    "Пришло время попробовать другую технику векторизации."
   ]
  },
  {
   "cell_type": "markdown",
   "metadata": {},
   "source": [
    "---"
   ]
  },
  {
   "cell_type": "markdown",
   "metadata": {},
   "source": [
    "#### TF-IDF\n",
    "Теперь мы будем пользоваться значением **TF-IDF**, которое послужит своеобразной *количественной* значимостью каждого слова во всём корпусе:\n",
    "- Чем выше значение, тем более выдающимся то или иное слово будет для корпуса.\n",
    "- Так мы сможем оценить наиболее экзотичные слова, а часто используемые слова будут иметь меньшую ценность."
   ]
  },
  {
   "cell_type": "code",
   "execution_count": 37,
   "metadata": {},
   "outputs": [
    {
     "name": "stdout",
     "output_type": "stream",
     "text": [
      "splitting into train-test...\n",
      "data split into shapes:\n",
      "(119678,)\n",
      "(39893,)\n",
      "(119678,)\n",
      "(39893,)\n",
      "(119678,)\n",
      "(39893,)\n",
      "vectorizing...\n"
     ]
    },
    {
     "data": {
      "text/plain": [
       "<119678x159224 sparse matrix of type '<class 'numpy.float64'>'\n",
       "\twith 3364948 stored elements in Compressed Sparse Row format>"
      ]
     },
     "metadata": {},
     "output_type": "display_data"
    },
    {
     "name": "stdout",
     "output_type": "stream",
     "text": [
      "cross-validating...\n",
      "CPU times: user 20.8 s, sys: 497 ms, total: 21.3 s\n",
      "Wall time: 15.5 s\n"
     ]
    },
    {
     "data": {
      "text/plain": [
       "{'fit_time': 3.6435035864512124,\n",
       " 'cv_score': 0.7479330887211629,\n",
       " 'test_score': 0.757901596611274}"
      ]
     },
     "execution_count": 37,
     "metadata": {},
     "output_type": "execute_result"
    }
   ],
   "source": [
    "%%time\n",
    "# Базовая TF-IDF\n",
    "train_vectorized(LogisticRegression(class_weight='balanced'), vectorizer=TfidfVectorizer)"
   ]
  },
  {
   "cell_type": "markdown",
   "metadata": {},
   "source": [
    "- Векторизация происходит быстрее, чем с `CountVectorizer`.\n",
    "- F1 на тестовой выборке достаточная, а вот кросс-валидация заставляет задуматься. И обучение происходит быстрее, чем на BOW. Посмотрим, помогут ли здесь наши восклицательные знаки."
   ]
  },
  {
   "cell_type": "code",
   "execution_count": 38,
   "metadata": {},
   "outputs": [
    {
     "name": "stdout",
     "output_type": "stream",
     "text": [
      "splitting into train-test...\n",
      "data split into shapes:\n",
      "(119678,)\n",
      "(39893,)\n",
      "(119678,)\n",
      "(39893,)\n",
      "(119678,)\n",
      "(39893,)\n",
      "vectorizing...\n"
     ]
    },
    {
     "data": {
      "text/plain": [
       "<119678x159225 sparse matrix of type '<class 'numpy.float64'>'\n",
       "\twith 3382155 stored elements in Compressed Sparse Row format>"
      ]
     },
     "metadata": {},
     "output_type": "display_data"
    },
    {
     "name": "stdout",
     "output_type": "stream",
     "text": [
      "cross-validating...\n"
     ]
    },
    {
     "data": {
      "text/plain": [
       "{'fit_time': 3.9175167083740234,\n",
       " 'cv_score': 0.7463850163058016,\n",
       " 'test_score': 0.7576968780382413}"
      ]
     },
     "execution_count": 38,
     "metadata": {},
     "output_type": "execute_result"
    }
   ],
   "source": [
    "%%time\n",
    "# С восклицательными знаками\n",
    "train_vectorized(LogisticRegression(class_weight='balanced'), vectorizer=TfidfVectorizer, with_exclamations=True)"
   ]
  },
  {
   "cell_type": "markdown",
   "metadata": {},
   "source": [
    "Как и в предыдущий раз, восклицательные знаки ухудшили предсказания."
   ]
  },
  {
   "cell_type": "code",
   "execution_count": 39,
   "metadata": {},
   "outputs": [
    {
     "name": "stdout",
     "output_type": "stream",
     "text": [
      "lemmatizing...\n",
      "splitting into train-test...\n",
      "data split into shapes:\n",
      "(119678,)\n",
      "(39893,)\n",
      "(119678,)\n",
      "(39893,)\n",
      "(119678,)\n",
      "(39893,)\n",
      "vectorizing...\n"
     ]
    },
    {
     "data": {
      "text/plain": [
       "<119678x127617 sparse matrix of type '<class 'numpy.float64'>'\n",
       "\twith 3296090 stored elements in Compressed Sparse Row format>"
      ]
     },
     "metadata": {},
     "output_type": "display_data"
    },
    {
     "name": "stdout",
     "output_type": "stream",
     "text": [
      "cross-validating...\n"
     ]
    },
    {
     "data": {
      "text/plain": [
       "{'fit_time': 3.0886523723602295,\n",
       " 'cv_score': 0.7486729051321889,\n",
       " 'test_score': 0.7582642403359535}"
      ]
     },
     "execution_count": 39,
     "metadata": {},
     "output_type": "execute_result"
    }
   ],
   "source": [
    "%%time\n",
    "# Пробуем стемминг\n",
    "train_vectorized(LogisticRegression(class_weight='balanced'), vectorizer=TfidfVectorizer, lemm_func=SnowballStemmer('english').stem)"
   ]
  },
  {
   "cell_type": "markdown",
   "metadata": {},
   "source": [
    "Результаты слегка улучшились, но средняя F1 при кросс-валидации по-прежнему ниже требуемого значения."
   ]
  },
  {
   "cell_type": "code",
   "execution_count": 40,
   "metadata": {},
   "outputs": [
    {
     "name": "stdout",
     "output_type": "stream",
     "text": [
      "lemmatizing...\n",
      "splitting into train-test...\n",
      "data split into shapes:\n",
      "(119678,)\n",
      "(39893,)\n",
      "(119678,)\n",
      "(39893,)\n",
      "(119678,)\n",
      "(39893,)\n",
      "vectorizing...\n"
     ]
    },
    {
     "data": {
      "text/plain": [
       "<119678x150181 sparse matrix of type '<class 'numpy.float64'>'\n",
       "\twith 3366480 stored elements in Compressed Sparse Row format>"
      ]
     },
     "metadata": {},
     "output_type": "display_data"
    },
    {
     "name": "stdout",
     "output_type": "stream",
     "text": [
      "cross-validating...\n"
     ]
    },
    {
     "data": {
      "text/plain": [
       "{'fit_time': 3.822201728820801,\n",
       " 'cv_score': 0.7434745940532781,\n",
       " 'test_score': 0.7518796992481204}"
      ]
     },
     "execution_count": 40,
     "metadata": {},
     "output_type": "execute_result"
    }
   ],
   "source": [
    "%%time\n",
    "# Пробуем лемматизацию\n",
    "train_vectorized(LogisticRegression(class_weight='balanced'), vectorizer=TfidfVectorizer, lemm_func=WordNetLemmatizer().lemmatize, with_exclamations=True)"
   ]
  },
  {
   "cell_type": "markdown",
   "metadata": {},
   "source": [
    "Лемматизация снова сделала хуже, чем при базовых параметрах."
   ]
  },
  {
   "cell_type": "markdown",
   "metadata": {},
   "source": [
    "### Выводы и наблюдения\n",
    "- Пока что мы склоняемся к использованию `CountVectorizer`, потому что с этим способом кодирования признаков средняя F1 при кросс-валидации и F1 на тестовой выборке **не падают ниже** *0.75*, даже если мы что-то делаем с данными.\n",
    "- Стемминг ухудшил результаты в случае с мешком слов, а с TF-IDF - слегка улучшил. Лемматизация в обоих случаях сделала хуже.\n",
    "- Положительный аспект стемминга - количество слов при векторизации заметно сокращается, потому что похожие слова считаются как одно. Лемматизация знает больше разных форм слов, поэтому и слов остаётся больше.\n",
    "- Исходя из вышесказанного, стемминг уместен в том случае, если нам нужен более компактный набор данных.\n",
    "- Восклицательные знаки как признак не сыграли большой роли для качества предсказаний, и мы установили это опытным путём.\n",
    "- Пока что **лучший результат** дают ***логистическая регрессия и мешок слов без каких-либо дополнительных действий***."
   ]
  },
  {
   "cell_type": "markdown",
   "metadata": {},
   "source": [
    "---"
   ]
  },
  {
   "cell_type": "markdown",
   "metadata": {},
   "source": [
    "### \\*Классификация на эмбеддингах BERT\n",
    "Посмотрим, получится ли улучшить результаты, если мы преобразуем признаки с помощью модели **BERT**."
   ]
  },
  {
   "cell_type": "code",
   "execution_count": 15,
   "metadata": {},
   "outputs": [],
   "source": [
    "import transformers\n",
    "import torch\n",
    "from transformers import BertModel, BertConfig"
   ]
  },
  {
   "cell_type": "code",
   "execution_count": 16,
   "metadata": {},
   "outputs": [],
   "source": [
    "# Загрузим предобученный англоязычный токенизатор\n",
    "tokenizer = transformers.BertTokenizer.from_pretrained('bert-large-uncased')"
   ]
  },
  {
   "cell_type": "markdown",
   "metadata": {},
   "source": [
    "У нас ограничена вычислительная мощность, поэтому испытаем данный метод на не очень большой случайной выборке текстов."
   ]
  },
  {
   "cell_type": "code",
   "execution_count": 68,
   "metadata": {},
   "outputs": [],
   "source": [
    "# Зададим размер выборки\n",
    "sample_size = 5000\n",
    "\n",
    "# Зафиксируем псевдослучайность\n",
    "r_state=0\n",
    "# Возьмём случайные объекты из корпуса\n",
    "corpus_sample = corpus.sample(sample_size, random_state=r_state).reset_index(drop=True)\n",
    "# Аналогично возьмём случайные ответы\n",
    "target_sample = pd.Series(target).sample(sample_size, random_state=r_state).reset_index(drop=True)"
   ]
  },
  {
   "cell_type": "markdown",
   "metadata": {},
   "source": [
    "Воспользуемся функцией для создания BERT-токенов из текстов.\n",
    "\n",
    "\\*У нас возникла проблема с количеством токенов в некоторых текстах корпуса: максимально допустимое число токенов в модели BERT - *512*. Поэтому мы обрежем тексты до 512 токенов."
   ]
  },
  {
   "cell_type": "code",
   "execution_count": 69,
   "metadata": {},
   "outputs": [],
   "source": [
    "import logging\n",
    "# Отключим предупреждения\n",
    "logging.getLogger('transformers.tokenization_utils').setLevel(logging.ERROR)"
   ]
  },
  {
   "cell_type": "code",
   "execution_count": 70,
   "metadata": {},
   "outputs": [],
   "source": [
    "def bert_pad(text, max_len=512, attention_mask=True):\n",
    "    \"\"\"Выполняет токенизацию с помощью BERT, дополняет короткие объекты нулями до max_len\"\"\" \n",
    "    # Токенизация\n",
    "    tokened = tokenizer.encode(text, add_special_tokens=True, max_length=max_len)\n",
    "    # Заполняем оставшиеся значения нулями\n",
    "    return np.array(tokened + [0] * (max_len - len(tokened)))"
   ]
  },
  {
   "cell_type": "markdown",
   "metadata": {},
   "source": [
    "Представим корпус в виде токенов BERT."
   ]
  },
  {
   "cell_type": "code",
   "execution_count": 71,
   "metadata": {},
   "outputs": [
    {
     "data": {
      "application/vnd.jupyter.widget-view+json": {
       "model_id": "58e4e7f8d8e04b8b8560a41f905cac22",
       "version_major": 2,
       "version_minor": 0
      },
      "text/plain": [
       "HBox(children=(HTML(value=''), FloatProgress(value=0.0, max=5000.0), HTML(value='')))"
      ]
     },
     "metadata": {},
     "output_type": "display_data"
    },
    {
     "name": "stdout",
     "output_type": "stream",
     "text": [
      "\n"
     ]
    },
    {
     "data": {
      "text/plain": [
       "(5000, 512)"
      ]
     },
     "execution_count": 71,
     "metadata": {},
     "output_type": "execute_result"
    }
   ],
   "source": [
    "# Запишем токены в список\n",
    "berted = []\n",
    "for i in tqdm_notebook(iterable=range(corpus_sample.shape[0])):\n",
    "    berted.append(bert_pad(corpus_sample[i]))\n",
    "\n",
    "# Соединим в массив\n",
    "berted = np.vstack(berted)\n",
    "berted.shape"
   ]
  },
  {
   "cell_type": "markdown",
   "metadata": {},
   "source": [
    "Теперь нам необходимо сделать маску для массива."
   ]
  },
  {
   "cell_type": "code",
   "execution_count": 72,
   "metadata": {},
   "outputs": [
    {
     "data": {
      "text/plain": [
       "array([1, 1, 1, 1, 1, 1, 1, 1, 1, 1, 1, 1, 1, 1, 1, 1, 1, 1, 1, 1, 1, 1,\n",
       "       1, 1, 1, 1, 1, 1, 1, 1, 1, 1, 1, 1, 1, 1, 1, 1, 1, 1, 1, 1, 1, 1,\n",
       "       1, 1, 1, 1, 1, 1, 1, 1, 1, 1, 1, 1, 1, 1, 1, 1, 1, 1, 0, 0, 0, 0,\n",
       "       0, 0, 0, 0, 0, 0, 0, 0, 0, 0, 0, 0, 0, 0])"
      ]
     },
     "execution_count": 72,
     "metadata": {},
     "output_type": "execute_result"
    }
   ],
   "source": [
    "att_mask = np.where(berted != 0, 1, 0)\n",
    "att_mask[0, :80]"
   ]
  },
  {
   "cell_type": "markdown",
   "metadata": {},
   "source": [
    "Маска создана верно, и мы можем сгенерировать из закодированных слов эмбеддинги с помощью модели BERT."
   ]
  },
  {
   "cell_type": "code",
   "execution_count": 73,
   "metadata": {},
   "outputs": [],
   "source": [
    "bert_model = BertModel.from_pretrained('bert-large-uncased')"
   ]
  },
  {
   "cell_type": "markdown",
   "metadata": {},
   "source": [
    "Преобразуем данные и маску в тензоры для совместимости с PyTorch."
   ]
  },
  {
   "cell_type": "code",
   "execution_count": 74,
   "metadata": {},
   "outputs": [
    {
     "data": {
      "text/plain": [
       "tensor([[ 101, 1045, 4033,  ...,    0,    0,    0],\n",
       "        [ 101, 1045, 8534,  ...,    0,    0,    0],\n",
       "        [ 101, 1045, 1049,  ...,    0,    0,    0]])"
      ]
     },
     "metadata": {},
     "output_type": "display_data"
    },
    {
     "data": {
      "text/plain": [
       "tensor([[1, 1, 1,  ..., 0, 0, 0],\n",
       "        [1, 1, 1,  ..., 0, 0, 0],\n",
       "        [1, 1, 1,  ..., 0, 0, 0]], dtype=torch.int32)"
      ]
     },
     "execution_count": 74,
     "metadata": {},
     "output_type": "execute_result"
    }
   ],
   "source": [
    "berted_tensor = torch.LongTensor(berted)\n",
    "display(berted_tensor[:3])\n",
    "mask_tensor = torch.IntTensor(att_mask)\n",
    "mask_tensor[:3]"
   ]
  },
  {
   "cell_type": "markdown",
   "metadata": {},
   "source": [
    "Будем извлекать из слов эмбеддинги поэлементно. Записывать их будем в файл."
   ]
  },
  {
   "cell_type": "code",
   "execution_count": 75,
   "metadata": {},
   "outputs": [
    {
     "data": {
      "application/vnd.jupyter.widget-view+json": {
       "model_id": "7dd91bc3280f474fba2d1caea2e2356a",
       "version_major": 2,
       "version_minor": 0
      },
      "text/plain": [
       "HBox(children=(HTML(value=''), FloatProgress(value=0.0, max=5000.0), HTML(value='')))"
      ]
     },
     "metadata": {},
     "output_type": "display_data"
    },
    {
     "name": "stdout",
     "output_type": "stream",
     "text": [
      "\n",
      "CPU times: user 11h 50min 27s, sys: 21min 42s, total: 12h 12min 10s\n",
      "Wall time: 3h 4min 31s\n"
     ]
    }
   ],
   "source": [
    "%%time\n",
    "with open('resources/embeddings', 'w') as embeddings:\n",
    "    with torch.no_grad():\n",
    "        for i in notebook.tqdm(range(berted_tensor.shape[0])):\n",
    "            # Добавляем в список эмбеддинги из батча\n",
    "            mask_tensor[i]\n",
    "            bert_model(berted_tensor[i].reshape(1, -1),\n",
    "                       attention_mask=mask_tensor[i].reshape(1, -1))[0][:, 0, :].numpy().tofile(embeddings, ', ')\n",
    "            embeddings.write('\\n')"
   ]
  },
  {
   "cell_type": "markdown",
   "metadata": {},
   "source": [
    "- Наши пробные BERT-признаки теперь сохранены в файле `embeddings`.\n",
    "- 5000 объектов заняли три часа, а у нас их в 30+ раз больше: если потребуется обсчитать все объекты, здесь не обойдётся без мощного компьютера.\n",
    "- Файл с эмбеддингами занимает 107 Мб."
   ]
  },
  {
   "cell_type": "code",
   "execution_count": 169,
   "metadata": {},
   "outputs": [
    {
     "data": {
      "text/plain": [
       "(5000, 1024)"
      ]
     },
     "execution_count": 169,
     "metadata": {},
     "output_type": "execute_result"
    }
   ],
   "source": [
    "# Загрузим эмбеддинги из нашего файла\n",
    "bert_features = np.loadtxt('../../embeddings', delimiter=', ')\n",
    "bert_features.shape"
   ]
  },
  {
   "cell_type": "markdown",
   "metadata": {},
   "source": [
    "- У нас получилось не так много объектов.\n",
    "- Качество ответов на тестовой выборке сильно **зависит от случайности**,\n",
    "- Поэтому мы **получим распределение** F1 кросс-валидацией и проанализируем его."
   ]
  },
  {
   "cell_type": "code",
   "execution_count": 111,
   "metadata": {},
   "outputs": [],
   "source": [
    "# Выполним кросс-валидацию\n",
    "bert_cv = cross_validate(LogisticRegression(class_weight='balanced'),\n",
    "                         bert_features, target_sample,\n",
    "                         scoring='f1', cv=25)"
   ]
  },
  {
   "cell_type": "code",
   "execution_count": 112,
   "metadata": {},
   "outputs": [],
   "source": [
    "# Запишем распределение F1 в переменную\n",
    "cv_scores = np.array(bert_cv['test_score'])"
   ]
  },
  {
   "cell_type": "code",
   "execution_count": 113,
   "metadata": {},
   "outputs": [
    {
     "data": {
      "image/png": "[encoded data removed]",
      "text/plain": [
       "<Figure size 2700x720 with 1 Axes>"
      ]
     },
     "metadata": {
      "needs_background": "light"
     },
     "output_type": "display_data"
    }
   ],
   "source": [
    "# Нарисуем гистограмму\n",
    "plt.figure(figsize=(15, 4), dpi=180)\n",
    "sns.distplot(cv_scores, bins=20)\n",
    "plt.axvline(np.median(cv_scores), label=f'Средняя F1 = {np.mean(cv_scores):.2}', ls='--', c='g')\n",
    "plt.xlabel('F1'); plt.ylabel('Частотность')\n",
    "plt.suptitle('F1 логистической регрессии, обученной на эмбеддингах BERT')\n",
    "plt.legend()\n",
    "plt.show()\n",
    "plt.close()"
   ]
  },
  {
   "cell_type": "markdown",
   "metadata": {},
   "source": [
    "- Мы попробовали разное количество блоков для кросс-валидации, и средняя F1 оказывается в районе 0.65-0.66.\n",
    "- Сложно однозначно сказать, даёт обучение на BERT хорошие или плохие результаты: распределение имеет размах в ~0.3.\n",
    "- Возможно, если бы мы обучили модель на всём наборе данных, а не всего на 5000, наши предсказания превзошли бы все ожидания.\n",
    "- Сделаем вывод, что BERT - хорошая задумка, но задача, которая перед нами стоит, выполняется при помощи более легковесных и быстрых решений."
   ]
  },
  {
   "cell_type": "markdown",
   "metadata": {},
   "source": [
    "---"
   ]
  },
  {
   "cell_type": "markdown",
   "metadata": {},
   "source": [
    "## 3. Обучение финальной модели\n",
    "\n",
    "Мы испытали три способа преобразования текстов для машинного обучения, и пока что наиболее надёжным вариантом выглядит логистическая регрессия с преобразованием мешка слов. Но мы не ещё не оптимизировали **гиперпараметры**, а значит, что есть шанс приподнять планку F1."
   ]
  },
  {
   "cell_type": "code",
   "execution_count": 114,
   "metadata": {},
   "outputs": [],
   "source": [
    "from sklearn.model_selection import GridSearchCV"
   ]
  },
  {
   "cell_type": "code",
   "execution_count": 115,
   "metadata": {},
   "outputs": [
    {
     "name": "stdout",
     "output_type": "stream",
     "text": [
      "(127656,)\n",
      "(31915,)\n",
      "(127656,)\n",
      "(31915,)\n"
     ]
    }
   ],
   "source": [
    "# Делим на выборки\n",
    "xtr_final, xts_final, ytr_final, yts_final = train_test_split(corpus, target, random_state=0, test_size=0.2)\n",
    "for df in (xtr_final, xts_final, ytr_final, yts_final):\n",
    "    print(df.shape)"
   ]
  },
  {
   "cell_type": "code",
   "execution_count": 116,
   "metadata": {},
   "outputs": [],
   "source": [
    "# Векторизуем тексты\n",
    "cvect = CountVectorizer(stop_words=stop_en)\n",
    "xtr_final = cvect.fit_transform(xtr_final)\n",
    "xts_final = cvect.transform(xts_final)"
   ]
  },
  {
   "cell_type": "markdown",
   "metadata": {},
   "source": [
    "Лемматизацию и восклицательные знаки делать не будем. Эти операции не будут иметь большого смысла."
   ]
  },
  {
   "cell_type": "code",
   "execution_count": 117,
   "metadata": {},
   "outputs": [],
   "source": [
    "# Обучаем GridSearch\n",
    "log_final = GridSearchCV(LogisticRegression(),\n",
    "                        {'class_weight': ['balanced', None],\n",
    "                         'solver': ['liblinear', 'newton-cg', 'sag', 'saga', 'lbfgs'],\n",
    "                         'C': np.arange(0.1, 1.1, 0.1)},\n",
    "                         scoring='f1', cv=3)"
   ]
  },
  {
   "cell_type": "code",
   "execution_count": 119,
   "metadata": {},
   "outputs": [
    {
     "data": {
      "text/plain": [
       "GridSearchCV(cv=3, error_score=nan,\n",
       "             estimator=LogisticRegression(C=1.0, class_weight=None, dual=False,\n",
       "                                          fit_intercept=True,\n",
       "                                          intercept_scaling=1, l1_ratio=None,\n",
       "                                          max_iter=100, multi_class='auto',\n",
       "                                          n_jobs=None, penalty='l2',\n",
       "                                          random_state=None, solver='lbfgs',\n",
       "                                          tol=0.0001, verbose=0,\n",
       "                                          warm_start=False),\n",
       "             iid='deprecated', n_jobs=None,\n",
       "             param_grid={'C': array([0.1, 0.2, 0.3, 0.4, 0.5, 0.6, 0.7, 0.8, 0.9, 1. ]),\n",
       "                         'class_weight': ['balanced', None],\n",
       "                         'solver': ['liblinear', 'newton-cg', 'sag', 'saga',\n",
       "                                    'lbfgs']},\n",
       "             pre_dispatch='2*n_jobs', refit=True, return_train_score=False,\n",
       "             scoring='f1', verbose=0)"
      ]
     },
     "execution_count": 119,
     "metadata": {},
     "output_type": "execute_result"
    }
   ],
   "source": [
    "log_final.fit(xtr_final, ytr_final)"
   ]
  },
  {
   "cell_type": "code",
   "execution_count": 120,
   "metadata": {},
   "outputs": [
    {
     "data": {
      "text/plain": [
       "0.7608562579553576"
      ]
     },
     "execution_count": 120,
     "metadata": {},
     "output_type": "execute_result"
    }
   ],
   "source": [
    "# Смотрим на лучший результат кросс-валидации\n",
    "log_final.best_score_"
   ]
  },
  {
   "cell_type": "markdown",
   "metadata": {},
   "source": [
    "Впечатляет. Такого уверенного результата на кросс-валидации ещё не было. Теперь на тестовой выборке."
   ]
  },
  {
   "cell_type": "code",
   "execution_count": 121,
   "metadata": {},
   "outputs": [
    {
     "data": {
      "text/plain": [
       "0.7698412698412698"
      ]
     },
     "execution_count": 121,
     "metadata": {},
     "output_type": "execute_result"
    }
   ],
   "source": [
    "# F1 на тестовой выборке\n",
    "f1_score(yts_final, log_final.predict(xts_final))"
   ]
  },
  {
   "cell_type": "markdown",
   "metadata": {},
   "source": [
    "Этим всё сказано."
   ]
  },
  {
   "cell_type": "markdown",
   "metadata": {},
   "source": [
    "---"
   ]
  },
  {
   "cell_type": "markdown",
   "metadata": {},
   "source": [
    "## 4. Общий вывод\n",
    "- Нашей задачей было обучение модели-классификатора, которая сумеет выявить токсичные комментарии.\n",
    "- Мы подготовили текст к векторизации, убрав из него все символы с помощью регулярных выражений.\n",
    "- Испытали два основных подхода к векторизации текстов:\n",
    "    - **\"Мешок слов\"** - кодирование встречаемости каждого слова в предложении.\n",
    "    - **TF-IDF** - частота слова в тексте и его \"необычность\" во всём корпусе.\n",
    "- Увидели, как влияет на предсказания **стемминг и лемматизация**. А также их отсутствие.\n",
    "    - Стемминг даёт небольшой прирост к точности TF-IDF и заметно сокращает количество признаков.\n",
    "    - Лемматизация не несёт особой пользы, но работает немного быстрее, чем стемминг.\n",
    "- Мы также выделили количество восклицательных знаков в тексте как **дополнительный признак**, но это практически не повлияло на качество предсказаний.\n",
    "- В качестве эксперимента мы обучили логистическую регрессию на **эмбеддингах**, полученных с помощью модели BERT.\n",
    "    - Проблемой стало то, что BERT не работает с объектами длиннее 512 элементов. Поэтому часть данных могла потеряться.\n",
    "    - Генерация эмбеддингов занимает **огромное количество времени**.\n",
    "    - F1 логистической регрессии, обученной на эмбеддингах, варьируется в диапазоне от *~0.5* до *~0.8*.\n",
    "    - **Количество объектов**, которое даёт такой результат, **во много раз меньше**, чем общее число объектов, на котором мы обучали модель с BOW и TF-IDF.\n",
    "\n",
    "### Итог:\n",
    "Мы остановились на том, чтобы взять за основу BOW-векторизацию текстов, обучили логистическую регрессию с подбором гиперпараметров и получили ***F1 = 0.769***. Условие проекта выполнено."
   ]
  },
  {
   "cell_type": "markdown",
   "metadata": {},
   "source": [
    "---"
   ]
  }
 ],
 "metadata": {
  "kernelspec": {
   "display_name": "Python 3",
   "language": "python",
   "name": "python3"
  },
  "language_info": {
   "codemirror_mode": {
    "name": "ipython",
    "version": 3
   },
   "file_extension": ".py",
   "mimetype": "text/x-python",
   "name": "python",
   "nbconvert_exporter": "python",
   "pygments_lexer": "ipython3",
   "version": "3.7.8"
  }
 },
 "nbformat": 4,
 "nbformat_minor": 4
}
